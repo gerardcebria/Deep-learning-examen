{
  "nbformat": 4,
  "nbformat_minor": 5,
  "metadata": {
    "kernelspec": {
      "display_name": "Python 3",
      "language": "python",
      "name": "python3"
    },
    "language_info": {
      "codemirror_mode": {
        "name": "ipython",
        "version": 3
      },
      "file_extension": ".py",
      "mimetype": "text/x-python",
      "name": "python",
      "nbconvert_exporter": "python",
      "pygments_lexer": "ipython3",
      "version": "3.8.8"
    },
    "latex_envs": {
      "LaTeX_envs_menu_present": true,
      "autoclose": false,
      "autocomplete": true,
      "bibliofile": "biblio.bib",
      "cite_by": "apalike",
      "current_citInitial": 1,
      "eqLabelWithNumbers": true,
      "eqNumInitial": 1,
      "hotkeys": {
        "equation": "Ctrl-E",
        "itemize": "Ctrl-I"
      },
      "labels_anchors": false,
      "latex_user_defs": false,
      "report_style_numbering": false,
      "user_envs_cfg": false
    },
    "colab": {
      "name": "Examen.ipynb",
      "provenance": [],
      "include_colab_link": true
    }
  },
  "cells": [
    {
      "cell_type": "markdown",
      "metadata": {
        "id": "view-in-github",
        "colab_type": "text"
      },
      "source": [
        "<a href=\"https://colab.research.google.com/github/gerardcebria/Deep-learning-examen/blob/main/Examen.ipynb\" target=\"_parent\"><img src=\"https://colab.research.google.com/assets/colab-badge.svg\" alt=\"Open In Colab\"/></a>"
      ]
    },
    {
      "cell_type": "markdown",
      "metadata": {
        "id": "prospective-america"
      },
      "source": [
        "Dado que el entrenamiento de redes neuronales es una tarea  muy costosa, **se recomienda ejecutar el notebooks en [Google Colab](https://colab.research.google.com)**, por supuesto también se puede ejecutar en local.\n",
        "\n",
        "Al entrar en [Google Colab](https://colab.research.google.com) bastará con hacer click en `upload` y subir este notebook. No olvide luego descargarlo en `File->Download .ipynb`\n",
        "\n",
        "**El examen deberá ser entregado con las celdas ejecutadas, si alguna celda no está ejecutadas no se contará.**"
      ],
      "id": "prospective-america"
    },
    {
      "cell_type": "markdown",
      "metadata": {
        "id": "novel-stewart"
      },
      "source": [
        "El examen se divide en tres partes, con la puntuación que se indica a continuación. La puntuación máxima será 10.\n",
        "\n",
        "- [Actividad 1: Redes Densas](#actividad_1): 4 pts\n",
        "    - Correcta normalización: máximo de 0.25 pts\n",
        "    - [Cuestión 1](#1.1): 1 pt\n",
        "    - [Cuestión 2](#1.2): 1 pt\n",
        "    - [Cuestión 3](#1.3): 0.5 pts\n",
        "    - [Cuestión 4](#1.4): 0.25 pts\n",
        "    - [Cuestión 5](#1.5): 0.25 pts\n",
        "    - [Cuestión 6](#1.6): 0.25 pts\n",
        "    - [Cuestión 7](#1.7): 0.25 pts\n",
        "    - [Cuestión 8](#1.8): 0.25 pts\n",
        "\n",
        "\n",
        "- [Actividad 2: Redes Convolucionales](#actividad_2): 4 pts\n",
        "    - [Cuestión 1](#2.1): 1 pt\n",
        "    - [Cuestión 2](#2.2): 1.5 pt\n",
        "    - [Cuestión 3](#2.3): 0.5 pts\n",
        "    - [Cuestión 4](#2.4): 0.25 pts\n",
        "    - [Cuestión 5](#2.5): 0.25 pts\n",
        "    - [Cuestión 6](#2.6): 0.25 pts\n",
        "    - [Cuestión 7](#2.7): 0.25 pts\n",
        "    \n",
        "    \n",
        "- [Actividad 3: Redes Recurrentes](#actividad_3): 2 pts\n",
        "    - [Cuestión 1](#3.1): 0.5 pt\n",
        "    - [Cuestión 2](#3.2): 0.5 pt\n",
        "    - [Cuestión 3](#3.3): 0.5 pts\n",
        "    - [Cuestión 4](#3.4): 0.25 pts\n",
        "    - [Cuestión 5](#3.5): 0.25 pts\n",
        "\n"
      ],
      "id": "novel-stewart"
    },
    {
      "cell_type": "code",
      "metadata": {
        "id": "prompt-developer"
      },
      "source": [
        "import tensorflow as tf\n",
        "from tensorflow import keras\n",
        "from tensorflow.keras import layers\n",
        "import matplotlib.pyplot as plt\n",
        "import pandas as pd\n",
        "import numpy as np"
      ],
      "id": "prompt-developer",
      "execution_count": 1,
      "outputs": []
    },
    {
      "cell_type": "markdown",
      "metadata": {
        "id": "vocal-correction"
      },
      "source": [
        "<a name='actividad_1'></a>\n",
        "# Actividad 1: Redes Densas\n",
        "\n",
        "Para esta primera actividad vamos a utilizar el [boston housing dataset](https://www.cs.toronto.edu/~delve/data/boston/bostonDetail.html). Con el que trataremos de predecir el precio de una casa con 13 features.\n",
        "\n",
        "**Puntuación**: \n",
        "\n",
        "Normalizar las features correctamente (x_train, x_test): 0.1 pts , 0.25 si se normalizan con el [Normalization layer](https://www.tensorflow.org/api_docs/python/tf/keras/layers/experimental/preprocessing/Normalization) de Keras. Ejemplo de uso: [Introduction_to_RNN_Time_Series](https://github.com/ezponda/intro_deep_learning/blob/main/class/RNN/Introduction_to_RNN_Time_Series.ipynb)\n",
        "\n",
        "```python\n",
        "tf.keras.layers.experimental.preprocessing.Normalization(\n",
        "    axis=-1, dtype=None, mean=None, variance=None, **kwargs\n",
        ")\n",
        "```\n",
        "\n",
        "- Correcta normalización: máximo de 0.25 pts\n",
        "- [Cuestión 1](#1.1): 1 pt\n",
        "- [Cuestión 2](#1.2): 1 pt\n",
        "- [Cuestión 3](#1.3): 0.5 pts\n",
        "- [Cuestión 4](#1.4): 0.25 pts\n",
        "- [Cuestión 5](#1.5): 0.25 pts\n",
        "- [Cuestión 6](#1.6): 0.25 pts\n",
        "- [Cuestión 7](#1.7): 0.25 pts\n",
        "- [Cuestión 8](#1.8): 0.25 pts\n",
        "\n"
      ],
      "id": "vocal-correction"
    },
    {
      "cell_type": "code",
      "metadata": {
        "colab": {
          "base_uri": "https://localhost:8080/"
        },
        "id": "presidential-milan",
        "outputId": "a110df6e-09c2-42b3-b0ce-f0d36b7ee66c"
      },
      "source": [
        "(x_train, y_train), (x_test, y_test) = tf.keras.datasets.boston_housing.load_data(\n",
        "    path='boston_housing.npz',\n",
        "    test_split=0.2,\n",
        ")\n",
        "print('x_train, y_train shapes:', x_train.shape, y_train.shape)\n",
        "print('x_test, y_test shapes:', x_train.shape, y_train.shape)\n",
        "print('Some prices: ', y_train[:5])"
      ],
      "id": "presidential-milan",
      "execution_count": 2,
      "outputs": [
        {
          "output_type": "stream",
          "text": [
            "x_train, y_train shapes: (404, 13) (404,)\n",
            "x_test, y_test shapes: (404, 13) (404,)\n",
            "Some prices:  [15.2 42.3 50.  21.1 17.7]\n"
          ],
          "name": "stdout"
        }
      ]
    },
    {
      "cell_type": "code",
      "metadata": {
        "id": "painted-extreme"
      },
      "source": [
        "## Si quiere, puede normalizar las features\n",
        "norm = tf.keras.layers.experimental.preprocessing.Normalization(axis=-1)\n",
        "    #axis=-1, dtype=None, mean=None, variance=None\n",
        "#)\n",
        "norm.adapt(x_train)\n"
      ],
      "id": "painted-extreme",
      "execution_count": 5,
      "outputs": []
    },
    {
      "cell_type": "markdown",
      "metadata": {
        "id": "underlying-planner"
      },
      "source": [
        "<a name='1.1'></a>\n",
        "## Cuestión 1: Cree un modelo secuencial que contenga 4 capas ocultas(hidden layers), con más de 60 neuronas  por capa, sin regularización y obtenga los resultados.\n",
        "\n",
        "Puntuación: \n",
        "- Obtener el modelo correcto: 0.8 pts\n",
        "- Compilar el modelo: 0.1pts\n",
        "- Acertar con la función de pérdida: 0.1 pts"
      ],
      "id": "underlying-planner"
    },
    {
      "cell_type": "code",
      "metadata": {
        "id": "working-shade",
        "colab": {
          "base_uri": "https://localhost:8080/"
        },
        "outputId": "bb7e33ef-ae0d-4e40-e8a2-43c9a69fe5ab"
      },
      "source": [
        "model = tf.keras.models.Sequential()\n",
        "# Código aquí\n",
        "inputs = keras.Input(shape=(13, ), name=\"inputs\")\n",
        "l_1 = layers.Dense(61, activation='relu', name='layer_1')(inputs)\n",
        "l_2 = layers.Dense(61, activation='relu', name='layer_2')(l_1)\n",
        "l_3 = layers.Dense(61, activation='relu', name='layer_3')(l_2)\n",
        "l_4 = layers.Dense(61, activation='relu', name='layer_4')(l_3)\n",
        "\n",
        "outputs = layers.Dense(1, activation='linear', name='outputs')(l_4)\n",
        "\n",
        "model = keras.Model(inputs=inputs, outputs=outputs, name=\"model_1\")\n",
        "\n",
        "model.summary()\n",
        "\n",
        "\n"
      ],
      "id": "working-shade",
      "execution_count": 6,
      "outputs": [
        {
          "output_type": "stream",
          "text": [
            "Model: \"model_1\"\n",
            "_________________________________________________________________\n",
            "Layer (type)                 Output Shape              Param #   \n",
            "=================================================================\n",
            "inputs (InputLayer)          [(None, 13)]              0         \n",
            "_________________________________________________________________\n",
            "layer_1 (Dense)              (None, 61)                854       \n",
            "_________________________________________________________________\n",
            "layer_2 (Dense)              (None, 61)                3782      \n",
            "_________________________________________________________________\n",
            "layer_3 (Dense)              (None, 61)                3782      \n",
            "_________________________________________________________________\n",
            "layer_4 (Dense)              (None, 61)                3782      \n",
            "_________________________________________________________________\n",
            "outputs (Dense)              (None, 1)                 62        \n",
            "=================================================================\n",
            "Total params: 12,262\n",
            "Trainable params: 12,262\n",
            "Non-trainable params: 0\n",
            "_________________________________________________________________\n"
          ],
          "name": "stdout"
        }
      ]
    },
    {
      "cell_type": "code",
      "metadata": {
        "id": "mobile-change"
      },
      "source": [
        "# Compilación del modelo\n",
        "# Código aquí\n",
        "model.compile(\n",
        "    optimizer='adam',\n",
        "    loss='mae',\n",
        "    metrics=['accuracy']\n",
        "    )"
      ],
      "id": "mobile-change",
      "execution_count": 7,
      "outputs": []
    },
    {
      "cell_type": "code",
      "metadata": {
        "colab": {
          "base_uri": "https://localhost:8080/"
        },
        "id": "rotary-credits",
        "outputId": "639f7264-7c3a-4942-cb63-2ef8f2d22378"
      },
      "source": [
        "# No modifique el código\n",
        "model.fit(x_train,\n",
        "          y_train,\n",
        "          epochs=200,\n",
        "          batch_size=32,\n",
        "          validation_split=0.2,\n",
        "          verbose=1)"
      ],
      "id": "rotary-credits",
      "execution_count": 8,
      "outputs": [
        {
          "output_type": "stream",
          "text": [
            "Epoch 1/200\n",
            "11/11 [==============================] - 1s 22ms/step - loss: 27.1906 - accuracy: 0.0000e+00 - val_loss: 11.6795 - val_accuracy: 0.0000e+00\n",
            "Epoch 2/200\n",
            "11/11 [==============================] - 0s 5ms/step - loss: 9.3748 - accuracy: 0.0000e+00 - val_loss: 8.0354 - val_accuracy: 0.0000e+00\n",
            "Epoch 3/200\n",
            "11/11 [==============================] - 0s 5ms/step - loss: 7.5774 - accuracy: 0.0000e+00 - val_loss: 6.6994 - val_accuracy: 0.0000e+00\n",
            "Epoch 4/200\n",
            "11/11 [==============================] - 0s 5ms/step - loss: 6.7065 - accuracy: 0.0000e+00 - val_loss: 5.8123 - val_accuracy: 0.0000e+00\n",
            "Epoch 5/200\n",
            "11/11 [==============================] - 0s 5ms/step - loss: 6.4038 - accuracy: 0.0000e+00 - val_loss: 6.0810 - val_accuracy: 0.0000e+00\n",
            "Epoch 6/200\n",
            "11/11 [==============================] - 0s 5ms/step - loss: 5.3811 - accuracy: 0.0000e+00 - val_loss: 5.3792 - val_accuracy: 0.0000e+00\n",
            "Epoch 7/200\n",
            "11/11 [==============================] - 0s 5ms/step - loss: 4.8560 - accuracy: 0.0000e+00 - val_loss: 5.3746 - val_accuracy: 0.0000e+00\n",
            "Epoch 8/200\n",
            "11/11 [==============================] - 0s 5ms/step - loss: 5.2021 - accuracy: 0.0000e+00 - val_loss: 5.5042 - val_accuracy: 0.0000e+00\n",
            "Epoch 9/200\n",
            "11/11 [==============================] - 0s 5ms/step - loss: 5.2587 - accuracy: 0.0000e+00 - val_loss: 5.2728 - val_accuracy: 0.0000e+00\n",
            "Epoch 10/200\n",
            "11/11 [==============================] - 0s 5ms/step - loss: 5.2393 - accuracy: 0.0000e+00 - val_loss: 5.2587 - val_accuracy: 0.0000e+00\n",
            "Epoch 11/200\n",
            "11/11 [==============================] - 0s 5ms/step - loss: 4.7641 - accuracy: 0.0000e+00 - val_loss: 5.3368 - val_accuracy: 0.0000e+00\n",
            "Epoch 12/200\n",
            "11/11 [==============================] - 0s 5ms/step - loss: 4.7998 - accuracy: 0.0000e+00 - val_loss: 5.6162 - val_accuracy: 0.0000e+00\n",
            "Epoch 13/200\n",
            "11/11 [==============================] - 0s 5ms/step - loss: 4.8824 - accuracy: 0.0000e+00 - val_loss: 5.6685 - val_accuracy: 0.0000e+00\n",
            "Epoch 14/200\n",
            "11/11 [==============================] - 0s 5ms/step - loss: 5.2451 - accuracy: 0.0000e+00 - val_loss: 6.3998 - val_accuracy: 0.0000e+00\n",
            "Epoch 15/200\n",
            "11/11 [==============================] - 0s 5ms/step - loss: 5.3942 - accuracy: 0.0000e+00 - val_loss: 6.1992 - val_accuracy: 0.0000e+00\n",
            "Epoch 16/200\n",
            "11/11 [==============================] - 0s 5ms/step - loss: 5.5631 - accuracy: 0.0000e+00 - val_loss: 5.7038 - val_accuracy: 0.0000e+00\n",
            "Epoch 17/200\n",
            "11/11 [==============================] - 0s 5ms/step - loss: 4.9689 - accuracy: 0.0000e+00 - val_loss: 5.2632 - val_accuracy: 0.0000e+00\n",
            "Epoch 18/200\n",
            "11/11 [==============================] - 0s 5ms/step - loss: 5.0308 - accuracy: 0.0000e+00 - val_loss: 5.3368 - val_accuracy: 0.0000e+00\n",
            "Epoch 19/200\n",
            "11/11 [==============================] - 0s 6ms/step - loss: 5.0096 - accuracy: 0.0000e+00 - val_loss: 5.5457 - val_accuracy: 0.0000e+00\n",
            "Epoch 20/200\n",
            "11/11 [==============================] - 0s 5ms/step - loss: 5.4228 - accuracy: 0.0000e+00 - val_loss: 5.3836 - val_accuracy: 0.0000e+00\n",
            "Epoch 21/200\n",
            "11/11 [==============================] - 0s 5ms/step - loss: 4.3953 - accuracy: 0.0000e+00 - val_loss: 5.2575 - val_accuracy: 0.0000e+00\n",
            "Epoch 22/200\n",
            "11/11 [==============================] - 0s 5ms/step - loss: 4.4610 - accuracy: 0.0000e+00 - val_loss: 5.2525 - val_accuracy: 0.0000e+00\n",
            "Epoch 23/200\n",
            "11/11 [==============================] - 0s 5ms/step - loss: 4.2760 - accuracy: 0.0000e+00 - val_loss: 5.4048 - val_accuracy: 0.0000e+00\n",
            "Epoch 24/200\n",
            "11/11 [==============================] - 0s 5ms/step - loss: 4.5621 - accuracy: 0.0000e+00 - val_loss: 5.1934 - val_accuracy: 0.0000e+00\n",
            "Epoch 25/200\n",
            "11/11 [==============================] - 0s 6ms/step - loss: 4.4826 - accuracy: 0.0000e+00 - val_loss: 5.1317 - val_accuracy: 0.0000e+00\n",
            "Epoch 26/200\n",
            "11/11 [==============================] - 0s 5ms/step - loss: 4.2076 - accuracy: 0.0000e+00 - val_loss: 5.4834 - val_accuracy: 0.0000e+00\n",
            "Epoch 27/200\n",
            "11/11 [==============================] - 0s 5ms/step - loss: 4.3788 - accuracy: 0.0000e+00 - val_loss: 5.2552 - val_accuracy: 0.0000e+00\n",
            "Epoch 28/200\n",
            "11/11 [==============================] - 0s 4ms/step - loss: 4.1590 - accuracy: 0.0000e+00 - val_loss: 5.3327 - val_accuracy: 0.0000e+00\n",
            "Epoch 29/200\n",
            "11/11 [==============================] - 0s 5ms/step - loss: 4.6108 - accuracy: 0.0000e+00 - val_loss: 5.6458 - val_accuracy: 0.0000e+00\n",
            "Epoch 30/200\n",
            "11/11 [==============================] - 0s 5ms/step - loss: 4.4101 - accuracy: 0.0000e+00 - val_loss: 5.1098 - val_accuracy: 0.0000e+00\n",
            "Epoch 31/200\n",
            "11/11 [==============================] - 0s 5ms/step - loss: 3.9572 - accuracy: 0.0000e+00 - val_loss: 5.1120 - val_accuracy: 0.0000e+00\n",
            "Epoch 32/200\n",
            "11/11 [==============================] - 0s 4ms/step - loss: 4.2929 - accuracy: 0.0000e+00 - val_loss: 5.3444 - val_accuracy: 0.0000e+00\n",
            "Epoch 33/200\n",
            "11/11 [==============================] - 0s 5ms/step - loss: 4.8170 - accuracy: 0.0000e+00 - val_loss: 5.1442 - val_accuracy: 0.0000e+00\n",
            "Epoch 34/200\n",
            "11/11 [==============================] - 0s 5ms/step - loss: 4.3080 - accuracy: 0.0000e+00 - val_loss: 5.1973 - val_accuracy: 0.0000e+00\n",
            "Epoch 35/200\n",
            "11/11 [==============================] - 0s 5ms/step - loss: 4.6124 - accuracy: 0.0000e+00 - val_loss: 5.4250 - val_accuracy: 0.0000e+00\n",
            "Epoch 36/200\n",
            "11/11 [==============================] - 0s 5ms/step - loss: 4.9344 - accuracy: 0.0000e+00 - val_loss: 5.7110 - val_accuracy: 0.0000e+00\n",
            "Epoch 37/200\n",
            "11/11 [==============================] - 0s 5ms/step - loss: 4.8324 - accuracy: 0.0000e+00 - val_loss: 5.2717 - val_accuracy: 0.0000e+00\n",
            "Epoch 38/200\n",
            "11/11 [==============================] - 0s 5ms/step - loss: 5.1209 - accuracy: 0.0000e+00 - val_loss: 6.6485 - val_accuracy: 0.0000e+00\n",
            "Epoch 39/200\n",
            "11/11 [==============================] - 0s 5ms/step - loss: 6.4956 - accuracy: 0.0000e+00 - val_loss: 5.5104 - val_accuracy: 0.0000e+00\n",
            "Epoch 40/200\n",
            "11/11 [==============================] - 0s 5ms/step - loss: 5.6312 - accuracy: 0.0000e+00 - val_loss: 5.3454 - val_accuracy: 0.0000e+00\n",
            "Epoch 41/200\n",
            "11/11 [==============================] - 0s 5ms/step - loss: 4.8690 - accuracy: 0.0000e+00 - val_loss: 5.3848 - val_accuracy: 0.0000e+00\n",
            "Epoch 42/200\n",
            "11/11 [==============================] - 0s 5ms/step - loss: 4.3306 - accuracy: 0.0000e+00 - val_loss: 5.6018 - val_accuracy: 0.0000e+00\n",
            "Epoch 43/200\n",
            "11/11 [==============================] - 0s 5ms/step - loss: 4.1609 - accuracy: 0.0000e+00 - val_loss: 5.4210 - val_accuracy: 0.0000e+00\n",
            "Epoch 44/200\n",
            "11/11 [==============================] - 0s 5ms/step - loss: 4.2881 - accuracy: 0.0000e+00 - val_loss: 5.7317 - val_accuracy: 0.0000e+00\n",
            "Epoch 45/200\n",
            "11/11 [==============================] - 0s 5ms/step - loss: 4.4827 - accuracy: 0.0000e+00 - val_loss: 5.0984 - val_accuracy: 0.0000e+00\n",
            "Epoch 46/200\n",
            "11/11 [==============================] - 0s 4ms/step - loss: 4.0080 - accuracy: 0.0000e+00 - val_loss: 5.7627 - val_accuracy: 0.0000e+00\n",
            "Epoch 47/200\n",
            "11/11 [==============================] - 0s 4ms/step - loss: 4.0395 - accuracy: 0.0000e+00 - val_loss: 5.3346 - val_accuracy: 0.0000e+00\n",
            "Epoch 48/200\n",
            "11/11 [==============================] - 0s 5ms/step - loss: 4.0145 - accuracy: 0.0000e+00 - val_loss: 6.1901 - val_accuracy: 0.0000e+00\n",
            "Epoch 49/200\n",
            "11/11 [==============================] - 0s 5ms/step - loss: 4.7413 - accuracy: 0.0000e+00 - val_loss: 5.0779 - val_accuracy: 0.0000e+00\n",
            "Epoch 50/200\n",
            "11/11 [==============================] - 0s 5ms/step - loss: 4.9518 - accuracy: 0.0000e+00 - val_loss: 4.8922 - val_accuracy: 0.0000e+00\n",
            "Epoch 51/200\n",
            "11/11 [==============================] - 0s 5ms/step - loss: 4.1382 - accuracy: 0.0000e+00 - val_loss: 4.8404 - val_accuracy: 0.0000e+00\n",
            "Epoch 52/200\n",
            "11/11 [==============================] - 0s 5ms/step - loss: 3.6483 - accuracy: 0.0000e+00 - val_loss: 4.9366 - val_accuracy: 0.0000e+00\n",
            "Epoch 53/200\n",
            "11/11 [==============================] - 0s 4ms/step - loss: 3.7696 - accuracy: 0.0000e+00 - val_loss: 4.8701 - val_accuracy: 0.0000e+00\n",
            "Epoch 54/200\n",
            "11/11 [==============================] - 0s 5ms/step - loss: 3.8373 - accuracy: 0.0000e+00 - val_loss: 4.8179 - val_accuracy: 0.0000e+00\n",
            "Epoch 55/200\n",
            "11/11 [==============================] - 0s 5ms/step - loss: 3.9560 - accuracy: 0.0000e+00 - val_loss: 4.9393 - val_accuracy: 0.0000e+00\n",
            "Epoch 56/200\n",
            "11/11 [==============================] - 0s 5ms/step - loss: 3.9869 - accuracy: 0.0000e+00 - val_loss: 6.0262 - val_accuracy: 0.0000e+00\n",
            "Epoch 57/200\n",
            "11/11 [==============================] - 0s 5ms/step - loss: 4.4412 - accuracy: 0.0000e+00 - val_loss: 5.1795 - val_accuracy: 0.0000e+00\n",
            "Epoch 58/200\n",
            "11/11 [==============================] - 0s 5ms/step - loss: 4.2913 - accuracy: 0.0000e+00 - val_loss: 4.9554 - val_accuracy: 0.0000e+00\n",
            "Epoch 59/200\n",
            "11/11 [==============================] - 0s 6ms/step - loss: 4.6501 - accuracy: 0.0000e+00 - val_loss: 4.9119 - val_accuracy: 0.0000e+00\n",
            "Epoch 60/200\n",
            "11/11 [==============================] - 0s 5ms/step - loss: 4.3640 - accuracy: 0.0000e+00 - val_loss: 5.0649 - val_accuracy: 0.0000e+00\n",
            "Epoch 61/200\n",
            "11/11 [==============================] - 0s 5ms/step - loss: 4.1286 - accuracy: 0.0000e+00 - val_loss: 4.9680 - val_accuracy: 0.0000e+00\n",
            "Epoch 62/200\n",
            "11/11 [==============================] - 0s 4ms/step - loss: 4.0759 - accuracy: 0.0000e+00 - val_loss: 4.7627 - val_accuracy: 0.0000e+00\n",
            "Epoch 63/200\n",
            "11/11 [==============================] - 0s 4ms/step - loss: 3.6777 - accuracy: 0.0000e+00 - val_loss: 4.7349 - val_accuracy: 0.0000e+00\n",
            "Epoch 64/200\n",
            "11/11 [==============================] - 0s 5ms/step - loss: 4.0403 - accuracy: 0.0000e+00 - val_loss: 5.0023 - val_accuracy: 0.0000e+00\n",
            "Epoch 65/200\n",
            "11/11 [==============================] - 0s 4ms/step - loss: 4.1442 - accuracy: 0.0000e+00 - val_loss: 6.0334 - val_accuracy: 0.0000e+00\n",
            "Epoch 66/200\n",
            "11/11 [==============================] - 0s 5ms/step - loss: 4.3608 - accuracy: 0.0000e+00 - val_loss: 5.5736 - val_accuracy: 0.0000e+00\n",
            "Epoch 67/200\n",
            "11/11 [==============================] - 0s 5ms/step - loss: 4.1865 - accuracy: 0.0000e+00 - val_loss: 5.0772 - val_accuracy: 0.0000e+00\n",
            "Epoch 68/200\n",
            "11/11 [==============================] - 0s 5ms/step - loss: 4.0676 - accuracy: 0.0000e+00 - val_loss: 4.6501 - val_accuracy: 0.0000e+00\n",
            "Epoch 69/200\n",
            "11/11 [==============================] - 0s 5ms/step - loss: 3.5031 - accuracy: 0.0000e+00 - val_loss: 4.7254 - val_accuracy: 0.0000e+00\n",
            "Epoch 70/200\n",
            "11/11 [==============================] - 0s 5ms/step - loss: 3.6660 - accuracy: 0.0000e+00 - val_loss: 4.6439 - val_accuracy: 0.0000e+00\n",
            "Epoch 71/200\n",
            "11/11 [==============================] - 0s 5ms/step - loss: 3.4904 - accuracy: 0.0000e+00 - val_loss: 4.8098 - val_accuracy: 0.0000e+00\n",
            "Epoch 72/200\n",
            "11/11 [==============================] - 0s 6ms/step - loss: 3.9045 - accuracy: 0.0000e+00 - val_loss: 5.7611 - val_accuracy: 0.0000e+00\n",
            "Epoch 73/200\n",
            "11/11 [==============================] - 0s 5ms/step - loss: 4.4606 - accuracy: 0.0000e+00 - val_loss: 4.4623 - val_accuracy: 0.0000e+00\n",
            "Epoch 74/200\n",
            "11/11 [==============================] - 0s 5ms/step - loss: 3.8357 - accuracy: 0.0000e+00 - val_loss: 4.4719 - val_accuracy: 0.0000e+00\n",
            "Epoch 75/200\n",
            "11/11 [==============================] - 0s 5ms/step - loss: 3.6911 - accuracy: 0.0000e+00 - val_loss: 4.8394 - val_accuracy: 0.0000e+00\n",
            "Epoch 76/200\n",
            "11/11 [==============================] - 0s 5ms/step - loss: 3.8615 - accuracy: 0.0000e+00 - val_loss: 4.6168 - val_accuracy: 0.0000e+00\n",
            "Epoch 77/200\n",
            "11/11 [==============================] - 0s 5ms/step - loss: 3.5038 - accuracy: 0.0000e+00 - val_loss: 4.6756 - val_accuracy: 0.0000e+00\n",
            "Epoch 78/200\n",
            "11/11 [==============================] - 0s 5ms/step - loss: 4.2325 - accuracy: 0.0000e+00 - val_loss: 4.7333 - val_accuracy: 0.0000e+00\n",
            "Epoch 79/200\n",
            "11/11 [==============================] - 0s 4ms/step - loss: 3.9699 - accuracy: 0.0000e+00 - val_loss: 4.5735 - val_accuracy: 0.0000e+00\n",
            "Epoch 80/200\n",
            "11/11 [==============================] - 0s 5ms/step - loss: 3.8156 - accuracy: 0.0000e+00 - val_loss: 4.6389 - val_accuracy: 0.0000e+00\n",
            "Epoch 81/200\n",
            "11/11 [==============================] - 0s 5ms/step - loss: 3.7424 - accuracy: 0.0000e+00 - val_loss: 4.6038 - val_accuracy: 0.0000e+00\n",
            "Epoch 82/200\n",
            "11/11 [==============================] - 0s 5ms/step - loss: 3.8169 - accuracy: 0.0000e+00 - val_loss: 5.3607 - val_accuracy: 0.0000e+00\n",
            "Epoch 83/200\n",
            "11/11 [==============================] - 0s 5ms/step - loss: 3.9438 - accuracy: 0.0000e+00 - val_loss: 4.7572 - val_accuracy: 0.0000e+00\n",
            "Epoch 84/200\n",
            "11/11 [==============================] - 0s 4ms/step - loss: 3.7619 - accuracy: 0.0000e+00 - val_loss: 4.6072 - val_accuracy: 0.0000e+00\n",
            "Epoch 85/200\n",
            "11/11 [==============================] - 0s 5ms/step - loss: 3.6427 - accuracy: 0.0000e+00 - val_loss: 4.6227 - val_accuracy: 0.0000e+00\n",
            "Epoch 86/200\n",
            "11/11 [==============================] - 0s 5ms/step - loss: 3.6362 - accuracy: 0.0000e+00 - val_loss: 4.4893 - val_accuracy: 0.0000e+00\n",
            "Epoch 87/200\n",
            "11/11 [==============================] - 0s 5ms/step - loss: 3.8017 - accuracy: 0.0000e+00 - val_loss: 4.5040 - val_accuracy: 0.0000e+00\n",
            "Epoch 88/200\n",
            "11/11 [==============================] - 0s 4ms/step - loss: 4.2962 - accuracy: 0.0000e+00 - val_loss: 4.4989 - val_accuracy: 0.0000e+00\n",
            "Epoch 89/200\n",
            "11/11 [==============================] - 0s 5ms/step - loss: 3.8408 - accuracy: 0.0000e+00 - val_loss: 4.7125 - val_accuracy: 0.0000e+00\n",
            "Epoch 90/200\n",
            "11/11 [==============================] - 0s 6ms/step - loss: 3.9270 - accuracy: 0.0000e+00 - val_loss: 4.6848 - val_accuracy: 0.0000e+00\n",
            "Epoch 91/200\n",
            "11/11 [==============================] - 0s 5ms/step - loss: 3.9686 - accuracy: 0.0000e+00 - val_loss: 4.4925 - val_accuracy: 0.0000e+00\n",
            "Epoch 92/200\n",
            "11/11 [==============================] - 0s 5ms/step - loss: 3.6884 - accuracy: 0.0000e+00 - val_loss: 5.0820 - val_accuracy: 0.0000e+00\n",
            "Epoch 93/200\n",
            "11/11 [==============================] - 0s 5ms/step - loss: 3.8506 - accuracy: 0.0000e+00 - val_loss: 4.4886 - val_accuracy: 0.0000e+00\n",
            "Epoch 94/200\n",
            "11/11 [==============================] - 0s 5ms/step - loss: 3.5397 - accuracy: 0.0000e+00 - val_loss: 4.6099 - val_accuracy: 0.0000e+00\n",
            "Epoch 95/200\n",
            "11/11 [==============================] - 0s 5ms/step - loss: 3.5948 - accuracy: 0.0000e+00 - val_loss: 4.3737 - val_accuracy: 0.0000e+00\n",
            "Epoch 96/200\n",
            "11/11 [==============================] - 0s 5ms/step - loss: 3.4624 - accuracy: 0.0000e+00 - val_loss: 4.4365 - val_accuracy: 0.0000e+00\n",
            "Epoch 97/200\n",
            "11/11 [==============================] - 0s 5ms/step - loss: 3.9171 - accuracy: 0.0000e+00 - val_loss: 4.7350 - val_accuracy: 0.0000e+00\n",
            "Epoch 98/200\n",
            "11/11 [==============================] - 0s 6ms/step - loss: 3.6338 - accuracy: 0.0000e+00 - val_loss: 4.5269 - val_accuracy: 0.0000e+00\n",
            "Epoch 99/200\n",
            "11/11 [==============================] - 0s 5ms/step - loss: 3.2543 - accuracy: 0.0000e+00 - val_loss: 4.4981 - val_accuracy: 0.0000e+00\n",
            "Epoch 100/200\n",
            "11/11 [==============================] - 0s 5ms/step - loss: 3.4537 - accuracy: 0.0000e+00 - val_loss: 4.2563 - val_accuracy: 0.0000e+00\n",
            "Epoch 101/200\n",
            "11/11 [==============================] - 0s 5ms/step - loss: 3.1256 - accuracy: 0.0000e+00 - val_loss: 4.2694 - val_accuracy: 0.0000e+00\n",
            "Epoch 102/200\n",
            "11/11 [==============================] - 0s 4ms/step - loss: 3.2265 - accuracy: 0.0000e+00 - val_loss: 4.8646 - val_accuracy: 0.0000e+00\n",
            "Epoch 103/200\n",
            "11/11 [==============================] - 0s 4ms/step - loss: 4.3272 - accuracy: 0.0000e+00 - val_loss: 5.5845 - val_accuracy: 0.0000e+00\n",
            "Epoch 104/200\n",
            "11/11 [==============================] - 0s 5ms/step - loss: 4.6984 - accuracy: 0.0000e+00 - val_loss: 4.2642 - val_accuracy: 0.0000e+00\n",
            "Epoch 105/200\n",
            "11/11 [==============================] - 0s 5ms/step - loss: 3.6595 - accuracy: 0.0000e+00 - val_loss: 4.9687 - val_accuracy: 0.0000e+00\n",
            "Epoch 106/200\n",
            "11/11 [==============================] - 0s 5ms/step - loss: 3.9122 - accuracy: 0.0000e+00 - val_loss: 4.4901 - val_accuracy: 0.0000e+00\n",
            "Epoch 107/200\n",
            "11/11 [==============================] - 0s 5ms/step - loss: 3.7567 - accuracy: 0.0000e+00 - val_loss: 4.4016 - val_accuracy: 0.0000e+00\n",
            "Epoch 108/200\n",
            "11/11 [==============================] - 0s 5ms/step - loss: 3.4322 - accuracy: 0.0000e+00 - val_loss: 4.3389 - val_accuracy: 0.0000e+00\n",
            "Epoch 109/200\n",
            "11/11 [==============================] - 0s 5ms/step - loss: 3.3679 - accuracy: 0.0000e+00 - val_loss: 4.4888 - val_accuracy: 0.0000e+00\n",
            "Epoch 110/200\n",
            "11/11 [==============================] - 0s 5ms/step - loss: 3.3745 - accuracy: 0.0000e+00 - val_loss: 4.1509 - val_accuracy: 0.0000e+00\n",
            "Epoch 111/200\n",
            "11/11 [==============================] - 0s 4ms/step - loss: 3.7667 - accuracy: 0.0000e+00 - val_loss: 4.2247 - val_accuracy: 0.0000e+00\n",
            "Epoch 112/200\n",
            "11/11 [==============================] - 0s 5ms/step - loss: 3.5523 - accuracy: 0.0000e+00 - val_loss: 4.6761 - val_accuracy: 0.0000e+00\n",
            "Epoch 113/200\n",
            "11/11 [==============================] - 0s 5ms/step - loss: 3.5375 - accuracy: 0.0000e+00 - val_loss: 4.2974 - val_accuracy: 0.0000e+00\n",
            "Epoch 114/200\n",
            "11/11 [==============================] - 0s 6ms/step - loss: 3.4433 - accuracy: 0.0000e+00 - val_loss: 4.4948 - val_accuracy: 0.0000e+00\n",
            "Epoch 115/200\n",
            "11/11 [==============================] - 0s 5ms/step - loss: 4.4158 - accuracy: 0.0000e+00 - val_loss: 4.3497 - val_accuracy: 0.0000e+00\n",
            "Epoch 116/200\n",
            "11/11 [==============================] - 0s 5ms/step - loss: 4.1902 - accuracy: 0.0000e+00 - val_loss: 4.3703 - val_accuracy: 0.0000e+00\n",
            "Epoch 117/200\n",
            "11/11 [==============================] - 0s 5ms/step - loss: 3.4580 - accuracy: 0.0000e+00 - val_loss: 4.4286 - val_accuracy: 0.0000e+00\n",
            "Epoch 118/200\n",
            "11/11 [==============================] - 0s 5ms/step - loss: 4.0321 - accuracy: 0.0000e+00 - val_loss: 4.4700 - val_accuracy: 0.0000e+00\n",
            "Epoch 119/200\n",
            "11/11 [==============================] - 0s 5ms/step - loss: 3.4868 - accuracy: 0.0000e+00 - val_loss: 4.7035 - val_accuracy: 0.0000e+00\n",
            "Epoch 120/200\n",
            "11/11 [==============================] - 0s 5ms/step - loss: 3.6859 - accuracy: 0.0000e+00 - val_loss: 5.0382 - val_accuracy: 0.0000e+00\n",
            "Epoch 121/200\n",
            "11/11 [==============================] - 0s 5ms/step - loss: 4.5685 - accuracy: 0.0000e+00 - val_loss: 4.3949 - val_accuracy: 0.0000e+00\n",
            "Epoch 122/200\n",
            "11/11 [==============================] - 0s 5ms/step - loss: 3.8032 - accuracy: 0.0000e+00 - val_loss: 4.4273 - val_accuracy: 0.0000e+00\n",
            "Epoch 123/200\n",
            "11/11 [==============================] - 0s 5ms/step - loss: 3.5017 - accuracy: 0.0000e+00 - val_loss: 4.5951 - val_accuracy: 0.0000e+00\n",
            "Epoch 124/200\n",
            "11/11 [==============================] - 0s 5ms/step - loss: 3.4499 - accuracy: 0.0000e+00 - val_loss: 4.3121 - val_accuracy: 0.0000e+00\n",
            "Epoch 125/200\n",
            "11/11 [==============================] - 0s 7ms/step - loss: 3.2156 - accuracy: 0.0000e+00 - val_loss: 4.4385 - val_accuracy: 0.0000e+00\n",
            "Epoch 126/200\n",
            "11/11 [==============================] - 0s 5ms/step - loss: 3.7261 - accuracy: 0.0000e+00 - val_loss: 4.2908 - val_accuracy: 0.0000e+00\n",
            "Epoch 127/200\n",
            "11/11 [==============================] - 0s 5ms/step - loss: 3.6637 - accuracy: 0.0000e+00 - val_loss: 4.3500 - val_accuracy: 0.0000e+00\n",
            "Epoch 128/200\n",
            "11/11 [==============================] - 0s 5ms/step - loss: 3.4410 - accuracy: 0.0000e+00 - val_loss: 4.3286 - val_accuracy: 0.0000e+00\n",
            "Epoch 129/200\n",
            "11/11 [==============================] - 0s 5ms/step - loss: 3.8255 - accuracy: 0.0000e+00 - val_loss: 4.4758 - val_accuracy: 0.0000e+00\n",
            "Epoch 130/200\n",
            "11/11 [==============================] - 0s 5ms/step - loss: 3.8042 - accuracy: 0.0000e+00 - val_loss: 4.2754 - val_accuracy: 0.0000e+00\n",
            "Epoch 131/200\n",
            "11/11 [==============================] - 0s 5ms/step - loss: 3.4867 - accuracy: 0.0000e+00 - val_loss: 4.1268 - val_accuracy: 0.0000e+00\n",
            "Epoch 132/200\n",
            "11/11 [==============================] - 0s 4ms/step - loss: 3.2977 - accuracy: 0.0000e+00 - val_loss: 4.1174 - val_accuracy: 0.0000e+00\n",
            "Epoch 133/200\n",
            "11/11 [==============================] - 0s 5ms/step - loss: 3.2913 - accuracy: 0.0000e+00 - val_loss: 4.1936 - val_accuracy: 0.0000e+00\n",
            "Epoch 134/200\n",
            "11/11 [==============================] - 0s 6ms/step - loss: 3.3147 - accuracy: 0.0000e+00 - val_loss: 4.1726 - val_accuracy: 0.0000e+00\n",
            "Epoch 135/200\n",
            "11/11 [==============================] - 0s 6ms/step - loss: 3.1984 - accuracy: 0.0000e+00 - val_loss: 4.1075 - val_accuracy: 0.0000e+00\n",
            "Epoch 136/200\n",
            "11/11 [==============================] - 0s 5ms/step - loss: 3.3812 - accuracy: 0.0000e+00 - val_loss: 4.5972 - val_accuracy: 0.0000e+00\n",
            "Epoch 137/200\n",
            "11/11 [==============================] - 0s 5ms/step - loss: 4.1990 - accuracy: 0.0000e+00 - val_loss: 4.1567 - val_accuracy: 0.0000e+00\n",
            "Epoch 138/200\n",
            "11/11 [==============================] - 0s 5ms/step - loss: 3.2476 - accuracy: 0.0000e+00 - val_loss: 4.0035 - val_accuracy: 0.0000e+00\n",
            "Epoch 139/200\n",
            "11/11 [==============================] - 0s 5ms/step - loss: 3.4799 - accuracy: 0.0000e+00 - val_loss: 4.3198 - val_accuracy: 0.0000e+00\n",
            "Epoch 140/200\n",
            "11/11 [==============================] - 0s 5ms/step - loss: 3.3360 - accuracy: 0.0000e+00 - val_loss: 4.3063 - val_accuracy: 0.0000e+00\n",
            "Epoch 141/200\n",
            "11/11 [==============================] - 0s 5ms/step - loss: 3.5761 - accuracy: 0.0000e+00 - val_loss: 4.0218 - val_accuracy: 0.0000e+00\n",
            "Epoch 142/200\n",
            "11/11 [==============================] - 0s 5ms/step - loss: 3.2855 - accuracy: 0.0000e+00 - val_loss: 4.2836 - val_accuracy: 0.0000e+00\n",
            "Epoch 143/200\n",
            "11/11 [==============================] - 0s 5ms/step - loss: 3.2520 - accuracy: 0.0000e+00 - val_loss: 4.0609 - val_accuracy: 0.0000e+00\n",
            "Epoch 144/200\n",
            "11/11 [==============================] - 0s 5ms/step - loss: 3.2404 - accuracy: 0.0000e+00 - val_loss: 4.1623 - val_accuracy: 0.0000e+00\n",
            "Epoch 145/200\n",
            "11/11 [==============================] - 0s 6ms/step - loss: 3.2971 - accuracy: 0.0000e+00 - val_loss: 4.3263 - val_accuracy: 0.0000e+00\n",
            "Epoch 146/200\n",
            "11/11 [==============================] - 0s 5ms/step - loss: 3.7529 - accuracy: 0.0000e+00 - val_loss: 4.1066 - val_accuracy: 0.0000e+00\n",
            "Epoch 147/200\n",
            "11/11 [==============================] - 0s 5ms/step - loss: 3.4733 - accuracy: 0.0000e+00 - val_loss: 4.2693 - val_accuracy: 0.0000e+00\n",
            "Epoch 148/200\n",
            "11/11 [==============================] - 0s 5ms/step - loss: 3.1862 - accuracy: 0.0000e+00 - val_loss: 4.1075 - val_accuracy: 0.0000e+00\n",
            "Epoch 149/200\n",
            "11/11 [==============================] - 0s 5ms/step - loss: 3.0705 - accuracy: 0.0000e+00 - val_loss: 4.0145 - val_accuracy: 0.0000e+00\n",
            "Epoch 150/200\n",
            "11/11 [==============================] - 0s 5ms/step - loss: 3.4274 - accuracy: 0.0000e+00 - val_loss: 4.2600 - val_accuracy: 0.0000e+00\n",
            "Epoch 151/200\n",
            "11/11 [==============================] - 0s 5ms/step - loss: 3.5167 - accuracy: 0.0000e+00 - val_loss: 4.2468 - val_accuracy: 0.0000e+00\n",
            "Epoch 152/200\n",
            "11/11 [==============================] - 0s 5ms/step - loss: 3.4172 - accuracy: 0.0000e+00 - val_loss: 4.4147 - val_accuracy: 0.0000e+00\n",
            "Epoch 153/200\n",
            "11/11 [==============================] - 0s 6ms/step - loss: 3.2482 - accuracy: 0.0000e+00 - val_loss: 4.1981 - val_accuracy: 0.0000e+00\n",
            "Epoch 154/200\n",
            "11/11 [==============================] - 0s 5ms/step - loss: 3.2143 - accuracy: 0.0000e+00 - val_loss: 3.9854 - val_accuracy: 0.0000e+00\n",
            "Epoch 155/200\n",
            "11/11 [==============================] - 0s 5ms/step - loss: 3.3545 - accuracy: 0.0000e+00 - val_loss: 3.8816 - val_accuracy: 0.0000e+00\n",
            "Epoch 156/200\n",
            "11/11 [==============================] - 0s 5ms/step - loss: 3.0510 - accuracy: 0.0000e+00 - val_loss: 4.2899 - val_accuracy: 0.0000e+00\n",
            "Epoch 157/200\n",
            "11/11 [==============================] - 0s 5ms/step - loss: 3.5131 - accuracy: 0.0000e+00 - val_loss: 4.1976 - val_accuracy: 0.0000e+00\n",
            "Epoch 158/200\n",
            "11/11 [==============================] - 0s 5ms/step - loss: 3.2090 - accuracy: 0.0000e+00 - val_loss: 4.1134 - val_accuracy: 0.0000e+00\n",
            "Epoch 159/200\n",
            "11/11 [==============================] - 0s 5ms/step - loss: 3.1143 - accuracy: 0.0000e+00 - val_loss: 3.9507 - val_accuracy: 0.0000e+00\n",
            "Epoch 160/200\n",
            "11/11 [==============================] - 0s 5ms/step - loss: 3.1306 - accuracy: 0.0000e+00 - val_loss: 3.8456 - val_accuracy: 0.0000e+00\n",
            "Epoch 161/200\n",
            "11/11 [==============================] - 0s 5ms/step - loss: 3.2854 - accuracy: 0.0000e+00 - val_loss: 3.8485 - val_accuracy: 0.0000e+00\n",
            "Epoch 162/200\n",
            "11/11 [==============================] - 0s 5ms/step - loss: 2.8784 - accuracy: 0.0000e+00 - val_loss: 3.9786 - val_accuracy: 0.0000e+00\n",
            "Epoch 163/200\n",
            "11/11 [==============================] - 0s 6ms/step - loss: 3.0964 - accuracy: 0.0000e+00 - val_loss: 3.7555 - val_accuracy: 0.0000e+00\n",
            "Epoch 164/200\n",
            "11/11 [==============================] - 0s 5ms/step - loss: 3.2264 - accuracy: 0.0000e+00 - val_loss: 3.7789 - val_accuracy: 0.0000e+00\n",
            "Epoch 165/200\n",
            "11/11 [==============================] - 0s 5ms/step - loss: 3.0743 - accuracy: 0.0000e+00 - val_loss: 3.6950 - val_accuracy: 0.0000e+00\n",
            "Epoch 166/200\n",
            "11/11 [==============================] - 0s 5ms/step - loss: 2.8945 - accuracy: 0.0000e+00 - val_loss: 3.7454 - val_accuracy: 0.0000e+00\n",
            "Epoch 167/200\n",
            "11/11 [==============================] - 0s 5ms/step - loss: 3.1476 - accuracy: 0.0000e+00 - val_loss: 3.9100 - val_accuracy: 0.0000e+00\n",
            "Epoch 168/200\n",
            "11/11 [==============================] - 0s 4ms/step - loss: 3.2294 - accuracy: 0.0000e+00 - val_loss: 3.9372 - val_accuracy: 0.0000e+00\n",
            "Epoch 169/200\n",
            "11/11 [==============================] - 0s 5ms/step - loss: 2.9036 - accuracy: 0.0000e+00 - val_loss: 3.7964 - val_accuracy: 0.0000e+00\n",
            "Epoch 170/200\n",
            "11/11 [==============================] - 0s 5ms/step - loss: 3.2512 - accuracy: 0.0000e+00 - val_loss: 3.7206 - val_accuracy: 0.0000e+00\n",
            "Epoch 171/200\n",
            "11/11 [==============================] - 0s 5ms/step - loss: 4.0426 - accuracy: 0.0000e+00 - val_loss: 4.2541 - val_accuracy: 0.0000e+00\n",
            "Epoch 172/200\n",
            "11/11 [==============================] - 0s 5ms/step - loss: 3.6954 - accuracy: 0.0000e+00 - val_loss: 4.5212 - val_accuracy: 0.0000e+00\n",
            "Epoch 173/200\n",
            "11/11 [==============================] - 0s 5ms/step - loss: 3.4741 - accuracy: 0.0000e+00 - val_loss: 4.3738 - val_accuracy: 0.0000e+00\n",
            "Epoch 174/200\n",
            "11/11 [==============================] - 0s 4ms/step - loss: 3.3179 - accuracy: 0.0000e+00 - val_loss: 4.5707 - val_accuracy: 0.0000e+00\n",
            "Epoch 175/200\n",
            "11/11 [==============================] - 0s 5ms/step - loss: 3.6417 - accuracy: 0.0000e+00 - val_loss: 3.9453 - val_accuracy: 0.0000e+00\n",
            "Epoch 176/200\n",
            "11/11 [==============================] - 0s 5ms/step - loss: 3.3279 - accuracy: 0.0000e+00 - val_loss: 3.9292 - val_accuracy: 0.0000e+00\n",
            "Epoch 177/200\n",
            "11/11 [==============================] - 0s 6ms/step - loss: 4.0609 - accuracy: 0.0000e+00 - val_loss: 3.6925 - val_accuracy: 0.0000e+00\n",
            "Epoch 178/200\n",
            "11/11 [==============================] - 0s 5ms/step - loss: 2.8157 - accuracy: 0.0000e+00 - val_loss: 3.7753 - val_accuracy: 0.0000e+00\n",
            "Epoch 179/200\n",
            "11/11 [==============================] - 0s 4ms/step - loss: 3.0284 - accuracy: 0.0000e+00 - val_loss: 3.7489 - val_accuracy: 0.0000e+00\n",
            "Epoch 180/200\n",
            "11/11 [==============================] - 0s 5ms/step - loss: 3.0571 - accuracy: 0.0000e+00 - val_loss: 3.7233 - val_accuracy: 0.0000e+00\n",
            "Epoch 181/200\n",
            "11/11 [==============================] - 0s 5ms/step - loss: 2.9629 - accuracy: 0.0000e+00 - val_loss: 3.6481 - val_accuracy: 0.0000e+00\n",
            "Epoch 182/200\n",
            "11/11 [==============================] - 0s 5ms/step - loss: 3.0549 - accuracy: 0.0000e+00 - val_loss: 3.8778 - val_accuracy: 0.0000e+00\n",
            "Epoch 183/200\n",
            "11/11 [==============================] - 0s 5ms/step - loss: 2.9377 - accuracy: 0.0000e+00 - val_loss: 4.6572 - val_accuracy: 0.0000e+00\n",
            "Epoch 184/200\n",
            "11/11 [==============================] - 0s 4ms/step - loss: 3.5166 - accuracy: 0.0000e+00 - val_loss: 4.2673 - val_accuracy: 0.0000e+00\n",
            "Epoch 185/200\n",
            "11/11 [==============================] - 0s 5ms/step - loss: 3.5570 - accuracy: 0.0000e+00 - val_loss: 3.8704 - val_accuracy: 0.0000e+00\n",
            "Epoch 186/200\n",
            "11/11 [==============================] - 0s 5ms/step - loss: 3.1372 - accuracy: 0.0000e+00 - val_loss: 3.5290 - val_accuracy: 0.0000e+00\n",
            "Epoch 187/200\n",
            "11/11 [==============================] - 0s 5ms/step - loss: 2.9403 - accuracy: 0.0000e+00 - val_loss: 3.5550 - val_accuracy: 0.0000e+00\n",
            "Epoch 188/200\n",
            "11/11 [==============================] - 0s 5ms/step - loss: 2.7988 - accuracy: 0.0000e+00 - val_loss: 3.7652 - val_accuracy: 0.0000e+00\n",
            "Epoch 189/200\n",
            "11/11 [==============================] - 0s 5ms/step - loss: 3.2204 - accuracy: 0.0000e+00 - val_loss: 3.6137 - val_accuracy: 0.0000e+00\n",
            "Epoch 190/200\n",
            "11/11 [==============================] - 0s 5ms/step - loss: 2.7970 - accuracy: 0.0000e+00 - val_loss: 3.7345 - val_accuracy: 0.0000e+00\n",
            "Epoch 191/200\n",
            "11/11 [==============================] - 0s 5ms/step - loss: 3.2931 - accuracy: 0.0000e+00 - val_loss: 4.5172 - val_accuracy: 0.0000e+00\n",
            "Epoch 192/200\n",
            "11/11 [==============================] - 0s 5ms/step - loss: 3.4042 - accuracy: 0.0000e+00 - val_loss: 4.0822 - val_accuracy: 0.0000e+00\n",
            "Epoch 193/200\n",
            "11/11 [==============================] - 0s 5ms/step - loss: 2.9060 - accuracy: 0.0000e+00 - val_loss: 3.9870 - val_accuracy: 0.0000e+00\n",
            "Epoch 194/200\n",
            "11/11 [==============================] - 0s 5ms/step - loss: 2.9890 - accuracy: 0.0000e+00 - val_loss: 4.8673 - val_accuracy: 0.0000e+00\n",
            "Epoch 195/200\n",
            "11/11 [==============================] - 0s 5ms/step - loss: 3.9931 - accuracy: 0.0000e+00 - val_loss: 3.8229 - val_accuracy: 0.0000e+00\n",
            "Epoch 196/200\n",
            "11/11 [==============================] - 0s 5ms/step - loss: 3.3207 - accuracy: 0.0000e+00 - val_loss: 3.9467 - val_accuracy: 0.0000e+00\n",
            "Epoch 197/200\n",
            "11/11 [==============================] - 0s 5ms/step - loss: 3.0646 - accuracy: 0.0000e+00 - val_loss: 4.4447 - val_accuracy: 0.0000e+00\n",
            "Epoch 198/200\n",
            "11/11 [==============================] - 0s 5ms/step - loss: 3.5235 - accuracy: 0.0000e+00 - val_loss: 3.9920 - val_accuracy: 0.0000e+00\n",
            "Epoch 199/200\n",
            "11/11 [==============================] - 0s 5ms/step - loss: 3.1613 - accuracy: 0.0000e+00 - val_loss: 3.6477 - val_accuracy: 0.0000e+00\n",
            "Epoch 200/200\n",
            "11/11 [==============================] - 0s 4ms/step - loss: 2.7363 - accuracy: 0.0000e+00 - val_loss: 3.6703 - val_accuracy: 0.0000e+00\n"
          ],
          "name": "stdout"
        },
        {
          "output_type": "execute_result",
          "data": {
            "text/plain": [
              "<tensorflow.python.keras.callbacks.History at 0x7fa53ce4d3d0>"
            ]
          },
          "metadata": {
            "tags": []
          },
          "execution_count": 8
        }
      ]
    },
    {
      "cell_type": "code",
      "metadata": {
        "id": "descending-letters",
        "colab": {
          "base_uri": "https://localhost:8080/"
        },
        "outputId": "609ad371-f5da-43f9-ac72-a55038ca129c"
      },
      "source": [
        "# No modifique el código\n",
        "results = model.evaluate(x_test, y_test, verbose=1)\n",
        "print('Test Loss: {}'.format(results))"
      ],
      "id": "descending-letters",
      "execution_count": 9,
      "outputs": [
        {
          "output_type": "stream",
          "text": [
            "4/4 [==============================] - 0s 2ms/step - loss: 3.8008 - accuracy: 0.0000e+00\n",
            "Test Loss: [3.8008368015289307, 0.0]\n"
          ],
          "name": "stdout"
        }
      ]
    },
    {
      "cell_type": "markdown",
      "metadata": {
        "id": "raised-delivery"
      },
      "source": [
        "<a name='1.2'></a>\n",
        "## Cuestión 2: Utilice el mismo modelo de la cuestión anterior pero añadiendo al menos dos técnicas distinas de regularización.\n",
        "\n",
        "Ejemplos de regularización: [Prevent_Overfitting.ipynb](https://github.com/ezponda/intro_deep_learning/blob/main/class/Fundamentals/Prevent_Overfitting.ipynb)\n",
        "\n",
        "Puntuación:\n",
        "\n",
        "- Obtener el modelo con la regularización: 0.8 pts\n",
        "- Obtener un `test loss` inferior al anterior: 0.2 pts\n"
      ],
      "id": "raised-delivery"
    },
    {
      "cell_type": "code",
      "metadata": {
        "id": "hired-ground",
        "colab": {
          "base_uri": "https://localhost:8080/"
        },
        "outputId": "24651d44-3767-4c11-94a3-bc1438c2616b"
      },
      "source": [
        "model = tf.keras.models.Sequential()\n",
        "# Código aquí\n",
        "inputs = keras.Input(shape=(13, ), name=\"inputs\")\n",
        "stddev = 2\n",
        "l_1 = layers.Dense(61, activation='relu', name='layer_1')(inputs)\n",
        "l_1 = layers.GaussianNoise(stddev, name='noise_l1')(l_1) \n",
        "\n",
        "l_2 = layers.Dense(61, activation='relu', name='layer_2')(l_1)\n",
        "l_2 = layers.GaussianNoise(stddev, name='noise_l2')(l_2) \n",
        "\n",
        "l_3 = layers.Dense(61, activation='relu', name='layer_3')(l_2)\n",
        "l_3 = layers.GaussianNoise(stddev, name='noise_l3')(l_3) \n",
        "\n",
        "l_4 = layers.Dense(61, activation='relu', name='layer_4')(l_3)\n",
        "#l_4 = layers.GaussianNoise(stddev, name='noise_l4')(l_4) \n",
        "\n",
        "\n",
        "outputs = layers.Dense(1, activation='linear', name='outputs')(l_4)\n",
        "\n",
        "model = keras.Model(inputs=inputs, outputs=outputs, name=\"model_regularized\")\n",
        "\n",
        "model.summary()"
      ],
      "id": "hired-ground",
      "execution_count": 10,
      "outputs": [
        {
          "output_type": "stream",
          "text": [
            "Model: \"model_regularized\"\n",
            "_________________________________________________________________\n",
            "Layer (type)                 Output Shape              Param #   \n",
            "=================================================================\n",
            "inputs (InputLayer)          [(None, 13)]              0         \n",
            "_________________________________________________________________\n",
            "layer_1 (Dense)              (None, 61)                854       \n",
            "_________________________________________________________________\n",
            "noise_l1 (GaussianNoise)     (None, 61)                0         \n",
            "_________________________________________________________________\n",
            "layer_2 (Dense)              (None, 61)                3782      \n",
            "_________________________________________________________________\n",
            "noise_l2 (GaussianNoise)     (None, 61)                0         \n",
            "_________________________________________________________________\n",
            "layer_3 (Dense)              (None, 61)                3782      \n",
            "_________________________________________________________________\n",
            "noise_l3 (GaussianNoise)     (None, 61)                0         \n",
            "_________________________________________________________________\n",
            "layer_4 (Dense)              (None, 61)                3782      \n",
            "_________________________________________________________________\n",
            "outputs (Dense)              (None, 1)                 62        \n",
            "=================================================================\n",
            "Total params: 12,262\n",
            "Trainable params: 12,262\n",
            "Non-trainable params: 0\n",
            "_________________________________________________________________\n"
          ],
          "name": "stdout"
        }
      ]
    },
    {
      "cell_type": "code",
      "metadata": {
        "id": "focal-traffic"
      },
      "source": [
        "# Compilación del modelo\n",
        "# Código aquí\n",
        "model.compile(\n",
        "    optimizer='adam',\n",
        "    loss='mae',\n",
        "    metrics=['accuracy']\n",
        "    )"
      ],
      "id": "focal-traffic",
      "execution_count": 11,
      "outputs": []
    },
    {
      "cell_type": "code",
      "metadata": {
        "id": "338f8622"
      },
      "source": [
        "batch_size=16"
      ],
      "id": "338f8622",
      "execution_count": 12,
      "outputs": []
    },
    {
      "cell_type": "code",
      "metadata": {
        "id": "prostate-instrumentation",
        "colab": {
          "base_uri": "https://localhost:8080/"
        },
        "outputId": "a5c3d05d-2915-45cb-cbfd-d541c99534da"
      },
      "source": [
        "# No modifique el código\n",
        "model.fit(x_train,\n",
        "          y_train,\n",
        "          epochs=200,\n",
        "          batch_size=batch_size,\n",
        "          validation_split=0.2,\n",
        "          verbose=1)"
      ],
      "id": "prostate-instrumentation",
      "execution_count": 13,
      "outputs": [
        {
          "output_type": "stream",
          "text": [
            "Epoch 1/200\n",
            "21/21 [==============================] - 1s 10ms/step - loss: 34.6928 - accuracy: 0.0000e+00 - val_loss: 12.6503 - val_accuracy: 0.0000e+00\n",
            "Epoch 2/200\n",
            "21/21 [==============================] - 0s 3ms/step - loss: 9.3634 - accuracy: 0.0000e+00 - val_loss: 5.7664 - val_accuracy: 0.0000e+00\n",
            "Epoch 3/200\n",
            "21/21 [==============================] - 0s 4ms/step - loss: 5.7132 - accuracy: 0.0000e+00 - val_loss: 5.4061 - val_accuracy: 0.0000e+00\n",
            "Epoch 4/200\n",
            "21/21 [==============================] - 0s 3ms/step - loss: 5.1182 - accuracy: 0.0000e+00 - val_loss: 5.7962 - val_accuracy: 0.0000e+00\n",
            "Epoch 5/200\n",
            "21/21 [==============================] - 0s 3ms/step - loss: 5.8085 - accuracy: 0.0000e+00 - val_loss: 5.5699 - val_accuracy: 0.0000e+00\n",
            "Epoch 6/200\n",
            "21/21 [==============================] - 0s 3ms/step - loss: 5.6455 - accuracy: 0.0000e+00 - val_loss: 5.2818 - val_accuracy: 0.0000e+00\n",
            "Epoch 7/200\n",
            "21/21 [==============================] - 0s 3ms/step - loss: 5.3984 - accuracy: 0.0000e+00 - val_loss: 6.4311 - val_accuracy: 0.0000e+00\n",
            "Epoch 8/200\n",
            "21/21 [==============================] - 0s 3ms/step - loss: 5.4067 - accuracy: 0.0000e+00 - val_loss: 7.7328 - val_accuracy: 0.0000e+00\n",
            "Epoch 9/200\n",
            "21/21 [==============================] - 0s 4ms/step - loss: 5.9738 - accuracy: 0.0000e+00 - val_loss: 5.4899 - val_accuracy: 0.0000e+00\n",
            "Epoch 10/200\n",
            "21/21 [==============================] - 0s 4ms/step - loss: 5.2722 - accuracy: 0.0000e+00 - val_loss: 5.9462 - val_accuracy: 0.0000e+00\n",
            "Epoch 11/200\n",
            "21/21 [==============================] - 0s 3ms/step - loss: 5.1485 - accuracy: 0.0000e+00 - val_loss: 5.5242 - val_accuracy: 0.0000e+00\n",
            "Epoch 12/200\n",
            "21/21 [==============================] - 0s 3ms/step - loss: 5.3654 - accuracy: 0.0000e+00 - val_loss: 5.2162 - val_accuracy: 0.0000e+00\n",
            "Epoch 13/200\n",
            "21/21 [==============================] - 0s 3ms/step - loss: 4.5986 - accuracy: 0.0000e+00 - val_loss: 7.2114 - val_accuracy: 0.0000e+00\n",
            "Epoch 14/200\n",
            "21/21 [==============================] - 0s 3ms/step - loss: 5.1770 - accuracy: 0.0000e+00 - val_loss: 5.3493 - val_accuracy: 0.0000e+00\n",
            "Epoch 15/200\n",
            "21/21 [==============================] - 0s 3ms/step - loss: 5.1207 - accuracy: 0.0000e+00 - val_loss: 5.2684 - val_accuracy: 0.0000e+00\n",
            "Epoch 16/200\n",
            "21/21 [==============================] - 0s 3ms/step - loss: 5.0401 - accuracy: 0.0000e+00 - val_loss: 5.7086 - val_accuracy: 0.0000e+00\n",
            "Epoch 17/200\n",
            "21/21 [==============================] - 0s 3ms/step - loss: 5.4265 - accuracy: 0.0000e+00 - val_loss: 5.5144 - val_accuracy: 0.0000e+00\n",
            "Epoch 18/200\n",
            "21/21 [==============================] - 0s 3ms/step - loss: 5.0770 - accuracy: 0.0000e+00 - val_loss: 5.5912 - val_accuracy: 0.0000e+00\n",
            "Epoch 19/200\n",
            "21/21 [==============================] - 0s 4ms/step - loss: 5.1508 - accuracy: 0.0000e+00 - val_loss: 5.9815 - val_accuracy: 0.0000e+00\n",
            "Epoch 20/200\n",
            "21/21 [==============================] - 0s 3ms/step - loss: 5.4182 - accuracy: 0.0000e+00 - val_loss: 5.1217 - val_accuracy: 0.0000e+00\n",
            "Epoch 21/200\n",
            "21/21 [==============================] - 0s 3ms/step - loss: 4.6721 - accuracy: 0.0000e+00 - val_loss: 5.5872 - val_accuracy: 0.0000e+00\n",
            "Epoch 22/200\n",
            "21/21 [==============================] - 0s 3ms/step - loss: 4.8594 - accuracy: 0.0000e+00 - val_loss: 5.4618 - val_accuracy: 0.0000e+00\n",
            "Epoch 23/200\n",
            "21/21 [==============================] - 0s 3ms/step - loss: 4.7619 - accuracy: 0.0000e+00 - val_loss: 5.4591 - val_accuracy: 0.0000e+00\n",
            "Epoch 24/200\n",
            "21/21 [==============================] - 0s 3ms/step - loss: 4.5920 - accuracy: 0.0000e+00 - val_loss: 5.2730 - val_accuracy: 0.0000e+00\n",
            "Epoch 25/200\n",
            "21/21 [==============================] - 0s 3ms/step - loss: 4.8745 - accuracy: 0.0000e+00 - val_loss: 5.2707 - val_accuracy: 0.0000e+00\n",
            "Epoch 26/200\n",
            "21/21 [==============================] - 0s 3ms/step - loss: 5.4855 - accuracy: 0.0000e+00 - val_loss: 5.5961 - val_accuracy: 0.0000e+00\n",
            "Epoch 27/200\n",
            "21/21 [==============================] - 0s 3ms/step - loss: 5.2643 - accuracy: 0.0000e+00 - val_loss: 4.9785 - val_accuracy: 0.0000e+00\n",
            "Epoch 28/200\n",
            "21/21 [==============================] - 0s 3ms/step - loss: 4.7982 - accuracy: 0.0000e+00 - val_loss: 4.9856 - val_accuracy: 0.0000e+00\n",
            "Epoch 29/200\n",
            "21/21 [==============================] - 0s 3ms/step - loss: 4.4802 - accuracy: 0.0000e+00 - val_loss: 5.3242 - val_accuracy: 0.0000e+00\n",
            "Epoch 30/200\n",
            "21/21 [==============================] - 0s 3ms/step - loss: 4.6172 - accuracy: 0.0000e+00 - val_loss: 5.4043 - val_accuracy: 0.0000e+00\n",
            "Epoch 31/200\n",
            "21/21 [==============================] - 0s 4ms/step - loss: 4.5830 - accuracy: 0.0000e+00 - val_loss: 4.8722 - val_accuracy: 0.0000e+00\n",
            "Epoch 32/200\n",
            "21/21 [==============================] - 0s 3ms/step - loss: 4.3903 - accuracy: 0.0000e+00 - val_loss: 5.1714 - val_accuracy: 0.0000e+00\n",
            "Epoch 33/200\n",
            "21/21 [==============================] - 0s 3ms/step - loss: 4.5946 - accuracy: 0.0000e+00 - val_loss: 6.1079 - val_accuracy: 0.0000e+00\n",
            "Epoch 34/200\n",
            "21/21 [==============================] - 0s 3ms/step - loss: 5.0634 - accuracy: 0.0000e+00 - val_loss: 4.9416 - val_accuracy: 0.0000e+00\n",
            "Epoch 35/200\n",
            "21/21 [==============================] - 0s 4ms/step - loss: 4.3487 - accuracy: 0.0000e+00 - val_loss: 4.9980 - val_accuracy: 0.0000e+00\n",
            "Epoch 36/200\n",
            "21/21 [==============================] - 0s 3ms/step - loss: 3.7731 - accuracy: 0.0000e+00 - val_loss: 4.8241 - val_accuracy: 0.0000e+00\n",
            "Epoch 37/200\n",
            "21/21 [==============================] - 0s 3ms/step - loss: 3.9288 - accuracy: 0.0000e+00 - val_loss: 4.8463 - val_accuracy: 0.0000e+00\n",
            "Epoch 38/200\n",
            "21/21 [==============================] - 0s 3ms/step - loss: 4.5946 - accuracy: 0.0000e+00 - val_loss: 4.9203 - val_accuracy: 0.0000e+00\n",
            "Epoch 39/200\n",
            "21/21 [==============================] - 0s 3ms/step - loss: 4.7666 - accuracy: 0.0000e+00 - val_loss: 4.7824 - val_accuracy: 0.0000e+00\n",
            "Epoch 40/200\n",
            "21/21 [==============================] - 0s 3ms/step - loss: 4.0961 - accuracy: 0.0000e+00 - val_loss: 4.7918 - val_accuracy: 0.0000e+00\n",
            "Epoch 41/200\n",
            "21/21 [==============================] - 0s 3ms/step - loss: 4.7951 - accuracy: 0.0000e+00 - val_loss: 5.4823 - val_accuracy: 0.0000e+00\n",
            "Epoch 42/200\n",
            "21/21 [==============================] - 0s 3ms/step - loss: 5.4112 - accuracy: 0.0000e+00 - val_loss: 4.9721 - val_accuracy: 0.0000e+00\n",
            "Epoch 43/200\n",
            "21/21 [==============================] - 0s 3ms/step - loss: 4.0206 - accuracy: 0.0000e+00 - val_loss: 4.6925 - val_accuracy: 0.0000e+00\n",
            "Epoch 44/200\n",
            "21/21 [==============================] - 0s 3ms/step - loss: 3.6791 - accuracy: 0.0000e+00 - val_loss: 5.1910 - val_accuracy: 0.0000e+00\n",
            "Epoch 45/200\n",
            "21/21 [==============================] - 0s 3ms/step - loss: 4.5227 - accuracy: 0.0000e+00 - val_loss: 4.6197 - val_accuracy: 0.0000e+00\n",
            "Epoch 46/200\n",
            "21/21 [==============================] - 0s 3ms/step - loss: 4.0377 - accuracy: 0.0000e+00 - val_loss: 4.6201 - val_accuracy: 0.0000e+00\n",
            "Epoch 47/200\n",
            "21/21 [==============================] - 0s 3ms/step - loss: 4.3109 - accuracy: 0.0000e+00 - val_loss: 5.0900 - val_accuracy: 0.0000e+00\n",
            "Epoch 48/200\n",
            "21/21 [==============================] - 0s 3ms/step - loss: 4.0741 - accuracy: 0.0000e+00 - val_loss: 4.6639 - val_accuracy: 0.0000e+00\n",
            "Epoch 49/200\n",
            "21/21 [==============================] - 0s 3ms/step - loss: 4.0672 - accuracy: 0.0000e+00 - val_loss: 4.7630 - val_accuracy: 0.0000e+00\n",
            "Epoch 50/200\n",
            "21/21 [==============================] - 0s 3ms/step - loss: 3.7511 - accuracy: 0.0000e+00 - val_loss: 4.8274 - val_accuracy: 0.0000e+00\n",
            "Epoch 51/200\n",
            "21/21 [==============================] - 0s 3ms/step - loss: 3.7269 - accuracy: 0.0000e+00 - val_loss: 4.5018 - val_accuracy: 0.0000e+00\n",
            "Epoch 52/200\n",
            "21/21 [==============================] - 0s 3ms/step - loss: 4.4258 - accuracy: 0.0000e+00 - val_loss: 4.5846 - val_accuracy: 0.0000e+00\n",
            "Epoch 53/200\n",
            "21/21 [==============================] - 0s 3ms/step - loss: 3.9011 - accuracy: 0.0000e+00 - val_loss: 4.8668 - val_accuracy: 0.0000e+00\n",
            "Epoch 54/200\n",
            "21/21 [==============================] - 0s 3ms/step - loss: 4.6334 - accuracy: 0.0000e+00 - val_loss: 4.8421 - val_accuracy: 0.0000e+00\n",
            "Epoch 55/200\n",
            "21/21 [==============================] - 0s 3ms/step - loss: 4.2226 - accuracy: 0.0000e+00 - val_loss: 4.6288 - val_accuracy: 0.0000e+00\n",
            "Epoch 56/200\n",
            "21/21 [==============================] - 0s 3ms/step - loss: 3.9503 - accuracy: 0.0000e+00 - val_loss: 5.0238 - val_accuracy: 0.0000e+00\n",
            "Epoch 57/200\n",
            "21/21 [==============================] - 0s 3ms/step - loss: 4.0411 - accuracy: 0.0000e+00 - val_loss: 4.6474 - val_accuracy: 0.0000e+00\n",
            "Epoch 58/200\n",
            "21/21 [==============================] - 0s 3ms/step - loss: 3.8344 - accuracy: 0.0000e+00 - val_loss: 4.6651 - val_accuracy: 0.0000e+00\n",
            "Epoch 59/200\n",
            "21/21 [==============================] - 0s 3ms/step - loss: 4.4809 - accuracy: 0.0000e+00 - val_loss: 4.4443 - val_accuracy: 0.0000e+00\n",
            "Epoch 60/200\n",
            "21/21 [==============================] - 0s 3ms/step - loss: 4.0035 - accuracy: 0.0000e+00 - val_loss: 4.4030 - val_accuracy: 0.0000e+00\n",
            "Epoch 61/200\n",
            "21/21 [==============================] - 0s 3ms/step - loss: 4.4874 - accuracy: 0.0000e+00 - val_loss: 5.1453 - val_accuracy: 0.0000e+00\n",
            "Epoch 62/200\n",
            "21/21 [==============================] - 0s 3ms/step - loss: 4.3631 - accuracy: 0.0000e+00 - val_loss: 4.4554 - val_accuracy: 0.0000e+00\n",
            "Epoch 63/200\n",
            "21/21 [==============================] - 0s 4ms/step - loss: 3.5630 - accuracy: 0.0000e+00 - val_loss: 5.0941 - val_accuracy: 0.0000e+00\n",
            "Epoch 64/200\n",
            "21/21 [==============================] - 0s 3ms/step - loss: 4.6812 - accuracy: 0.0000e+00 - val_loss: 4.5804 - val_accuracy: 0.0000e+00\n",
            "Epoch 65/200\n",
            "21/21 [==============================] - 0s 3ms/step - loss: 3.7390 - accuracy: 0.0000e+00 - val_loss: 5.8186 - val_accuracy: 0.0000e+00\n",
            "Epoch 66/200\n",
            "21/21 [==============================] - 0s 3ms/step - loss: 4.5338 - accuracy: 0.0000e+00 - val_loss: 4.4277 - val_accuracy: 0.0000e+00\n",
            "Epoch 67/200\n",
            "21/21 [==============================] - 0s 3ms/step - loss: 4.1185 - accuracy: 0.0000e+00 - val_loss: 4.6237 - val_accuracy: 0.0000e+00\n",
            "Epoch 68/200\n",
            "21/21 [==============================] - 0s 3ms/step - loss: 4.1263 - accuracy: 0.0000e+00 - val_loss: 4.2149 - val_accuracy: 0.0000e+00\n",
            "Epoch 69/200\n",
            "21/21 [==============================] - 0s 3ms/step - loss: 3.6991 - accuracy: 0.0000e+00 - val_loss: 4.3783 - val_accuracy: 0.0000e+00\n",
            "Epoch 70/200\n",
            "21/21 [==============================] - 0s 3ms/step - loss: 4.2443 - accuracy: 0.0000e+00 - val_loss: 4.3544 - val_accuracy: 0.0000e+00\n",
            "Epoch 71/200\n",
            "21/21 [==============================] - 0s 3ms/step - loss: 3.7677 - accuracy: 0.0000e+00 - val_loss: 4.7622 - val_accuracy: 0.0000e+00\n",
            "Epoch 72/200\n",
            "21/21 [==============================] - 0s 4ms/step - loss: 3.8458 - accuracy: 0.0000e+00 - val_loss: 4.3541 - val_accuracy: 0.0000e+00\n",
            "Epoch 73/200\n",
            "21/21 [==============================] - 0s 3ms/step - loss: 3.8457 - accuracy: 0.0000e+00 - val_loss: 4.2973 - val_accuracy: 0.0000e+00\n",
            "Epoch 74/200\n",
            "21/21 [==============================] - 0s 3ms/step - loss: 4.0729 - accuracy: 0.0000e+00 - val_loss: 4.2404 - val_accuracy: 0.0000e+00\n",
            "Epoch 75/200\n",
            "21/21 [==============================] - 0s 3ms/step - loss: 3.8193 - accuracy: 0.0000e+00 - val_loss: 4.8338 - val_accuracy: 0.0000e+00\n",
            "Epoch 76/200\n",
            "21/21 [==============================] - 0s 3ms/step - loss: 4.0305 - accuracy: 0.0000e+00 - val_loss: 4.3895 - val_accuracy: 0.0000e+00\n",
            "Epoch 77/200\n",
            "21/21 [==============================] - 0s 3ms/step - loss: 3.7667 - accuracy: 0.0000e+00 - val_loss: 4.2552 - val_accuracy: 0.0000e+00\n",
            "Epoch 78/200\n",
            "21/21 [==============================] - 0s 3ms/step - loss: 3.9228 - accuracy: 0.0000e+00 - val_loss: 4.1205 - val_accuracy: 0.0000e+00\n",
            "Epoch 79/200\n",
            "21/21 [==============================] - 0s 3ms/step - loss: 3.9098 - accuracy: 0.0000e+00 - val_loss: 4.1524 - val_accuracy: 0.0000e+00\n",
            "Epoch 80/200\n",
            "21/21 [==============================] - 0s 3ms/step - loss: 4.0455 - accuracy: 0.0000e+00 - val_loss: 4.7133 - val_accuracy: 0.0000e+00\n",
            "Epoch 81/200\n",
            "21/21 [==============================] - 0s 3ms/step - loss: 4.0749 - accuracy: 0.0000e+00 - val_loss: 4.8040 - val_accuracy: 0.0000e+00\n",
            "Epoch 82/200\n",
            "21/21 [==============================] - 0s 3ms/step - loss: 4.0575 - accuracy: 0.0000e+00 - val_loss: 4.6339 - val_accuracy: 0.0000e+00\n",
            "Epoch 83/200\n",
            "21/21 [==============================] - 0s 3ms/step - loss: 3.1987 - accuracy: 0.0000e+00 - val_loss: 4.2445 - val_accuracy: 0.0000e+00\n",
            "Epoch 84/200\n",
            "21/21 [==============================] - 0s 3ms/step - loss: 3.4049 - accuracy: 0.0000e+00 - val_loss: 4.2681 - val_accuracy: 0.0000e+00\n",
            "Epoch 85/200\n",
            "21/21 [==============================] - 0s 3ms/step - loss: 3.8735 - accuracy: 0.0000e+00 - val_loss: 4.1498 - val_accuracy: 0.0000e+00\n",
            "Epoch 86/200\n",
            "21/21 [==============================] - 0s 3ms/step - loss: 3.5827 - accuracy: 0.0000e+00 - val_loss: 4.4039 - val_accuracy: 0.0000e+00\n",
            "Epoch 87/200\n",
            "21/21 [==============================] - 0s 3ms/step - loss: 4.0965 - accuracy: 0.0000e+00 - val_loss: 4.5681 - val_accuracy: 0.0000e+00\n",
            "Epoch 88/200\n",
            "21/21 [==============================] - 0s 3ms/step - loss: 4.1586 - accuracy: 0.0000e+00 - val_loss: 4.2293 - val_accuracy: 0.0000e+00\n",
            "Epoch 89/200\n",
            "21/21 [==============================] - 0s 3ms/step - loss: 3.4222 - accuracy: 0.0000e+00 - val_loss: 4.1993 - val_accuracy: 0.0000e+00\n",
            "Epoch 90/200\n",
            "21/21 [==============================] - 0s 3ms/step - loss: 4.1327 - accuracy: 0.0000e+00 - val_loss: 4.1710 - val_accuracy: 0.0000e+00\n",
            "Epoch 91/200\n",
            "21/21 [==============================] - 0s 4ms/step - loss: 3.4251 - accuracy: 0.0000e+00 - val_loss: 4.6499 - val_accuracy: 0.0000e+00\n",
            "Epoch 92/200\n",
            "21/21 [==============================] - 0s 3ms/step - loss: 3.9679 - accuracy: 0.0000e+00 - val_loss: 4.4892 - val_accuracy: 0.0000e+00\n",
            "Epoch 93/200\n",
            "21/21 [==============================] - 0s 3ms/step - loss: 3.8847 - accuracy: 0.0000e+00 - val_loss: 4.2637 - val_accuracy: 0.0000e+00\n",
            "Epoch 94/200\n",
            "21/21 [==============================] - 0s 3ms/step - loss: 4.1559 - accuracy: 0.0000e+00 - val_loss: 5.3751 - val_accuracy: 0.0000e+00\n",
            "Epoch 95/200\n",
            "21/21 [==============================] - 0s 4ms/step - loss: 4.2564 - accuracy: 0.0000e+00 - val_loss: 4.0705 - val_accuracy: 0.0000e+00\n",
            "Epoch 96/200\n",
            "21/21 [==============================] - 0s 4ms/step - loss: 3.7362 - accuracy: 0.0000e+00 - val_loss: 3.9961 - val_accuracy: 0.0000e+00\n",
            "Epoch 97/200\n",
            "21/21 [==============================] - 0s 3ms/step - loss: 4.0573 - accuracy: 0.0000e+00 - val_loss: 4.1037 - val_accuracy: 0.0000e+00\n",
            "Epoch 98/200\n",
            "21/21 [==============================] - 0s 3ms/step - loss: 3.8625 - accuracy: 0.0000e+00 - val_loss: 3.9727 - val_accuracy: 0.0000e+00\n",
            "Epoch 99/200\n",
            "21/21 [==============================] - 0s 3ms/step - loss: 3.4900 - accuracy: 0.0000e+00 - val_loss: 4.7181 - val_accuracy: 0.0000e+00\n",
            "Epoch 100/200\n",
            "21/21 [==============================] - 0s 4ms/step - loss: 3.7693 - accuracy: 0.0000e+00 - val_loss: 4.5415 - val_accuracy: 0.0000e+00\n",
            "Epoch 101/200\n",
            "21/21 [==============================] - 0s 3ms/step - loss: 4.0543 - accuracy: 0.0000e+00 - val_loss: 3.9128 - val_accuracy: 0.0000e+00\n",
            "Epoch 102/200\n",
            "21/21 [==============================] - 0s 3ms/step - loss: 3.5799 - accuracy: 0.0000e+00 - val_loss: 5.2079 - val_accuracy: 0.0000e+00\n",
            "Epoch 103/200\n",
            "21/21 [==============================] - 0s 3ms/step - loss: 5.1376 - accuracy: 0.0000e+00 - val_loss: 4.3463 - val_accuracy: 0.0000e+00\n",
            "Epoch 104/200\n",
            "21/21 [==============================] - 0s 3ms/step - loss: 3.8062 - accuracy: 0.0000e+00 - val_loss: 4.0080 - val_accuracy: 0.0000e+00\n",
            "Epoch 105/200\n",
            "21/21 [==============================] - 0s 3ms/step - loss: 3.5758 - accuracy: 0.0000e+00 - val_loss: 4.0115 - val_accuracy: 0.0000e+00\n",
            "Epoch 106/200\n",
            "21/21 [==============================] - 0s 4ms/step - loss: 3.2920 - accuracy: 0.0000e+00 - val_loss: 3.8855 - val_accuracy: 0.0000e+00\n",
            "Epoch 107/200\n",
            "21/21 [==============================] - 0s 3ms/step - loss: 3.5218 - accuracy: 0.0000e+00 - val_loss: 4.3543 - val_accuracy: 0.0000e+00\n",
            "Epoch 108/200\n",
            "21/21 [==============================] - 0s 3ms/step - loss: 4.1377 - accuracy: 0.0000e+00 - val_loss: 4.2613 - val_accuracy: 0.0000e+00\n",
            "Epoch 109/200\n",
            "21/21 [==============================] - 0s 3ms/step - loss: 3.0694 - accuracy: 0.0000e+00 - val_loss: 3.8933 - val_accuracy: 0.0000e+00\n",
            "Epoch 110/200\n",
            "21/21 [==============================] - 0s 3ms/step - loss: 3.8735 - accuracy: 0.0000e+00 - val_loss: 3.9824 - val_accuracy: 0.0000e+00\n",
            "Epoch 111/200\n",
            "21/21 [==============================] - 0s 3ms/step - loss: 3.5759 - accuracy: 0.0000e+00 - val_loss: 3.8488 - val_accuracy: 0.0000e+00\n",
            "Epoch 112/200\n",
            "21/21 [==============================] - 0s 3ms/step - loss: 3.4271 - accuracy: 0.0000e+00 - val_loss: 3.9100 - val_accuracy: 0.0000e+00\n",
            "Epoch 113/200\n",
            "21/21 [==============================] - 0s 3ms/step - loss: 3.9140 - accuracy: 0.0000e+00 - val_loss: 4.3613 - val_accuracy: 0.0000e+00\n",
            "Epoch 114/200\n",
            "21/21 [==============================] - 0s 3ms/step - loss: 4.5608 - accuracy: 0.0000e+00 - val_loss: 4.7419 - val_accuracy: 0.0000e+00\n",
            "Epoch 115/200\n",
            "21/21 [==============================] - 0s 3ms/step - loss: 3.5246 - accuracy: 0.0000e+00 - val_loss: 3.9142 - val_accuracy: 0.0000e+00\n",
            "Epoch 116/200\n",
            "21/21 [==============================] - 0s 3ms/step - loss: 3.4552 - accuracy: 0.0000e+00 - val_loss: 4.7085 - val_accuracy: 0.0000e+00\n",
            "Epoch 117/200\n",
            "21/21 [==============================] - 0s 3ms/step - loss: 3.7019 - accuracy: 0.0000e+00 - val_loss: 3.8558 - val_accuracy: 0.0000e+00\n",
            "Epoch 118/200\n",
            "21/21 [==============================] - 0s 3ms/step - loss: 3.3776 - accuracy: 0.0000e+00 - val_loss: 3.8608 - val_accuracy: 0.0000e+00\n",
            "Epoch 119/200\n",
            "21/21 [==============================] - 0s 3ms/step - loss: 3.3175 - accuracy: 0.0000e+00 - val_loss: 3.7826 - val_accuracy: 0.0000e+00\n",
            "Epoch 120/200\n",
            "21/21 [==============================] - 0s 3ms/step - loss: 3.4490 - accuracy: 0.0000e+00 - val_loss: 4.3188 - val_accuracy: 0.0000e+00\n",
            "Epoch 121/200\n",
            "21/21 [==============================] - 0s 3ms/step - loss: 3.8848 - accuracy: 0.0000e+00 - val_loss: 3.9988 - val_accuracy: 0.0000e+00\n",
            "Epoch 122/200\n",
            "21/21 [==============================] - 0s 4ms/step - loss: 3.6614 - accuracy: 0.0000e+00 - val_loss: 3.8063 - val_accuracy: 0.0000e+00\n",
            "Epoch 123/200\n",
            "21/21 [==============================] - 0s 3ms/step - loss: 3.6094 - accuracy: 0.0000e+00 - val_loss: 4.4257 - val_accuracy: 0.0000e+00\n",
            "Epoch 124/200\n",
            "21/21 [==============================] - 0s 3ms/step - loss: 3.4051 - accuracy: 0.0000e+00 - val_loss: 3.9465 - val_accuracy: 0.0000e+00\n",
            "Epoch 125/200\n",
            "21/21 [==============================] - 0s 3ms/step - loss: 3.2645 - accuracy: 0.0000e+00 - val_loss: 3.7314 - val_accuracy: 0.0000e+00\n",
            "Epoch 126/200\n",
            "21/21 [==============================] - 0s 3ms/step - loss: 3.5243 - accuracy: 0.0000e+00 - val_loss: 3.7594 - val_accuracy: 0.0000e+00\n",
            "Epoch 127/200\n",
            "21/21 [==============================] - 0s 4ms/step - loss: 3.2061 - accuracy: 0.0000e+00 - val_loss: 3.6737 - val_accuracy: 0.0000e+00\n",
            "Epoch 128/200\n",
            "21/21 [==============================] - 0s 3ms/step - loss: 3.3531 - accuracy: 0.0000e+00 - val_loss: 3.6220 - val_accuracy: 0.0000e+00\n",
            "Epoch 129/200\n",
            "21/21 [==============================] - 0s 4ms/step - loss: 3.3385 - accuracy: 0.0000e+00 - val_loss: 4.9424 - val_accuracy: 0.0000e+00\n",
            "Epoch 130/200\n",
            "21/21 [==============================] - 0s 3ms/step - loss: 4.2347 - accuracy: 0.0000e+00 - val_loss: 3.6489 - val_accuracy: 0.0000e+00\n",
            "Epoch 131/200\n",
            "21/21 [==============================] - 0s 4ms/step - loss: 3.3213 - accuracy: 0.0000e+00 - val_loss: 4.7349 - val_accuracy: 0.0000e+00\n",
            "Epoch 132/200\n",
            "21/21 [==============================] - 0s 3ms/step - loss: 3.4547 - accuracy: 0.0000e+00 - val_loss: 3.9773 - val_accuracy: 0.0000e+00\n",
            "Epoch 133/200\n",
            "21/21 [==============================] - 0s 3ms/step - loss: 3.8195 - accuracy: 0.0000e+00 - val_loss: 3.8356 - val_accuracy: 0.0000e+00\n",
            "Epoch 134/200\n",
            "21/21 [==============================] - 0s 3ms/step - loss: 3.5700 - accuracy: 0.0000e+00 - val_loss: 3.5028 - val_accuracy: 0.0000e+00\n",
            "Epoch 135/200\n",
            "21/21 [==============================] - 0s 3ms/step - loss: 2.9852 - accuracy: 0.0000e+00 - val_loss: 3.9079 - val_accuracy: 0.0000e+00\n",
            "Epoch 136/200\n",
            "21/21 [==============================] - 0s 4ms/step - loss: 3.3557 - accuracy: 0.0000e+00 - val_loss: 3.9050 - val_accuracy: 0.0000e+00\n",
            "Epoch 137/200\n",
            "21/21 [==============================] - 0s 3ms/step - loss: 3.5678 - accuracy: 0.0000e+00 - val_loss: 3.6156 - val_accuracy: 0.0000e+00\n",
            "Epoch 138/200\n",
            "21/21 [==============================] - 0s 3ms/step - loss: 3.2795 - accuracy: 0.0000e+00 - val_loss: 4.7581 - val_accuracy: 0.0000e+00\n",
            "Epoch 139/200\n",
            "21/21 [==============================] - 0s 3ms/step - loss: 3.5920 - accuracy: 0.0000e+00 - val_loss: 3.6905 - val_accuracy: 0.0000e+00\n",
            "Epoch 140/200\n",
            "21/21 [==============================] - 0s 4ms/step - loss: 3.2641 - accuracy: 0.0000e+00 - val_loss: 3.4983 - val_accuracy: 0.0000e+00\n",
            "Epoch 141/200\n",
            "21/21 [==============================] - 0s 3ms/step - loss: 3.2972 - accuracy: 0.0000e+00 - val_loss: 3.5419 - val_accuracy: 0.0000e+00\n",
            "Epoch 142/200\n",
            "21/21 [==============================] - 0s 3ms/step - loss: 3.1042 - accuracy: 0.0000e+00 - val_loss: 3.4301 - val_accuracy: 0.0000e+00\n",
            "Epoch 143/200\n",
            "21/21 [==============================] - 0s 3ms/step - loss: 3.1434 - accuracy: 0.0000e+00 - val_loss: 3.9252 - val_accuracy: 0.0000e+00\n",
            "Epoch 144/200\n",
            "21/21 [==============================] - 0s 3ms/step - loss: 3.9725 - accuracy: 0.0000e+00 - val_loss: 3.3839 - val_accuracy: 0.0000e+00\n",
            "Epoch 145/200\n",
            "21/21 [==============================] - 0s 3ms/step - loss: 3.2064 - accuracy: 0.0000e+00 - val_loss: 3.6992 - val_accuracy: 0.0000e+00\n",
            "Epoch 146/200\n",
            "21/21 [==============================] - 0s 4ms/step - loss: 3.1870 - accuracy: 0.0000e+00 - val_loss: 3.5564 - val_accuracy: 0.0000e+00\n",
            "Epoch 147/200\n",
            "21/21 [==============================] - 0s 3ms/step - loss: 3.2891 - accuracy: 0.0000e+00 - val_loss: 3.6420 - val_accuracy: 0.0000e+00\n",
            "Epoch 148/200\n",
            "21/21 [==============================] - 0s 3ms/step - loss: 3.2148 - accuracy: 0.0000e+00 - val_loss: 3.4420 - val_accuracy: 0.0000e+00\n",
            "Epoch 149/200\n",
            "21/21 [==============================] - 0s 3ms/step - loss: 2.9099 - accuracy: 0.0000e+00 - val_loss: 3.6015 - val_accuracy: 0.0000e+00\n",
            "Epoch 150/200\n",
            "21/21 [==============================] - 0s 3ms/step - loss: 3.5159 - accuracy: 0.0000e+00 - val_loss: 3.8787 - val_accuracy: 0.0000e+00\n",
            "Epoch 151/200\n",
            "21/21 [==============================] - 0s 3ms/step - loss: 3.2068 - accuracy: 0.0000e+00 - val_loss: 3.4775 - val_accuracy: 0.0000e+00\n",
            "Epoch 152/200\n",
            "21/21 [==============================] - 0s 4ms/step - loss: 3.5924 - accuracy: 0.0000e+00 - val_loss: 3.3174 - val_accuracy: 0.0000e+00\n",
            "Epoch 153/200\n",
            "21/21 [==============================] - 0s 3ms/step - loss: 2.8672 - accuracy: 0.0000e+00 - val_loss: 3.6927 - val_accuracy: 0.0000e+00\n",
            "Epoch 154/200\n",
            "21/21 [==============================] - 0s 4ms/step - loss: 2.9266 - accuracy: 0.0000e+00 - val_loss: 3.8590 - val_accuracy: 0.0000e+00\n",
            "Epoch 155/200\n",
            "21/21 [==============================] - 0s 3ms/step - loss: 3.1463 - accuracy: 0.0000e+00 - val_loss: 3.1590 - val_accuracy: 0.0000e+00\n",
            "Epoch 156/200\n",
            "21/21 [==============================] - 0s 3ms/step - loss: 2.9184 - accuracy: 0.0000e+00 - val_loss: 3.3956 - val_accuracy: 0.0000e+00\n",
            "Epoch 157/200\n",
            "21/21 [==============================] - 0s 3ms/step - loss: 3.2186 - accuracy: 0.0000e+00 - val_loss: 3.3315 - val_accuracy: 0.0000e+00\n",
            "Epoch 158/200\n",
            "21/21 [==============================] - 0s 3ms/step - loss: 3.0564 - accuracy: 0.0000e+00 - val_loss: 3.3261 - val_accuracy: 0.0000e+00\n",
            "Epoch 159/200\n",
            "21/21 [==============================] - 0s 4ms/step - loss: 2.9102 - accuracy: 0.0000e+00 - val_loss: 3.5522 - val_accuracy: 0.0000e+00\n",
            "Epoch 160/200\n",
            "21/21 [==============================] - 0s 3ms/step - loss: 3.2644 - accuracy: 0.0000e+00 - val_loss: 4.1279 - val_accuracy: 0.0000e+00\n",
            "Epoch 161/200\n",
            "21/21 [==============================] - 0s 3ms/step - loss: 3.7118 - accuracy: 0.0000e+00 - val_loss: 3.2526 - val_accuracy: 0.0000e+00\n",
            "Epoch 162/200\n",
            "21/21 [==============================] - 0s 3ms/step - loss: 2.8311 - accuracy: 0.0000e+00 - val_loss: 3.3813 - val_accuracy: 0.0000e+00\n",
            "Epoch 163/200\n",
            "21/21 [==============================] - 0s 3ms/step - loss: 3.4694 - accuracy: 0.0000e+00 - val_loss: 3.2151 - val_accuracy: 0.0000e+00\n",
            "Epoch 164/200\n",
            "21/21 [==============================] - 0s 3ms/step - loss: 2.7827 - accuracy: 0.0000e+00 - val_loss: 3.5756 - val_accuracy: 0.0000e+00\n",
            "Epoch 165/200\n",
            "21/21 [==============================] - 0s 3ms/step - loss: 2.7334 - accuracy: 0.0000e+00 - val_loss: 3.1306 - val_accuracy: 0.0000e+00\n",
            "Epoch 166/200\n",
            "21/21 [==============================] - 0s 3ms/step - loss: 3.6614 - accuracy: 0.0000e+00 - val_loss: 4.6200 - val_accuracy: 0.0000e+00\n",
            "Epoch 167/200\n",
            "21/21 [==============================] - 0s 4ms/step - loss: 4.3063 - accuracy: 0.0000e+00 - val_loss: 4.4240 - val_accuracy: 0.0000e+00\n",
            "Epoch 168/200\n",
            "21/21 [==============================] - 0s 4ms/step - loss: 3.7197 - accuracy: 0.0000e+00 - val_loss: 3.2886 - val_accuracy: 0.0000e+00\n",
            "Epoch 169/200\n",
            "21/21 [==============================] - 0s 3ms/step - loss: 2.7863 - accuracy: 0.0000e+00 - val_loss: 3.2359 - val_accuracy: 0.0000e+00\n",
            "Epoch 170/200\n",
            "21/21 [==============================] - 0s 3ms/step - loss: 3.1568 - accuracy: 0.0000e+00 - val_loss: 3.9815 - val_accuracy: 0.0000e+00\n",
            "Epoch 171/200\n",
            "21/21 [==============================] - 0s 3ms/step - loss: 3.2742 - accuracy: 0.0000e+00 - val_loss: 3.2353 - val_accuracy: 0.0000e+00\n",
            "Epoch 172/200\n",
            "21/21 [==============================] - 0s 3ms/step - loss: 3.0903 - accuracy: 0.0000e+00 - val_loss: 3.9230 - val_accuracy: 0.0000e+00\n",
            "Epoch 173/200\n",
            "21/21 [==============================] - 0s 4ms/step - loss: 3.5552 - accuracy: 0.0000e+00 - val_loss: 3.2931 - val_accuracy: 0.0000e+00\n",
            "Epoch 174/200\n",
            "21/21 [==============================] - 0s 4ms/step - loss: 3.9071 - accuracy: 0.0000e+00 - val_loss: 3.3131 - val_accuracy: 0.0000e+00\n",
            "Epoch 175/200\n",
            "21/21 [==============================] - 0s 3ms/step - loss: 3.1169 - accuracy: 0.0000e+00 - val_loss: 3.6537 - val_accuracy: 0.0000e+00\n",
            "Epoch 176/200\n",
            "21/21 [==============================] - 0s 3ms/step - loss: 2.9420 - accuracy: 0.0000e+00 - val_loss: 3.0706 - val_accuracy: 0.0000e+00\n",
            "Epoch 177/200\n",
            "21/21 [==============================] - 0s 4ms/step - loss: 3.0052 - accuracy: 0.0000e+00 - val_loss: 3.5987 - val_accuracy: 0.0000e+00\n",
            "Epoch 178/200\n",
            "21/21 [==============================] - 0s 3ms/step - loss: 3.1345 - accuracy: 0.0000e+00 - val_loss: 3.1566 - val_accuracy: 0.0000e+00\n",
            "Epoch 179/200\n",
            "21/21 [==============================] - 0s 3ms/step - loss: 2.8361 - accuracy: 0.0000e+00 - val_loss: 3.2413 - val_accuracy: 0.0000e+00\n",
            "Epoch 180/200\n",
            "21/21 [==============================] - 0s 3ms/step - loss: 2.6598 - accuracy: 0.0000e+00 - val_loss: 3.3718 - val_accuracy: 0.0000e+00\n",
            "Epoch 181/200\n",
            "21/21 [==============================] - 0s 4ms/step - loss: 2.8476 - accuracy: 0.0000e+00 - val_loss: 4.0527 - val_accuracy: 0.0000e+00\n",
            "Epoch 182/200\n",
            "21/21 [==============================] - 0s 3ms/step - loss: 2.9246 - accuracy: 0.0000e+00 - val_loss: 3.1722 - val_accuracy: 0.0000e+00\n",
            "Epoch 183/200\n",
            "21/21 [==============================] - 0s 3ms/step - loss: 2.8824 - accuracy: 0.0000e+00 - val_loss: 3.2366 - val_accuracy: 0.0000e+00\n",
            "Epoch 184/200\n",
            "21/21 [==============================] - 0s 3ms/step - loss: 3.0682 - accuracy: 0.0000e+00 - val_loss: 3.5912 - val_accuracy: 0.0000e+00\n",
            "Epoch 185/200\n",
            "21/21 [==============================] - 0s 3ms/step - loss: 3.0349 - accuracy: 0.0000e+00 - val_loss: 3.0888 - val_accuracy: 0.0000e+00\n",
            "Epoch 186/200\n",
            "21/21 [==============================] - 0s 4ms/step - loss: 2.9729 - accuracy: 0.0000e+00 - val_loss: 3.7983 - val_accuracy: 0.0000e+00\n",
            "Epoch 187/200\n",
            "21/21 [==============================] - 0s 4ms/step - loss: 3.3309 - accuracy: 0.0000e+00 - val_loss: 3.4574 - val_accuracy: 0.0000e+00\n",
            "Epoch 188/200\n",
            "21/21 [==============================] - 0s 3ms/step - loss: 3.4871 - accuracy: 0.0000e+00 - val_loss: 3.5460 - val_accuracy: 0.0000e+00\n",
            "Epoch 189/200\n",
            "21/21 [==============================] - 0s 3ms/step - loss: 3.6890 - accuracy: 0.0000e+00 - val_loss: 3.3241 - val_accuracy: 0.0000e+00\n",
            "Epoch 190/200\n",
            "21/21 [==============================] - 0s 4ms/step - loss: 2.9511 - accuracy: 0.0000e+00 - val_loss: 3.0817 - val_accuracy: 0.0000e+00\n",
            "Epoch 191/200\n",
            "21/21 [==============================] - 0s 3ms/step - loss: 2.8261 - accuracy: 0.0000e+00 - val_loss: 3.6527 - val_accuracy: 0.0000e+00\n",
            "Epoch 192/200\n",
            "21/21 [==============================] - 0s 3ms/step - loss: 2.7438 - accuracy: 0.0000e+00 - val_loss: 2.9444 - val_accuracy: 0.0000e+00\n",
            "Epoch 193/200\n",
            "21/21 [==============================] - 0s 3ms/step - loss: 2.6960 - accuracy: 0.0000e+00 - val_loss: 3.0284 - val_accuracy: 0.0000e+00\n",
            "Epoch 194/200\n",
            "21/21 [==============================] - 0s 4ms/step - loss: 2.6537 - accuracy: 0.0000e+00 - val_loss: 3.4886 - val_accuracy: 0.0000e+00\n",
            "Epoch 195/200\n",
            "21/21 [==============================] - 0s 4ms/step - loss: 2.6072 - accuracy: 0.0000e+00 - val_loss: 3.1144 - val_accuracy: 0.0000e+00\n",
            "Epoch 196/200\n",
            "21/21 [==============================] - 0s 3ms/step - loss: 2.8957 - accuracy: 0.0000e+00 - val_loss: 2.9071 - val_accuracy: 0.0000e+00\n",
            "Epoch 197/200\n",
            "21/21 [==============================] - 0s 3ms/step - loss: 2.5949 - accuracy: 0.0000e+00 - val_loss: 3.6255 - val_accuracy: 0.0000e+00\n",
            "Epoch 198/200\n",
            "21/21 [==============================] - 0s 3ms/step - loss: 3.0695 - accuracy: 0.0000e+00 - val_loss: 3.1106 - val_accuracy: 0.0000e+00\n",
            "Epoch 199/200\n",
            "21/21 [==============================] - 0s 3ms/step - loss: 2.9403 - accuracy: 0.0000e+00 - val_loss: 2.8995 - val_accuracy: 0.0000e+00\n",
            "Epoch 200/200\n",
            "21/21 [==============================] - 0s 3ms/step - loss: 3.1088 - accuracy: 0.0000e+00 - val_loss: 3.1833 - val_accuracy: 0.0000e+00\n"
          ],
          "name": "stdout"
        },
        {
          "output_type": "execute_result",
          "data": {
            "text/plain": [
              "<tensorflow.python.keras.callbacks.History at 0x7fa53ce5dc10>"
            ]
          },
          "metadata": {
            "tags": []
          },
          "execution_count": 13
        }
      ]
    },
    {
      "cell_type": "code",
      "metadata": {
        "id": "friendly-powell",
        "colab": {
          "base_uri": "https://localhost:8080/"
        },
        "outputId": "09f7cdb2-4ffd-420e-f8a6-74426c6fbaa3"
      },
      "source": [
        "# No modifique el código\n",
        "results = model.evaluate(x_test, y_test, verbose=1)\n",
        "print('Test Loss: {}'.format(results))"
      ],
      "id": "friendly-powell",
      "execution_count": 15,
      "outputs": [
        {
          "output_type": "stream",
          "text": [
            "4/4 [==============================] - 0s 2ms/step - loss: 3.5839 - accuracy: 0.0000e+00\n",
            "Test Loss: [3.5839436054229736, 0.0]\n"
          ],
          "name": "stdout"
        }
      ]
    },
    {
      "cell_type": "markdown",
      "metadata": {
        "id": "british-vegetation"
      },
      "source": [
        "<a name='1.3'></a>\n",
        "## Cuestión 3: Utilice el mismo modelo de la cuestión anterior pero añadiendo un callback de early stopping. Obtenga un test loss inferior al del modelo anterior"
      ],
      "id": "british-vegetation"
    },
    {
      "cell_type": "code",
      "metadata": {
        "id": "precise-finish"
      },
      "source": [
        "model = tf.keras.models.Sequential()\n",
        "# Código aquí\n",
        "..."
      ],
      "id": "precise-finish",
      "execution_count": null,
      "outputs": []
    },
    {
      "cell_type": "code",
      "metadata": {
        "id": "blond-telephone"
      },
      "source": [
        "# Compilación del modelo\n",
        "# Código aquí\n",
        "model.compile(...)"
      ],
      "id": "blond-telephone",
      "execution_count": null,
      "outputs": []
    },
    {
      "cell_type": "code",
      "metadata": {
        "id": "subsequent-roads"
      },
      "source": [
        "## definir el early stopping callback\n",
        "# Código aquí\n",
        "...\n",
        "model.fit(x_train,\n",
        "          y_train,\n",
        "          epochs=200,\n",
        "          batch_size=32,\n",
        "          validation_split=0.2,\n",
        "          verbose=1,\n",
        "          callbacks=[...]) # Código aquí"
      ],
      "id": "subsequent-roads",
      "execution_count": null,
      "outputs": []
    },
    {
      "cell_type": "code",
      "metadata": {
        "id": "pressing-object"
      },
      "source": [
        "# No modifique el código\n",
        "results = model.evaluate(x_test, y_test, verbose=1)\n",
        "print('Test Loss: {}'.format(results))"
      ],
      "id": "pressing-object",
      "execution_count": null,
      "outputs": []
    },
    {
      "cell_type": "markdown",
      "metadata": {
        "id": "addressed-lesbian"
      },
      "source": [
        "<a name='1.4'></a>\n",
        "## Cuestión 4: ¿Podría haberse usado otra función de activación de la neurona de salida? En caso afirmativo especifíquela."
      ],
      "id": "addressed-lesbian"
    },
    {
      "cell_type": "markdown",
      "metadata": {
        "id": "ruled-silicon"
      },
      "source": [
        ""
      ],
      "id": "ruled-silicon"
    },
    {
      "cell_type": "markdown",
      "metadata": {
        "id": "robust-christianity"
      },
      "source": [
        "<a name='1.5'></a>\n",
        "## Cuestión 5:  ¿Qué es lo que una neurona calcula?\n",
        "\n",
        "**a)** Una función de activación seguida de una suma ponderada  de las entradas.\n",
        "\n",
        "**b)** Una suma ponderada  de las entradas seguida de una función de activación.\n",
        "\n",
        "**c)** Una función de pérdida, definida sobre el target.\n",
        "\n",
        "**d)** Ninguna  de las anteriores es correcta\n"
      ],
      "id": "robust-christianity"
    },
    {
      "cell_type": "markdown",
      "metadata": {
        "id": "joined-burden"
      },
      "source": [
        "Respuesta:\n",
        "**b)** Una suma ponderada  de las entradas seguida de una función de activación.\n"
      ],
      "id": "joined-burden"
    },
    {
      "cell_type": "markdown",
      "metadata": {
        "id": "iraqi-european"
      },
      "source": [
        "<a name='1.6'></a>\n",
        "## Cuestión 6:  ¿Cuál de estas funciones de activación no debería usarse en una capa oculta (hidden layer)?\n",
        "\n",
        "**a)** `sigmoid`\n",
        "\n",
        "**b)** `tanh`\n",
        "\n",
        "**c)** `relu`\n",
        "\n",
        "**d)** `linear`\n"
      ],
      "id": "iraqi-european"
    },
    {
      "cell_type": "markdown",
      "metadata": {
        "id": "cardiovascular-attack"
      },
      "source": [
        "Respuesta: **d)** linear"
      ],
      "id": "cardiovascular-attack"
    },
    {
      "cell_type": "markdown",
      "metadata": {
        "id": "ranging-utilization"
      },
      "source": [
        "<a name='1.7'></a>\n",
        "## Cuestión 7:  ¿Cuál de estas técnicas es efectiva para combatir el overfitting en una red con varias capas ocultas? Ponga todas las que lo sean.\n",
        "\n",
        "**a)** Dropout\n",
        "\n",
        "**b)** Regularización L2.\n",
        "\n",
        "**c)** Aumentar el tamaño del test set.\n",
        "\n",
        "**d)** Aumentar el tamaño del validation set.\n",
        "\n",
        "**e)** Reducir el número de capas de la red.\n",
        "\n",
        "**f)** Data augmentation."
      ],
      "id": "ranging-utilization"
    },
    {
      "cell_type": "markdown",
      "metadata": {
        "id": "accessible-trainer"
      },
      "source": [
        ""
      ],
      "id": "accessible-trainer"
    },
    {
      "cell_type": "markdown",
      "metadata": {
        "id": "recreational-deposit"
      },
      "source": [
        "<a name='1.8'></a>\n",
        "## Cuestión 8:  Supongamos que queremos entrenar una red para un problema de clasificación de imágenes con las siguientes clases: {'perro','gato','persona'}. ¿Cuántas neuronas y que función de activación debería tener la capa de salida? ¿Qué función de pérdida (loss function) debería usarse?\n"
      ],
      "id": "recreational-deposit"
    },
    {
      "cell_type": "markdown",
      "metadata": {
        "id": "confirmed-roulette"
      },
      "source": [
        "Función de pérdida: Sparse categorical cross entropy"
      ],
      "id": "confirmed-roulette"
    },
    {
      "cell_type": "markdown",
      "metadata": {
        "id": "painful-decade"
      },
      "source": [
        "<a name='actividad_2'></a>\n",
        "# Actividad 2: Redes Convolucionales\n",
        "\n",
        "Vamos a usar el dataset [cifar-10](https://www.cs.toronto.edu/~kriz/cifar.html), que son 60000 imágenes de 32x32 a color  con 10 clases diferentes. Para realizar mejor la práctica puede consultar [Introduction_to_CNN.ipynb](https://github.com/ezponda/intro_deep_learning/blob/main/class/CNN/Introduction_to_CNN.ipynb).\n",
        "\n",
        "\n",
        "\n",
        "**Puntuación**: \n",
        "\n",
        "- [Cuestión 1](#2.1): 1 pt\n",
        "- [Cuestión 2](#2.2): 1.5 pt\n",
        "- [Cuestión 3](#2.3): 0.5 pts\n",
        "- [Cuestión 4](#2.4): 0.25 pts\n",
        "- [Cuestión 5](#2.5): 0.25 pts\n",
        "- [Cuestión 6](#2.6): 0.25 pts\n",
        "- [Cuestión 7](#2.7): 0.25 pts\n",
        "\n",
        "\n",
        "\n",
        "\n",
        "Puede normalizar las imágenes al principio o usar la capa [Rescaling](https://www.tensorflow.org/api_docs/python/tf/keras/layers/experimental/preprocessing/Rescaling):\n",
        "\n",
        "```python\n",
        "tf.keras.layers.experimental.preprocessing.Rescaling(\n",
        "    scale, offset=0.0, name=None, **kwargs\n",
        ")\n",
        "```"
      ],
      "id": "painful-decade"
    },
    {
      "cell_type": "code",
      "metadata": {
        "id": "incorporate-terrorist"
      },
      "source": [
        "(x_train, y_train), (x_test, y_test) = tf.keras.datasets.cifar10.load_data()\n",
        "y_train = y_train.flatten()\n",
        "y_test = y_test.flatten()"
      ],
      "id": "incorporate-terrorist",
      "execution_count": null,
      "outputs": []
    },
    {
      "cell_type": "code",
      "metadata": {
        "id": "brazilian-rhythm"
      },
      "source": [
        "class_names = ['airplane', 'automobile', 'bird', 'cat', 'deer',\n",
        "               'dog', 'frog', 'horse', 'ship', 'truck']\n",
        "\n",
        "plt.figure(figsize=(10,10))\n",
        "for i in range(25):\n",
        "    plt.subplot(5,5,i+1)\n",
        "    plt.xticks([])\n",
        "    plt.yticks([])\n",
        "    plt.grid(False)\n",
        "    plt.imshow(x_train[i])\n",
        "    plt.xlabel(class_names[y_train[i]])\n",
        "plt.show()"
      ],
      "id": "brazilian-rhythm",
      "execution_count": null,
      "outputs": []
    },
    {
      "cell_type": "code",
      "metadata": {
        "id": "extreme-quantum"
      },
      "source": [
        "print('x_train, y_train shapes:', x_train.shape, y_train.shape)\n",
        "print('x_test, y_test shapes:', x_test.shape, y_test.shape)"
      ],
      "id": "extreme-quantum",
      "execution_count": null,
      "outputs": []
    },
    {
      "cell_type": "markdown",
      "metadata": {
        "id": "living-philosophy"
      },
      "source": [
        "<a name='2.1'></a>\n",
        "## Cuestión 1: Cree una red convolucional con la API funcional con al menos dos capas convolucionales y al menos dos capas de pooling. Utilize sólo [Average Pooling](https://www.tensorflow.org/api_docs/python/tf/keras/layers/AveragePooling2D) y no añada ninguna regularización."
      ],
      "id": "living-philosophy"
    },
    {
      "cell_type": "code",
      "metadata": {
        "id": "atmospheric-sight"
      },
      "source": [
        "inputs = tf.keras.Input(shape=..., name='input')\n",
        "# reescaling = ...\n",
        "\n",
        "# Convolution + pooling layers\n",
        "...\n",
        "\n",
        "# Flattening\n",
        "...\n",
        "\n",
        "# Fully-connected\n",
        "outputs = layers.Dense(...)\n",
        "\n",
        "model = keras.Model(inputs=..., outputs=...)"
      ],
      "id": "atmospheric-sight",
      "execution_count": null,
      "outputs": []
    },
    {
      "cell_type": "code",
      "metadata": {
        "id": "needed-arena"
      },
      "source": [
        "model.compile(optimizer='adam',\n",
        "              loss=tf.keras.losses.SparseCategoricalCrossentropy(),\n",
        "              metrics=['accuracy'])"
      ],
      "id": "needed-arena",
      "execution_count": null,
      "outputs": []
    },
    {
      "cell_type": "code",
      "metadata": {
        "id": "pursuant-paper"
      },
      "source": [
        "history = model.fit(x_train, y_train, epochs=25, batch_size=64,\n",
        "                    validation_split=0.15)"
      ],
      "id": "pursuant-paper",
      "execution_count": null,
      "outputs": []
    },
    {
      "cell_type": "code",
      "metadata": {
        "id": "applicable-honduras"
      },
      "source": [
        "results = model.evaluate(x_test, y_test, verbose=0, batch_size=1000)\n",
        "print('Test Loss: {}'.format(results[0]))\n",
        "print('Test Accuracy: {}'.format(results[1]))"
      ],
      "id": "applicable-honduras",
      "execution_count": null,
      "outputs": []
    },
    {
      "cell_type": "markdown",
      "metadata": {
        "id": "numerous-invite"
      },
      "source": [
        "<a name='2.2'></a>\n",
        "## Cuestión 2: Cree un modelo con la API funcional con un máximo de 2 capas convolucionales y un máximo de 2 capas de pooling. Utilize  [Max Pooling](https://www.tensorflow.org/api_docs/python/tf/keras/layers/MaxPool2D) o [Average Pooling](https://www.tensorflow.org/api_docs/python/tf/keras/layers/AveragePooling2D) y  añada la regularización que quiera. Debe obtener un `Test accuracy > 0.68`"
      ],
      "id": "numerous-invite"
    },
    {
      "cell_type": "code",
      "metadata": {
        "id": "annual-diploma"
      },
      "source": [
        "inputs = tf.keras.Input(shape=..., name='input')\n",
        "# reescaling = ...\n",
        "\n",
        "# Convolution + pooling layers\n",
        "...\n",
        "\n",
        "# Flattening\n",
        "...\n",
        "\n",
        "# Fully-connected\n",
        "outputs = layers.Dense(...)\n",
        "\n",
        "model = keras.Model(inputs=..., outputs=...)"
      ],
      "id": "annual-diploma",
      "execution_count": null,
      "outputs": []
    },
    {
      "cell_type": "code",
      "metadata": {
        "id": "indian-messaging"
      },
      "source": [
        "model.compile(optimizer='adam',\n",
        "              loss=tf.keras.losses.SparseCategoricalCrossentropy(),\n",
        "              metrics=['accuracy'])"
      ],
      "id": "indian-messaging",
      "execution_count": null,
      "outputs": []
    },
    {
      "cell_type": "code",
      "metadata": {
        "id": "functional-republic"
      },
      "source": [
        "history = model.fit(x_train, y_train, epochs=..., batch_size=...,\n",
        "                    validation_split=0.15, callbacks=lbacks=[...])"
      ],
      "id": "functional-republic",
      "execution_count": null,
      "outputs": []
    },
    {
      "cell_type": "code",
      "metadata": {
        "id": "incorrect-completion"
      },
      "source": [
        "results = model.evaluate(x_test, y_test, verbose=0, batch_size=1000)\n",
        "print('Test Loss: {}'.format(results[0]))\n",
        "print('Test Accuracy: {}'.format(results[1]))"
      ],
      "id": "incorrect-completion",
      "execution_count": null,
      "outputs": []
    },
    {
      "cell_type": "markdown",
      "metadata": {
        "id": "optical-arizona"
      },
      "source": [
        "<a name='2.3'></a>\n",
        "## Cuestión 3: Añada data augmentation al principio del modelo\n",
        "\n"
      ],
      "id": "optical-arizona"
    },
    {
      "cell_type": "code",
      "metadata": {
        "id": "previous-boxing"
      },
      "source": [
        "data_augmentation=... "
      ],
      "id": "previous-boxing",
      "execution_count": null,
      "outputs": []
    },
    {
      "cell_type": "code",
      "metadata": {
        "id": "comprehensive-directive"
      },
      "source": [
        "inputs = tf.keras.Input(shape=..., name='input')\n",
        "data_aug= ...\n",
        "\n",
        "# reescaling = ...\n",
        "\n",
        "# Convolution + pooling layers\n",
        "...\n",
        "\n",
        "# Flattening\n",
        "...\n",
        "\n",
        "# Fully-connected\n",
        "outputs = layers.Dense(...)\n",
        "\n",
        "model = keras.Model(inputs=..., outputs=...)"
      ],
      "id": "comprehensive-directive",
      "execution_count": null,
      "outputs": []
    },
    {
      "cell_type": "code",
      "metadata": {
        "id": "statutory-covering"
      },
      "source": [
        "model.compile(optimizer='adam',\n",
        "              loss=tf.keras.losses.SparseCategoricalCrossentropy(),\n",
        "              metrics=['accuracy'])"
      ],
      "id": "statutory-covering",
      "execution_count": null,
      "outputs": []
    },
    {
      "cell_type": "code",
      "metadata": {
        "id": "western-energy"
      },
      "source": [
        "history = model.fit(x_train, y_train, epochs=..., batch_size=...,\n",
        "                    validation_split=0.15, callbacks=lbacks=[...])"
      ],
      "id": "western-energy",
      "execution_count": null,
      "outputs": []
    },
    {
      "cell_type": "code",
      "metadata": {
        "id": "classical-charm"
      },
      "source": [
        "results = model.evaluate(x_test, y_test, verbose=0, batch_size=1000)\n",
        "print('Test Loss: {}'.format(results[0]))\n",
        "print('Test Accuracy: {}'.format(results[1]))"
      ],
      "id": "classical-charm",
      "execution_count": null,
      "outputs": []
    },
    {
      "cell_type": "markdown",
      "metadata": {
        "id": "sweet-implement"
      },
      "source": [
        "<a name='2.4'></a>\n",
        "## Cuestión 4: Cree el mismo  modelo de manera secuencial. No es necesario compilar ni entrenar el modelo"
      ],
      "id": "sweet-implement"
    },
    {
      "cell_type": "code",
      "metadata": {
        "id": "auburn-lawrence"
      },
      "source": [
        "model_seq = tf.keras.models.Sequential()\n",
        "# Código aquí\n",
        "..."
      ],
      "id": "auburn-lawrence",
      "execution_count": null,
      "outputs": []
    },
    {
      "cell_type": "markdown",
      "metadata": {
        "id": "present-consortium"
      },
      "source": [
        "<a name='2.5'></a>\n",
        "## Cuestión 5: Si tenenemos una  una imagen de entrada de 300 x 300 a color (RGB) y queremos usar una red densa. Si la primera capa oculta tiene 100 neuronas, ¿Cuántos parámetros tendrá esa capa (sin incluir el bias) ?\n"
      ],
      "id": "present-consortium"
    },
    {
      "cell_type": "markdown",
      "metadata": {
        "id": "novel-calcium"
      },
      "source": [
        ""
      ],
      "id": "novel-calcium"
    },
    {
      "cell_type": "markdown",
      "metadata": {
        "id": "complicated-positive"
      },
      "source": [
        "<a name='2.6'></a>\n",
        "## Cuestión 6   Ponga  las verdaderas ventajas de las redes convolucionales respecto a las densas\n",
        "\n",
        "**a)** Reducen el número total de parámetros, reduciendo así el overfitting.\n",
        "\n",
        "**b)** Permiten utilizar una misma 'función'  en varias localizaciones de la imagen de entrada, en lugar de aprender una función diferente para cada pixel.\n",
        "\n",
        "**c)** Permiten el uso del transfer learning.\n",
        "\n",
        "**d)** Generalmente son menos profundas, lo que facilita su entrenamiento.\n",
        "\n"
      ],
      "id": "complicated-positive"
    },
    {
      "cell_type": "markdown",
      "metadata": {
        "id": "dirty-nirvana"
      },
      "source": [
        ""
      ],
      "id": "dirty-nirvana"
    },
    {
      "cell_type": "markdown",
      "metadata": {
        "id": "first-toyota"
      },
      "source": [
        "<a name='2.7'></a>\n",
        "## Cuestión 7: Para el procesamiento de series temporales las redes convolucionales no son efectivas, habrá que usar redes recurrentes.\n",
        "\n",
        "- **Verdadero** \n",
        "- **Falso** "
      ],
      "id": "first-toyota"
    },
    {
      "cell_type": "markdown",
      "metadata": {
        "id": "frequent-seven"
      },
      "source": [
        ""
      ],
      "id": "frequent-seven"
    },
    {
      "cell_type": "markdown",
      "metadata": {
        "id": "regional-favorite"
      },
      "source": [
        "<a name='actividad_3'></a>\n",
        "# Actividad 3: Redes Recurrentes\n",
        "\n",
        "\n",
        "- [Cuestión 1](#3.1): 0.5 pt\n",
        "- [Cuestión 2](#3.2): 0.5 pt\n",
        "- [Cuestión 3](#3.3): 0.5 pts\n",
        "- [Cuestión 4](#3.4): 0.25 pts\n",
        "- [Cuestión 5](#3.5): 0.25 pts\n",
        "\n",
        "Vamos a usar un dataset de las temperaturas mínimas diarias en Melbourne. La tarea será la de predecir la temperatura mínima en dos días. Puedes usar técnicas de series temporales vistas en otras asignaturas, pero no es necesario.\n"
      ],
      "id": "regional-favorite"
    },
    {
      "cell_type": "code",
      "metadata": {
        "id": "empty-value"
      },
      "source": [
        "dataset_url = 'https://raw.githubusercontent.com/jbrownlee/Datasets/master/daily-min-temperatures.csv'\n",
        "data_dir = tf.keras.utils.get_file('daily-min-temperatures.csv', origin=dataset_url)"
      ],
      "id": "empty-value",
      "execution_count": null,
      "outputs": []
    },
    {
      "cell_type": "code",
      "metadata": {
        "id": "numerous-situation"
      },
      "source": [
        "df = pd.read_csv(data_dir, parse_dates=['Date'])\n",
        "df.head()"
      ],
      "id": "numerous-situation",
      "execution_count": null,
      "outputs": []
    },
    {
      "cell_type": "code",
      "metadata": {
        "id": "copyrighted-madonna"
      },
      "source": [
        "temperatures = df['Temp'].values\n",
        "print('number of samples:', len(temperatures))\n",
        "train_data = temperatures[:3000]\n",
        "test_data = temperatures[3000:]\n",
        "print('number of train samples:', len(train_data))\n",
        "print('number of test samples:', len(test_data))\n",
        "print('firsts trainn samples:', train_data[:10])"
      ],
      "id": "copyrighted-madonna",
      "execution_count": null,
      "outputs": []
    },
    {
      "cell_type": "markdown",
      "metadata": {
        "id": "adapted-brief"
      },
      "source": [
        "<a name='3.1'></a>\n",
        "## Cuestión 1: Convierta `train_data` y `test_data`  en ventanas de tamaño 5, para predecir el valor en 2 días\n",
        "\n",
        "En la nomenclatura de [Introduction_to_RNN_Time_Series.ipynb](https://github.com/ezponda/intro_deep_learning/blob/main/class/RNN/Introduction_to_RNN_Time_Series.ipynb)\n",
        "```python\n",
        "past, future = (5, 2)\n",
        "```\n",
        "\n",
        "Para las primeras 10 muestras de train_data `[20.7, 17.9, 18.8, 14.6, 15.8, 15.8, 15.8, 17.4, 21.8, 20. ]` el resultado debería ser:\n",
        "\n",
        "```python\n",
        "x[0] : [20.7, 17.9, 18.8, 14.6, 15.8] , y[0]: 15.8\n",
        "x[1] : [17.9, 18.8, 14.6, 15.8, 15.8] , y[1]: 17.4\n",
        "x[2] : [18.8, 14.6, 15.8, 15.8, 15.8] , y[2]: 21.8\n",
        "x[3] : [14.6, 15.8, 15.8, 15.8, 17.4] , y[3]: 20.             \n",
        "```"
      ],
      "id": "adapted-brief"
    },
    {
      "cell_type": "code",
      "metadata": {
        "id": "conscious-teaching"
      },
      "source": [
        "# windowing function"
      ],
      "id": "conscious-teaching",
      "execution_count": null,
      "outputs": []
    },
    {
      "cell_type": "code",
      "metadata": {
        "id": "joint-annotation"
      },
      "source": [
        "past, future = (5, 2)\n",
        "X_train, y_train = ...\n",
        "X_test, y_test = ..."
      ],
      "id": "joint-annotation",
      "execution_count": null,
      "outputs": []
    },
    {
      "cell_type": "markdown",
      "metadata": {
        "id": "electrical-junior"
      },
      "source": [
        "<a name='3.2'></a>\n",
        "## Cuestión 2: Cree un modelo recurrente de dos capas GRU para predecir con las ventanas de la cuestión anterior.\n"
      ],
      "id": "electrical-junior"
    },
    {
      "cell_type": "code",
      "metadata": {
        "id": "aboriginal-complaint"
      },
      "source": [
        "inputs = keras.layers.Input(shape=(..., ...))\n",
        "...\n",
        "model = keras.Model(inputs=..., outputs=...)\n",
        "model.compile(...)\n",
        "model.summary()"
      ],
      "id": "aboriginal-complaint",
      "execution_count": null,
      "outputs": []
    },
    {
      "cell_type": "code",
      "metadata": {
        "id": "applicable-longer"
      },
      "source": [
        "es_callback = keras.callbacks.EarlyStopping(\n",
        "    monitor=\"val_loss\", min_delta=0, patience=10)\n",
        "\n",
        "history = model.fit(\n",
        "    X_train, y_train,\n",
        "    epochs=200,\n",
        "    validation_split=0.2, shuffle=True, batch_size = 64, callbacks=[es_callback]\n",
        ")"
      ],
      "id": "applicable-longer",
      "execution_count": null,
      "outputs": []
    },
    {
      "cell_type": "code",
      "metadata": {
        "id": "stone-province"
      },
      "source": [
        "results = model.evaluate(X_test, y_test, verbose=1)\n",
        "print('Test Loss: {}'.format(results))"
      ],
      "id": "stone-province",
      "execution_count": null,
      "outputs": []
    },
    {
      "cell_type": "markdown",
      "metadata": {
        "id": "genetic-guitar"
      },
      "source": [
        "<a name='3.3'></a>\n",
        "## Cuestión 3: Añada más features a la series temporal, por ejemplo `portion_year`. Cree un modelo que mejore al anterior.\n"
      ],
      "id": "genetic-guitar"
    },
    {
      "cell_type": "code",
      "metadata": {
        "id": "prospective-master"
      },
      "source": [
        "## Puede añadir más features\n",
        "df['portion_year'] = df['Date'].dt.dayofyear / 365.0\n",
        "df_multi = df[['Temp', 'portion_year']].copy()\n",
        "\n",
        "## train - test split\n",
        "train_data = df_multi.iloc[:3000].copy()\n",
        "test_data = df_multi.loc[3000:, :].copy()"
      ],
      "id": "prospective-master",
      "execution_count": null,
      "outputs": []
    },
    {
      "cell_type": "code",
      "metadata": {
        "id": "threaded-sheriff"
      },
      "source": [
        "## Create windows\n",
        "X_train, y_train = ...\n",
        "X_test, y_test = ..."
      ],
      "id": "threaded-sheriff",
      "execution_count": null,
      "outputs": []
    },
    {
      "cell_type": "code",
      "metadata": {
        "id": "stable-estate"
      },
      "source": [
        "inputs = keras.layers.Input(shape=(..., ...))\n",
        "...\n",
        "model = keras.Model(inputs=..., outputs=...)\n",
        "model.compile(...)\n",
        "model.summary()"
      ],
      "id": "stable-estate",
      "execution_count": null,
      "outputs": []
    },
    {
      "cell_type": "code",
      "metadata": {
        "id": "structured-philip"
      },
      "source": [
        "es_callback = keras.callbacks.EarlyStopping(\n",
        "    monitor=\"val_loss\", min_delta=0, patience=10)\n",
        "\n",
        "history = model.fit(\n",
        "    X_train, y_train,\n",
        "    epochs=200,\n",
        "    validation_split=0.2, shuffle=True, batch_size = 64, callbacks=[es_callback]\n",
        ")"
      ],
      "id": "structured-philip",
      "execution_count": null,
      "outputs": []
    },
    {
      "cell_type": "code",
      "metadata": {
        "id": "assigned-afternoon"
      },
      "source": [
        "results = model.evaluate(X_test, y_test, verbose=1)\n",
        "print('Test Loss: {}'.format(results))"
      ],
      "id": "assigned-afternoon",
      "execution_count": null,
      "outputs": []
    },
    {
      "cell_type": "markdown",
      "metadata": {
        "id": "precise-tract"
      },
      "source": [
        "<a name='3.4'></a>\n",
        "## Cuestión 4: ¿En cuáles de estas aplicaciones se usaría un arquitectura 'many-to-one'?\n",
        "\n",
        "**a)** Clasificación de sentimiento en textos\n",
        "\n",
        "**b)** Verificación de voz para iniciar el ordenador.\n",
        "\n",
        "**c)** Generación de música.\n",
        "\n",
        "**d)** Un clasificador que clasifique piezas de música según su autor.\n"
      ],
      "id": "precise-tract"
    },
    {
      "cell_type": "markdown",
      "metadata": {
        "id": "professional-mayor"
      },
      "source": [
        ""
      ],
      "id": "professional-mayor"
    },
    {
      "cell_type": "markdown",
      "metadata": {
        "id": "fallen-error"
      },
      "source": [
        "<a name='3.5'></a>\n",
        "## Cuestión 5: ¿Qué ventajas aporta el uso de word embeddings?\n",
        "\n",
        "**a)** Permiten reducir la dimensión de entrada respecto al one-hot encoding.\n",
        "\n",
        "**b)** Permiten descubrir la similaridad entre palabras de manera más intuitiva que con one-hot encoding.\n",
        "\n",
        "**c)** Son una manera de realizar transfer learning en nlp.\n",
        "\n",
        "**d)** Permiten visualizar las relaciones entre palabras con métodos de reducción de dimensioones como el PCA.\n"
      ],
      "id": "fallen-error"
    },
    {
      "cell_type": "markdown",
      "metadata": {
        "id": "stylish-polish"
      },
      "source": [
        ""
      ],
      "id": "stylish-polish"
    }
  ]
}