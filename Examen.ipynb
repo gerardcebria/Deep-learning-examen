{
  "nbformat": 4,
  "nbformat_minor": 5,
  "metadata": {
    "kernelspec": {
      "display_name": "Python 3",
      "language": "python",
      "name": "python3"
    },
    "language_info": {
      "codemirror_mode": {
        "name": "ipython",
        "version": 3
      },
      "file_extension": ".py",
      "mimetype": "text/x-python",
      "name": "python",
      "nbconvert_exporter": "python",
      "pygments_lexer": "ipython3",
      "version": "3.8.8"
    },
    "latex_envs": {
      "LaTeX_envs_menu_present": true,
      "autoclose": false,
      "autocomplete": true,
      "bibliofile": "biblio.bib",
      "cite_by": "apalike",
      "current_citInitial": 1,
      "eqLabelWithNumbers": true,
      "eqNumInitial": 1,
      "hotkeys": {
        "equation": "Ctrl-E",
        "itemize": "Ctrl-I"
      },
      "labels_anchors": false,
      "latex_user_defs": false,
      "report_style_numbering": false,
      "user_envs_cfg": false
    },
    "colab": {
      "name": "Examen.ipynb",
      "provenance": [],
      "include_colab_link": true
    }
  },
  "cells": [
    {
      "cell_type": "markdown",
      "metadata": {
        "id": "view-in-github",
        "colab_type": "text"
      },
      "source": [
        "<a href=\"https://colab.research.google.com/github/gerardcebria/Deep-learning-examen/blob/main/Examen.ipynb\" target=\"_parent\"><img src=\"https://colab.research.google.com/assets/colab-badge.svg\" alt=\"Open In Colab\"/></a>"
      ]
    },
    {
      "cell_type": "markdown",
      "metadata": {
        "id": "prospective-america"
      },
      "source": [
        "Dado que el entrenamiento de redes neuronales es una tarea  muy costosa, **se recomienda ejecutar el notebooks en [Google Colab](https://colab.research.google.com)**, por supuesto también se puede ejecutar en local.\n",
        "\n",
        "Al entrar en [Google Colab](https://colab.research.google.com) bastará con hacer click en `upload` y subir este notebook. No olvide luego descargarlo en `File->Download .ipynb`\n",
        "\n",
        "**El examen deberá ser entregado con las celdas ejecutadas, si alguna celda no está ejecutadas no se contará.**"
      ],
      "id": "prospective-america"
    },
    {
      "cell_type": "markdown",
      "metadata": {
        "id": "novel-stewart"
      },
      "source": [
        "El examen se divide en tres partes, con la puntuación que se indica a continuación. La puntuación máxima será 10.\n",
        "\n",
        "- [Actividad 1: Redes Densas](#actividad_1): 4 pts\n",
        "    - Correcta normalización: máximo de 0.25 pts\n",
        "    - [Cuestión 1](#1.1): 1 pt\n",
        "    - [Cuestión 2](#1.2): 1 pt\n",
        "    - [Cuestión 3](#1.3): 0.5 pts\n",
        "    - [Cuestión 4](#1.4): 0.25 pts\n",
        "    - [Cuestión 5](#1.5): 0.25 pts\n",
        "    - [Cuestión 6](#1.6): 0.25 pts\n",
        "    - [Cuestión 7](#1.7): 0.25 pts\n",
        "    - [Cuestión 8](#1.8): 0.25 pts\n",
        "\n",
        "\n",
        "- [Actividad 2: Redes Convolucionales](#actividad_2): 4 pts\n",
        "    - [Cuestión 1](#2.1): 1 pt\n",
        "    - [Cuestión 2](#2.2): 1.5 pt\n",
        "    - [Cuestión 3](#2.3): 0.5 pts\n",
        "    - [Cuestión 4](#2.4): 0.25 pts\n",
        "    - [Cuestión 5](#2.5): 0.25 pts\n",
        "    - [Cuestión 6](#2.6): 0.25 pts\n",
        "    - [Cuestión 7](#2.7): 0.25 pts\n",
        "    \n",
        "    \n",
        "- [Actividad 3: Redes Recurrentes](#actividad_3): 2 pts\n",
        "    - [Cuestión 1](#3.1): 0.5 pt\n",
        "    - [Cuestión 2](#3.2): 0.5 pt\n",
        "    - [Cuestión 3](#3.3): 0.5 pts\n",
        "    - [Cuestión 4](#3.4): 0.25 pts\n",
        "    - [Cuestión 5](#3.5): 0.25 pts\n",
        "\n"
      ],
      "id": "novel-stewart"
    },
    {
      "cell_type": "code",
      "metadata": {
        "id": "prompt-developer"
      },
      "source": [
        "import tensorflow as tf\n",
        "from tensorflow import keras\n",
        "from tensorflow.keras import layers\n",
        "import matplotlib.pyplot as plt\n",
        "import pandas as pd\n",
        "import numpy as np"
      ],
      "id": "prompt-developer",
      "execution_count": 1,
      "outputs": []
    },
    {
      "cell_type": "markdown",
      "metadata": {
        "id": "vocal-correction"
      },
      "source": [
        "<a name='actividad_1'></a>\n",
        "# Actividad 1: Redes Densas\n",
        "\n",
        "Para esta primera actividad vamos a utilizar el [boston housing dataset](https://www.cs.toronto.edu/~delve/data/boston/bostonDetail.html). Con el que trataremos de predecir el precio de una casa con 13 features.\n",
        "\n",
        "**Puntuación**: \n",
        "\n",
        "Normalizar las features correctamente (x_train, x_test): 0.1 pts , 0.25 si se normalizan con el [Normalization layer](https://www.tensorflow.org/api_docs/python/tf/keras/layers/experimental/preprocessing/Normalization) de Keras. Ejemplo de uso: [Introduction_to_RNN_Time_Series](https://github.com/ezponda/intro_deep_learning/blob/main/class/RNN/Introduction_to_RNN_Time_Series.ipynb)\n",
        "\n",
        "```python\n",
        "tf.keras.layers.experimental.preprocessing.Normalization(\n",
        "    axis=-1, dtype=None, mean=None, variance=None, **kwargs\n",
        ")\n",
        "```\n",
        "\n",
        "- Correcta normalización: máximo de 0.25 pts\n",
        "- [Cuestión 1](#1.1): 1 pt\n",
        "- [Cuestión 2](#1.2): 1 pt\n",
        "- [Cuestión 3](#1.3): 0.5 pts\n",
        "- [Cuestión 4](#1.4): 0.25 pts\n",
        "- [Cuestión 5](#1.5): 0.25 pts\n",
        "- [Cuestión 6](#1.6): 0.25 pts\n",
        "- [Cuestión 7](#1.7): 0.25 pts\n",
        "- [Cuestión 8](#1.8): 0.25 pts\n",
        "\n"
      ],
      "id": "vocal-correction"
    },
    {
      "cell_type": "code",
      "metadata": {
        "colab": {
          "base_uri": "https://localhost:8080/"
        },
        "id": "presidential-milan",
        "outputId": "75e043c1-750e-4799-88ba-6a0d0c2f6b94"
      },
      "source": [
        "(x_train, y_train), (x_test, y_test) = tf.keras.datasets.boston_housing.load_data(\n",
        "    path='boston_housing.npz',\n",
        "    test_split=0.2,\n",
        ")\n",
        "print('x_train, y_train shapes:', x_train.shape, y_train.shape)\n",
        "print('x_test, y_test shapes:', x_train.shape, y_train.shape)\n",
        "print('Some prices: ', y_train[:5])"
      ],
      "id": "presidential-milan",
      "execution_count": 2,
      "outputs": [
        {
          "output_type": "stream",
          "text": [
            "x_train, y_train shapes: (404, 13) (404,)\n",
            "x_test, y_test shapes: (404, 13) (404,)\n",
            "Some prices:  [15.2 42.3 50.  21.1 17.7]\n"
          ],
          "name": "stdout"
        }
      ]
    },
    {
      "cell_type": "code",
      "metadata": {
        "id": "painted-extreme"
      },
      "source": [
        "## Si quiere, puede normalizar las features"
      ],
      "id": "painted-extreme",
      "execution_count": 3,
      "outputs": []
    },
    {
      "cell_type": "markdown",
      "metadata": {
        "id": "underlying-planner"
      },
      "source": [
        "<a name='1.1'></a>\n",
        "## Cuestión 1: Cree un modelo secuencial que contenga 4 capas ocultas(hidden layers), con más de 60 neuronas  por capa, sin regularización y obtenga los resultados.\n",
        "\n",
        "Puntuación: \n",
        "- Obtener el modelo correcto: 0.8 pts\n",
        "- Compilar el modelo: 0.1pts\n",
        "- Acertar con la función de pérdida: 0.1 pts"
      ],
      "id": "underlying-planner"
    },
    {
      "cell_type": "code",
      "metadata": {
        "id": "working-shade",
        "colab": {
          "base_uri": "https://localhost:8080/"
        },
        "outputId": "983c4948-eefa-43bb-b3e7-bde1ee8cda19"
      },
      "source": [
        "model = tf.keras.models.Sequential()\n",
        "# Código aquí\n",
        "model.add(keras.layers.Dense(61, input_shape=(13, ), activation='relu'))\n",
        "model.add(keras.layers.Dense(61, activation='relu'))\n",
        "model.add(keras.layers.Dense(61, activation='relu'))\n",
        "model.add(keras.layers.Dense(1, activation='sigmoid'))\n",
        "\n",
        "model.summary()"
      ],
      "id": "working-shade",
      "execution_count": 4,
      "outputs": [
        {
          "output_type": "stream",
          "text": [
            "Model: \"sequential\"\n",
            "_________________________________________________________________\n",
            "Layer (type)                 Output Shape              Param #   \n",
            "=================================================================\n",
            "dense (Dense)                (None, 61)                854       \n",
            "_________________________________________________________________\n",
            "dense_1 (Dense)              (None, 61)                3782      \n",
            "_________________________________________________________________\n",
            "dense_2 (Dense)              (None, 61)                3782      \n",
            "_________________________________________________________________\n",
            "dense_3 (Dense)              (None, 1)                 62        \n",
            "=================================================================\n",
            "Total params: 8,480\n",
            "Trainable params: 8,480\n",
            "Non-trainable params: 0\n",
            "_________________________________________________________________\n"
          ],
          "name": "stdout"
        }
      ]
    },
    {
      "cell_type": "code",
      "metadata": {
        "id": "mobile-change"
      },
      "source": [
        "# Compilación del modelo\n",
        "# Código aquí\n",
        "model.compile(\n",
        "    optimizer='sgd',\n",
        "    loss='mse',\n",
        "    metrics=['accuracy']\n",
        "    )"
      ],
      "id": "mobile-change",
      "execution_count": 5,
      "outputs": []
    },
    {
      "cell_type": "code",
      "metadata": {
        "colab": {
          "base_uri": "https://localhost:8080/"
        },
        "id": "rotary-credits",
        "outputId": "fd6bcdd3-7721-47dc-ae67-39dedae9665e"
      },
      "source": [
        "# No modifique el código\n",
        "model.fit(x_train,\n",
        "          y_train,\n",
        "          epochs=200,\n",
        "          batch_size=32,\n",
        "          validation_split=0.2,\n",
        "          verbose=1)"
      ],
      "id": "rotary-credits",
      "execution_count": 6,
      "outputs": [
        {
          "output_type": "stream",
          "text": [
            "Epoch 1/200\n",
            "11/11 [==============================] - 1s 51ms/step - loss: 551.9460 - accuracy: 0.0000e+00 - val_loss: 597.3483 - val_accuracy: 0.0000e+00\n",
            "Epoch 2/200\n",
            "11/11 [==============================] - 0s 6ms/step - loss: 546.0681 - accuracy: 0.0000e+00 - val_loss: 597.3483 - val_accuracy: 0.0000e+00\n",
            "Epoch 3/200\n",
            "11/11 [==============================] - 0s 6ms/step - loss: 513.7205 - accuracy: 0.0000e+00 - val_loss: 597.3483 - val_accuracy: 0.0000e+00\n",
            "Epoch 4/200\n",
            "11/11 [==============================] - 0s 6ms/step - loss: 521.6656 - accuracy: 0.0000e+00 - val_loss: 597.3483 - val_accuracy: 0.0000e+00\n",
            "Epoch 5/200\n",
            "11/11 [==============================] - 0s 6ms/step - loss: 512.7868 - accuracy: 0.0000e+00 - val_loss: 597.3483 - val_accuracy: 0.0000e+00\n",
            "Epoch 6/200\n",
            "11/11 [==============================] - 0s 6ms/step - loss: 548.1203 - accuracy: 0.0000e+00 - val_loss: 597.3483 - val_accuracy: 0.0000e+00\n",
            "Epoch 7/200\n",
            "11/11 [==============================] - 0s 6ms/step - loss: 559.9501 - accuracy: 0.0000e+00 - val_loss: 597.3483 - val_accuracy: 0.0000e+00\n",
            "Epoch 8/200\n",
            "11/11 [==============================] - 0s 7ms/step - loss: 563.4654 - accuracy: 0.0000e+00 - val_loss: 597.3483 - val_accuracy: 0.0000e+00\n",
            "Epoch 9/200\n",
            "11/11 [==============================] - 0s 6ms/step - loss: 504.1695 - accuracy: 0.0000e+00 - val_loss: 597.3483 - val_accuracy: 0.0000e+00\n",
            "Epoch 10/200\n",
            "11/11 [==============================] - 0s 6ms/step - loss: 483.3771 - accuracy: 0.0000e+00 - val_loss: 597.3483 - val_accuracy: 0.0000e+00\n",
            "Epoch 11/200\n",
            "11/11 [==============================] - 0s 6ms/step - loss: 528.3690 - accuracy: 0.0000e+00 - val_loss: 597.3483 - val_accuracy: 0.0000e+00\n",
            "Epoch 12/200\n",
            "11/11 [==============================] - 0s 6ms/step - loss: 503.9286 - accuracy: 0.0000e+00 - val_loss: 597.3483 - val_accuracy: 0.0000e+00\n",
            "Epoch 13/200\n",
            "11/11 [==============================] - 0s 6ms/step - loss: 505.7704 - accuracy: 0.0000e+00 - val_loss: 597.3483 - val_accuracy: 0.0000e+00\n",
            "Epoch 14/200\n",
            "11/11 [==============================] - 0s 7ms/step - loss: 514.1841 - accuracy: 0.0000e+00 - val_loss: 597.3483 - val_accuracy: 0.0000e+00\n",
            "Epoch 15/200\n",
            "11/11 [==============================] - 0s 7ms/step - loss: 509.9360 - accuracy: 0.0000e+00 - val_loss: 597.3483 - val_accuracy: 0.0000e+00\n",
            "Epoch 16/200\n",
            "11/11 [==============================] - 0s 6ms/step - loss: 538.1235 - accuracy: 0.0000e+00 - val_loss: 597.3483 - val_accuracy: 0.0000e+00\n",
            "Epoch 17/200\n",
            "11/11 [==============================] - 0s 6ms/step - loss: 535.6364 - accuracy: 0.0000e+00 - val_loss: 597.3483 - val_accuracy: 0.0000e+00\n",
            "Epoch 18/200\n",
            "11/11 [==============================] - 0s 6ms/step - loss: 497.1463 - accuracy: 0.0000e+00 - val_loss: 597.3483 - val_accuracy: 0.0000e+00\n",
            "Epoch 19/200\n",
            "11/11 [==============================] - 0s 6ms/step - loss: 551.4074 - accuracy: 0.0000e+00 - val_loss: 597.3483 - val_accuracy: 0.0000e+00\n",
            "Epoch 20/200\n",
            "11/11 [==============================] - 0s 5ms/step - loss: 521.5980 - accuracy: 0.0000e+00 - val_loss: 597.3483 - val_accuracy: 0.0000e+00\n",
            "Epoch 21/200\n",
            "11/11 [==============================] - 0s 6ms/step - loss: 543.7879 - accuracy: 0.0000e+00 - val_loss: 597.3483 - val_accuracy: 0.0000e+00\n",
            "Epoch 22/200\n",
            "11/11 [==============================] - 0s 7ms/step - loss: 525.3215 - accuracy: 0.0000e+00 - val_loss: 597.3483 - val_accuracy: 0.0000e+00\n",
            "Epoch 23/200\n",
            "11/11 [==============================] - 0s 7ms/step - loss: 522.8983 - accuracy: 0.0000e+00 - val_loss: 597.3483 - val_accuracy: 0.0000e+00\n",
            "Epoch 24/200\n",
            "11/11 [==============================] - 0s 6ms/step - loss: 502.8189 - accuracy: 0.0000e+00 - val_loss: 597.3483 - val_accuracy: 0.0000e+00\n",
            "Epoch 25/200\n",
            "11/11 [==============================] - 0s 6ms/step - loss: 526.1484 - accuracy: 0.0000e+00 - val_loss: 597.3483 - val_accuracy: 0.0000e+00\n",
            "Epoch 26/200\n",
            "11/11 [==============================] - 0s 6ms/step - loss: 497.0447 - accuracy: 0.0000e+00 - val_loss: 597.3483 - val_accuracy: 0.0000e+00\n",
            "Epoch 27/200\n",
            "11/11 [==============================] - 0s 7ms/step - loss: 534.0634 - accuracy: 0.0000e+00 - val_loss: 597.3483 - val_accuracy: 0.0000e+00\n",
            "Epoch 28/200\n",
            "11/11 [==============================] - 0s 7ms/step - loss: 509.2923 - accuracy: 0.0000e+00 - val_loss: 597.3483 - val_accuracy: 0.0000e+00\n",
            "Epoch 29/200\n",
            "11/11 [==============================] - 0s 6ms/step - loss: 513.8576 - accuracy: 0.0000e+00 - val_loss: 597.3483 - val_accuracy: 0.0000e+00\n",
            "Epoch 30/200\n",
            "11/11 [==============================] - 0s 6ms/step - loss: 530.4462 - accuracy: 0.0000e+00 - val_loss: 597.3483 - val_accuracy: 0.0000e+00\n",
            "Epoch 31/200\n",
            "11/11 [==============================] - 0s 6ms/step - loss: 521.2509 - accuracy: 0.0000e+00 - val_loss: 597.3483 - val_accuracy: 0.0000e+00\n",
            "Epoch 32/200\n",
            "11/11 [==============================] - 0s 6ms/step - loss: 548.4053 - accuracy: 0.0000e+00 - val_loss: 597.3483 - val_accuracy: 0.0000e+00\n",
            "Epoch 33/200\n",
            "11/11 [==============================] - 0s 6ms/step - loss: 536.5757 - accuracy: 0.0000e+00 - val_loss: 597.3483 - val_accuracy: 0.0000e+00\n",
            "Epoch 34/200\n",
            "11/11 [==============================] - 0s 6ms/step - loss: 538.0485 - accuracy: 0.0000e+00 - val_loss: 597.3483 - val_accuracy: 0.0000e+00\n",
            "Epoch 35/200\n",
            "11/11 [==============================] - 0s 6ms/step - loss: 509.9903 - accuracy: 0.0000e+00 - val_loss: 597.3483 - val_accuracy: 0.0000e+00\n",
            "Epoch 36/200\n",
            "11/11 [==============================] - 0s 6ms/step - loss: 526.7169 - accuracy: 0.0000e+00 - val_loss: 597.3483 - val_accuracy: 0.0000e+00\n",
            "Epoch 37/200\n",
            "11/11 [==============================] - 0s 6ms/step - loss: 545.4409 - accuracy: 0.0000e+00 - val_loss: 597.3483 - val_accuracy: 0.0000e+00\n",
            "Epoch 38/200\n",
            "11/11 [==============================] - 0s 6ms/step - loss: 503.3238 - accuracy: 0.0000e+00 - val_loss: 597.3483 - val_accuracy: 0.0000e+00\n",
            "Epoch 39/200\n",
            "11/11 [==============================] - 0s 7ms/step - loss: 539.3583 - accuracy: 0.0000e+00 - val_loss: 597.3483 - val_accuracy: 0.0000e+00\n",
            "Epoch 40/200\n",
            "11/11 [==============================] - 0s 6ms/step - loss: 531.6362 - accuracy: 0.0000e+00 - val_loss: 597.3483 - val_accuracy: 0.0000e+00\n",
            "Epoch 41/200\n",
            "11/11 [==============================] - 0s 7ms/step - loss: 507.3985 - accuracy: 0.0000e+00 - val_loss: 597.3483 - val_accuracy: 0.0000e+00\n",
            "Epoch 42/200\n",
            "11/11 [==============================] - 0s 6ms/step - loss: 504.4120 - accuracy: 0.0000e+00 - val_loss: 597.3483 - val_accuracy: 0.0000e+00\n",
            "Epoch 43/200\n",
            "11/11 [==============================] - 0s 6ms/step - loss: 512.8406 - accuracy: 0.0000e+00 - val_loss: 597.3483 - val_accuracy: 0.0000e+00\n",
            "Epoch 44/200\n",
            "11/11 [==============================] - 0s 6ms/step - loss: 514.8108 - accuracy: 0.0000e+00 - val_loss: 597.3483 - val_accuracy: 0.0000e+00\n",
            "Epoch 45/200\n",
            "11/11 [==============================] - 0s 6ms/step - loss: 550.0076 - accuracy: 0.0000e+00 - val_loss: 597.3483 - val_accuracy: 0.0000e+00\n",
            "Epoch 46/200\n",
            "11/11 [==============================] - 0s 6ms/step - loss: 498.1634 - accuracy: 0.0000e+00 - val_loss: 597.3483 - val_accuracy: 0.0000e+00\n",
            "Epoch 47/200\n",
            "11/11 [==============================] - 0s 5ms/step - loss: 505.7076 - accuracy: 0.0000e+00 - val_loss: 597.3483 - val_accuracy: 0.0000e+00\n",
            "Epoch 48/200\n",
            "11/11 [==============================] - 0s 6ms/step - loss: 514.5727 - accuracy: 0.0000e+00 - val_loss: 597.3483 - val_accuracy: 0.0000e+00\n",
            "Epoch 49/200\n",
            "11/11 [==============================] - 0s 6ms/step - loss: 502.0884 - accuracy: 0.0000e+00 - val_loss: 597.3483 - val_accuracy: 0.0000e+00\n",
            "Epoch 50/200\n",
            "11/11 [==============================] - 0s 6ms/step - loss: 530.6669 - accuracy: 0.0000e+00 - val_loss: 597.3483 - val_accuracy: 0.0000e+00\n",
            "Epoch 51/200\n",
            "11/11 [==============================] - 0s 6ms/step - loss: 565.6182 - accuracy: 0.0000e+00 - val_loss: 597.3483 - val_accuracy: 0.0000e+00\n",
            "Epoch 52/200\n",
            "11/11 [==============================] - 0s 6ms/step - loss: 542.8827 - accuracy: 0.0000e+00 - val_loss: 597.3483 - val_accuracy: 0.0000e+00\n",
            "Epoch 53/200\n",
            "11/11 [==============================] - 0s 6ms/step - loss: 574.2337 - accuracy: 0.0000e+00 - val_loss: 597.3483 - val_accuracy: 0.0000e+00\n",
            "Epoch 54/200\n",
            "11/11 [==============================] - 0s 6ms/step - loss: 518.9205 - accuracy: 0.0000e+00 - val_loss: 597.3483 - val_accuracy: 0.0000e+00\n",
            "Epoch 55/200\n",
            "11/11 [==============================] - 0s 8ms/step - loss: 505.5398 - accuracy: 0.0000e+00 - val_loss: 597.3483 - val_accuracy: 0.0000e+00\n",
            "Epoch 56/200\n",
            "11/11 [==============================] - 0s 7ms/step - loss: 525.4811 - accuracy: 0.0000e+00 - val_loss: 597.3483 - val_accuracy: 0.0000e+00\n",
            "Epoch 57/200\n",
            "11/11 [==============================] - 0s 8ms/step - loss: 523.3274 - accuracy: 0.0000e+00 - val_loss: 597.3483 - val_accuracy: 0.0000e+00\n",
            "Epoch 58/200\n",
            "11/11 [==============================] - 0s 6ms/step - loss: 496.4102 - accuracy: 0.0000e+00 - val_loss: 597.3483 - val_accuracy: 0.0000e+00\n",
            "Epoch 59/200\n",
            "11/11 [==============================] - 0s 6ms/step - loss: 535.4533 - accuracy: 0.0000e+00 - val_loss: 597.3483 - val_accuracy: 0.0000e+00\n",
            "Epoch 60/200\n",
            "11/11 [==============================] - 0s 6ms/step - loss: 518.7249 - accuracy: 0.0000e+00 - val_loss: 597.3483 - val_accuracy: 0.0000e+00\n",
            "Epoch 61/200\n",
            "11/11 [==============================] - 0s 6ms/step - loss: 509.9967 - accuracy: 0.0000e+00 - val_loss: 597.3483 - val_accuracy: 0.0000e+00\n",
            "Epoch 62/200\n",
            "11/11 [==============================] - 0s 6ms/step - loss: 523.5029 - accuracy: 0.0000e+00 - val_loss: 597.3483 - val_accuracy: 0.0000e+00\n",
            "Epoch 63/200\n",
            "11/11 [==============================] - 0s 7ms/step - loss: 533.7676 - accuracy: 0.0000e+00 - val_loss: 597.3483 - val_accuracy: 0.0000e+00\n",
            "Epoch 64/200\n",
            "11/11 [==============================] - 0s 6ms/step - loss: 545.8419 - accuracy: 0.0000e+00 - val_loss: 597.3483 - val_accuracy: 0.0000e+00\n",
            "Epoch 65/200\n",
            "11/11 [==============================] - 0s 7ms/step - loss: 535.7192 - accuracy: 0.0000e+00 - val_loss: 597.3483 - val_accuracy: 0.0000e+00\n",
            "Epoch 66/200\n",
            "11/11 [==============================] - 0s 6ms/step - loss: 532.4862 - accuracy: 0.0000e+00 - val_loss: 597.3483 - val_accuracy: 0.0000e+00\n",
            "Epoch 67/200\n",
            "11/11 [==============================] - 0s 6ms/step - loss: 526.8156 - accuracy: 0.0000e+00 - val_loss: 597.3483 - val_accuracy: 0.0000e+00\n",
            "Epoch 68/200\n",
            "11/11 [==============================] - 0s 6ms/step - loss: 573.5550 - accuracy: 0.0000e+00 - val_loss: 597.3483 - val_accuracy: 0.0000e+00\n",
            "Epoch 69/200\n",
            "11/11 [==============================] - 0s 6ms/step - loss: 542.3105 - accuracy: 0.0000e+00 - val_loss: 597.3483 - val_accuracy: 0.0000e+00\n",
            "Epoch 70/200\n",
            "11/11 [==============================] - 0s 6ms/step - loss: 526.3043 - accuracy: 0.0000e+00 - val_loss: 597.3483 - val_accuracy: 0.0000e+00\n",
            "Epoch 71/200\n",
            "11/11 [==============================] - 0s 8ms/step - loss: 519.4741 - accuracy: 0.0000e+00 - val_loss: 597.3483 - val_accuracy: 0.0000e+00\n",
            "Epoch 72/200\n",
            "11/11 [==============================] - 0s 6ms/step - loss: 518.6450 - accuracy: 0.0000e+00 - val_loss: 597.3483 - val_accuracy: 0.0000e+00\n",
            "Epoch 73/200\n",
            "11/11 [==============================] - 0s 5ms/step - loss: 514.4775 - accuracy: 0.0000e+00 - val_loss: 597.3483 - val_accuracy: 0.0000e+00\n",
            "Epoch 74/200\n",
            "11/11 [==============================] - 0s 6ms/step - loss: 526.9173 - accuracy: 0.0000e+00 - val_loss: 597.3483 - val_accuracy: 0.0000e+00\n",
            "Epoch 75/200\n",
            "11/11 [==============================] - 0s 6ms/step - loss: 544.8963 - accuracy: 0.0000e+00 - val_loss: 597.3483 - val_accuracy: 0.0000e+00\n",
            "Epoch 76/200\n",
            "11/11 [==============================] - 0s 6ms/step - loss: 541.0965 - accuracy: 0.0000e+00 - val_loss: 597.3483 - val_accuracy: 0.0000e+00\n",
            "Epoch 77/200\n",
            "11/11 [==============================] - 0s 6ms/step - loss: 551.9402 - accuracy: 0.0000e+00 - val_loss: 597.3483 - val_accuracy: 0.0000e+00\n",
            "Epoch 78/200\n",
            "11/11 [==============================] - 0s 6ms/step - loss: 548.9929 - accuracy: 0.0000e+00 - val_loss: 597.3483 - val_accuracy: 0.0000e+00\n",
            "Epoch 79/200\n",
            "11/11 [==============================] - 0s 6ms/step - loss: 498.1981 - accuracy: 0.0000e+00 - val_loss: 597.3483 - val_accuracy: 0.0000e+00\n",
            "Epoch 80/200\n",
            "11/11 [==============================] - 0s 7ms/step - loss: 538.4084 - accuracy: 0.0000e+00 - val_loss: 597.3483 - val_accuracy: 0.0000e+00\n",
            "Epoch 81/200\n",
            "11/11 [==============================] - 0s 6ms/step - loss: 536.8963 - accuracy: 0.0000e+00 - val_loss: 597.3483 - val_accuracy: 0.0000e+00\n",
            "Epoch 82/200\n",
            "11/11 [==============================] - 0s 6ms/step - loss: 515.6909 - accuracy: 0.0000e+00 - val_loss: 597.3483 - val_accuracy: 0.0000e+00\n",
            "Epoch 83/200\n",
            "11/11 [==============================] - 0s 6ms/step - loss: 512.9473 - accuracy: 0.0000e+00 - val_loss: 597.3483 - val_accuracy: 0.0000e+00\n",
            "Epoch 84/200\n",
            "11/11 [==============================] - 0s 6ms/step - loss: 498.6328 - accuracy: 0.0000e+00 - val_loss: 597.3483 - val_accuracy: 0.0000e+00\n",
            "Epoch 85/200\n",
            "11/11 [==============================] - 0s 7ms/step - loss: 523.1582 - accuracy: 0.0000e+00 - val_loss: 597.3483 - val_accuracy: 0.0000e+00\n",
            "Epoch 86/200\n",
            "11/11 [==============================] - 0s 6ms/step - loss: 539.2791 - accuracy: 0.0000e+00 - val_loss: 597.3483 - val_accuracy: 0.0000e+00\n",
            "Epoch 87/200\n",
            "11/11 [==============================] - 0s 6ms/step - loss: 564.7323 - accuracy: 0.0000e+00 - val_loss: 597.3483 - val_accuracy: 0.0000e+00\n",
            "Epoch 88/200\n",
            "11/11 [==============================] - 0s 6ms/step - loss: 540.3133 - accuracy: 0.0000e+00 - val_loss: 597.3483 - val_accuracy: 0.0000e+00\n",
            "Epoch 89/200\n",
            "11/11 [==============================] - 0s 6ms/step - loss: 530.2447 - accuracy: 0.0000e+00 - val_loss: 597.3483 - val_accuracy: 0.0000e+00\n",
            "Epoch 90/200\n",
            "11/11 [==============================] - 0s 6ms/step - loss: 497.9141 - accuracy: 0.0000e+00 - val_loss: 597.3483 - val_accuracy: 0.0000e+00\n",
            "Epoch 91/200\n",
            "11/11 [==============================] - 0s 6ms/step - loss: 520.8924 - accuracy: 0.0000e+00 - val_loss: 597.3483 - val_accuracy: 0.0000e+00\n",
            "Epoch 92/200\n",
            "11/11 [==============================] - 0s 6ms/step - loss: 494.1604 - accuracy: 0.0000e+00 - val_loss: 597.3483 - val_accuracy: 0.0000e+00\n",
            "Epoch 93/200\n",
            "11/11 [==============================] - 0s 6ms/step - loss: 531.1635 - accuracy: 0.0000e+00 - val_loss: 597.3483 - val_accuracy: 0.0000e+00\n",
            "Epoch 94/200\n",
            "11/11 [==============================] - 0s 5ms/step - loss: 529.1388 - accuracy: 0.0000e+00 - val_loss: 597.3483 - val_accuracy: 0.0000e+00\n",
            "Epoch 95/200\n",
            "11/11 [==============================] - 0s 7ms/step - loss: 519.0908 - accuracy: 0.0000e+00 - val_loss: 597.3483 - val_accuracy: 0.0000e+00\n",
            "Epoch 96/200\n",
            "11/11 [==============================] - 0s 6ms/step - loss: 516.0122 - accuracy: 0.0000e+00 - val_loss: 597.3483 - val_accuracy: 0.0000e+00\n",
            "Epoch 97/200\n",
            "11/11 [==============================] - 0s 6ms/step - loss: 536.2871 - accuracy: 0.0000e+00 - val_loss: 597.3483 - val_accuracy: 0.0000e+00\n",
            "Epoch 98/200\n",
            "11/11 [==============================] - 0s 6ms/step - loss: 499.6096 - accuracy: 0.0000e+00 - val_loss: 597.3483 - val_accuracy: 0.0000e+00\n",
            "Epoch 99/200\n",
            "11/11 [==============================] - 0s 6ms/step - loss: 506.4297 - accuracy: 0.0000e+00 - val_loss: 597.3483 - val_accuracy: 0.0000e+00\n",
            "Epoch 100/200\n",
            "11/11 [==============================] - 0s 7ms/step - loss: 494.6307 - accuracy: 0.0000e+00 - val_loss: 597.3483 - val_accuracy: 0.0000e+00\n",
            "Epoch 101/200\n",
            "11/11 [==============================] - 0s 6ms/step - loss: 528.0908 - accuracy: 0.0000e+00 - val_loss: 597.3483 - val_accuracy: 0.0000e+00\n",
            "Epoch 102/200\n",
            "11/11 [==============================] - 0s 6ms/step - loss: 513.3676 - accuracy: 0.0000e+00 - val_loss: 597.3483 - val_accuracy: 0.0000e+00\n",
            "Epoch 103/200\n",
            "11/11 [==============================] - 0s 7ms/step - loss: 538.5250 - accuracy: 0.0000e+00 - val_loss: 597.3483 - val_accuracy: 0.0000e+00\n",
            "Epoch 104/200\n",
            "11/11 [==============================] - 0s 6ms/step - loss: 501.5108 - accuracy: 0.0000e+00 - val_loss: 597.3483 - val_accuracy: 0.0000e+00\n",
            "Epoch 105/200\n",
            "11/11 [==============================] - 0s 6ms/step - loss: 514.3985 - accuracy: 0.0000e+00 - val_loss: 597.3483 - val_accuracy: 0.0000e+00\n",
            "Epoch 106/200\n",
            "11/11 [==============================] - 0s 6ms/step - loss: 531.8050 - accuracy: 0.0000e+00 - val_loss: 597.3483 - val_accuracy: 0.0000e+00\n",
            "Epoch 107/200\n",
            "11/11 [==============================] - 0s 6ms/step - loss: 490.4393 - accuracy: 0.0000e+00 - val_loss: 597.3483 - val_accuracy: 0.0000e+00\n",
            "Epoch 108/200\n",
            "11/11 [==============================] - 0s 7ms/step - loss: 508.5546 - accuracy: 0.0000e+00 - val_loss: 597.3483 - val_accuracy: 0.0000e+00\n",
            "Epoch 109/200\n",
            "11/11 [==============================] - 0s 6ms/step - loss: 531.3479 - accuracy: 0.0000e+00 - val_loss: 597.3483 - val_accuracy: 0.0000e+00\n",
            "Epoch 110/200\n",
            "11/11 [==============================] - 0s 6ms/step - loss: 489.6904 - accuracy: 0.0000e+00 - val_loss: 597.3483 - val_accuracy: 0.0000e+00\n",
            "Epoch 111/200\n",
            "11/11 [==============================] - 0s 7ms/step - loss: 546.5161 - accuracy: 0.0000e+00 - val_loss: 597.3483 - val_accuracy: 0.0000e+00\n",
            "Epoch 112/200\n",
            "11/11 [==============================] - 0s 6ms/step - loss: 560.9621 - accuracy: 0.0000e+00 - val_loss: 597.3483 - val_accuracy: 0.0000e+00\n",
            "Epoch 113/200\n",
            "11/11 [==============================] - 0s 7ms/step - loss: 499.9658 - accuracy: 0.0000e+00 - val_loss: 597.3483 - val_accuracy: 0.0000e+00\n",
            "Epoch 114/200\n",
            "11/11 [==============================] - 0s 7ms/step - loss: 525.0902 - accuracy: 0.0000e+00 - val_loss: 597.3483 - val_accuracy: 0.0000e+00\n",
            "Epoch 115/200\n",
            "11/11 [==============================] - 0s 6ms/step - loss: 501.1354 - accuracy: 0.0000e+00 - val_loss: 597.3483 - val_accuracy: 0.0000e+00\n",
            "Epoch 116/200\n",
            "11/11 [==============================] - 0s 7ms/step - loss: 493.4709 - accuracy: 0.0000e+00 - val_loss: 597.3483 - val_accuracy: 0.0000e+00\n",
            "Epoch 117/200\n",
            "11/11 [==============================] - 0s 6ms/step - loss: 547.1304 - accuracy: 0.0000e+00 - val_loss: 597.3483 - val_accuracy: 0.0000e+00\n",
            "Epoch 118/200\n",
            "11/11 [==============================] - 0s 6ms/step - loss: 530.8396 - accuracy: 0.0000e+00 - val_loss: 597.3483 - val_accuracy: 0.0000e+00\n",
            "Epoch 119/200\n",
            "11/11 [==============================] - 0s 7ms/step - loss: 503.5690 - accuracy: 0.0000e+00 - val_loss: 597.3483 - val_accuracy: 0.0000e+00\n",
            "Epoch 120/200\n",
            "11/11 [==============================] - 0s 6ms/step - loss: 508.5103 - accuracy: 0.0000e+00 - val_loss: 597.3483 - val_accuracy: 0.0000e+00\n",
            "Epoch 121/200\n",
            "11/11 [==============================] - 0s 7ms/step - loss: 528.4690 - accuracy: 0.0000e+00 - val_loss: 597.3483 - val_accuracy: 0.0000e+00\n",
            "Epoch 122/200\n",
            "11/11 [==============================] - 0s 7ms/step - loss: 509.8761 - accuracy: 0.0000e+00 - val_loss: 597.3483 - val_accuracy: 0.0000e+00\n",
            "Epoch 123/200\n",
            "11/11 [==============================] - 0s 6ms/step - loss: 505.2417 - accuracy: 0.0000e+00 - val_loss: 597.3483 - val_accuracy: 0.0000e+00\n",
            "Epoch 124/200\n",
            "11/11 [==============================] - 0s 6ms/step - loss: 522.1006 - accuracy: 0.0000e+00 - val_loss: 597.3483 - val_accuracy: 0.0000e+00\n",
            "Epoch 125/200\n",
            "11/11 [==============================] - 0s 6ms/step - loss: 529.7812 - accuracy: 0.0000e+00 - val_loss: 597.3483 - val_accuracy: 0.0000e+00\n",
            "Epoch 126/200\n",
            "11/11 [==============================] - 0s 6ms/step - loss: 539.2233 - accuracy: 0.0000e+00 - val_loss: 597.3483 - val_accuracy: 0.0000e+00\n",
            "Epoch 127/200\n",
            "11/11 [==============================] - 0s 6ms/step - loss: 522.4496 - accuracy: 0.0000e+00 - val_loss: 597.3483 - val_accuracy: 0.0000e+00\n",
            "Epoch 128/200\n",
            "11/11 [==============================] - 0s 7ms/step - loss: 529.5347 - accuracy: 0.0000e+00 - val_loss: 597.3483 - val_accuracy: 0.0000e+00\n",
            "Epoch 129/200\n",
            "11/11 [==============================] - 0s 6ms/step - loss: 557.2268 - accuracy: 0.0000e+00 - val_loss: 597.3483 - val_accuracy: 0.0000e+00\n",
            "Epoch 130/200\n",
            "11/11 [==============================] - 0s 6ms/step - loss: 489.5730 - accuracy: 0.0000e+00 - val_loss: 597.3483 - val_accuracy: 0.0000e+00\n",
            "Epoch 131/200\n",
            "11/11 [==============================] - 0s 7ms/step - loss: 542.6981 - accuracy: 0.0000e+00 - val_loss: 597.3483 - val_accuracy: 0.0000e+00\n",
            "Epoch 132/200\n",
            "11/11 [==============================] - 0s 6ms/step - loss: 545.4911 - accuracy: 0.0000e+00 - val_loss: 597.3483 - val_accuracy: 0.0000e+00\n",
            "Epoch 133/200\n",
            "11/11 [==============================] - 0s 7ms/step - loss: 527.3388 - accuracy: 0.0000e+00 - val_loss: 597.3483 - val_accuracy: 0.0000e+00\n",
            "Epoch 134/200\n",
            "11/11 [==============================] - 0s 7ms/step - loss: 507.3135 - accuracy: 0.0000e+00 - val_loss: 597.3483 - val_accuracy: 0.0000e+00\n",
            "Epoch 135/200\n",
            "11/11 [==============================] - 0s 7ms/step - loss: 530.9665 - accuracy: 0.0000e+00 - val_loss: 597.3483 - val_accuracy: 0.0000e+00\n",
            "Epoch 136/200\n",
            "11/11 [==============================] - 0s 7ms/step - loss: 514.0323 - accuracy: 0.0000e+00 - val_loss: 597.3483 - val_accuracy: 0.0000e+00\n",
            "Epoch 137/200\n",
            "11/11 [==============================] - 0s 6ms/step - loss: 526.5406 - accuracy: 0.0000e+00 - val_loss: 597.3483 - val_accuracy: 0.0000e+00\n",
            "Epoch 138/200\n",
            "11/11 [==============================] - 0s 6ms/step - loss: 526.0241 - accuracy: 0.0000e+00 - val_loss: 597.3483 - val_accuracy: 0.0000e+00\n",
            "Epoch 139/200\n",
            "11/11 [==============================] - 0s 6ms/step - loss: 487.9993 - accuracy: 0.0000e+00 - val_loss: 597.3483 - val_accuracy: 0.0000e+00\n",
            "Epoch 140/200\n",
            "11/11 [==============================] - 0s 6ms/step - loss: 484.7423 - accuracy: 0.0000e+00 - val_loss: 597.3483 - val_accuracy: 0.0000e+00\n",
            "Epoch 141/200\n",
            "11/11 [==============================] - 0s 7ms/step - loss: 534.0589 - accuracy: 0.0000e+00 - val_loss: 597.3483 - val_accuracy: 0.0000e+00\n",
            "Epoch 142/200\n",
            "11/11 [==============================] - 0s 6ms/step - loss: 535.7581 - accuracy: 0.0000e+00 - val_loss: 597.3483 - val_accuracy: 0.0000e+00\n",
            "Epoch 143/200\n",
            "11/11 [==============================] - 0s 7ms/step - loss: 503.9135 - accuracy: 0.0000e+00 - val_loss: 597.3483 - val_accuracy: 0.0000e+00\n",
            "Epoch 144/200\n",
            "11/11 [==============================] - 0s 6ms/step - loss: 530.4245 - accuracy: 0.0000e+00 - val_loss: 597.3483 - val_accuracy: 0.0000e+00\n",
            "Epoch 145/200\n",
            "11/11 [==============================] - 0s 6ms/step - loss: 524.1533 - accuracy: 0.0000e+00 - val_loss: 597.3483 - val_accuracy: 0.0000e+00\n",
            "Epoch 146/200\n",
            "11/11 [==============================] - 0s 6ms/step - loss: 534.0403 - accuracy: 0.0000e+00 - val_loss: 597.3483 - val_accuracy: 0.0000e+00\n",
            "Epoch 147/200\n",
            "11/11 [==============================] - 0s 6ms/step - loss: 523.7788 - accuracy: 0.0000e+00 - val_loss: 597.3483 - val_accuracy: 0.0000e+00\n",
            "Epoch 148/200\n",
            "11/11 [==============================] - 0s 7ms/step - loss: 505.4555 - accuracy: 0.0000e+00 - val_loss: 597.3483 - val_accuracy: 0.0000e+00\n",
            "Epoch 149/200\n",
            "11/11 [==============================] - 0s 6ms/step - loss: 531.2541 - accuracy: 0.0000e+00 - val_loss: 597.3483 - val_accuracy: 0.0000e+00\n",
            "Epoch 150/200\n",
            "11/11 [==============================] - 0s 6ms/step - loss: 524.2006 - accuracy: 0.0000e+00 - val_loss: 597.3483 - val_accuracy: 0.0000e+00\n",
            "Epoch 151/200\n",
            "11/11 [==============================] - 0s 6ms/step - loss: 518.8447 - accuracy: 0.0000e+00 - val_loss: 597.3483 - val_accuracy: 0.0000e+00\n",
            "Epoch 152/200\n",
            "11/11 [==============================] - 0s 6ms/step - loss: 517.8615 - accuracy: 0.0000e+00 - val_loss: 597.3483 - val_accuracy: 0.0000e+00\n",
            "Epoch 153/200\n",
            "11/11 [==============================] - 0s 6ms/step - loss: 552.5589 - accuracy: 0.0000e+00 - val_loss: 597.3483 - val_accuracy: 0.0000e+00\n",
            "Epoch 154/200\n",
            "11/11 [==============================] - 0s 6ms/step - loss: 536.4757 - accuracy: 0.0000e+00 - val_loss: 597.3483 - val_accuracy: 0.0000e+00\n",
            "Epoch 155/200\n",
            "11/11 [==============================] - 0s 7ms/step - loss: 497.2432 - accuracy: 0.0000e+00 - val_loss: 597.3483 - val_accuracy: 0.0000e+00\n",
            "Epoch 156/200\n",
            "11/11 [==============================] - 0s 6ms/step - loss: 500.2471 - accuracy: 0.0000e+00 - val_loss: 597.3483 - val_accuracy: 0.0000e+00\n",
            "Epoch 157/200\n",
            "11/11 [==============================] - 0s 6ms/step - loss: 520.9912 - accuracy: 0.0000e+00 - val_loss: 597.3483 - val_accuracy: 0.0000e+00\n",
            "Epoch 158/200\n",
            "11/11 [==============================] - 0s 6ms/step - loss: 579.9078 - accuracy: 0.0000e+00 - val_loss: 597.3483 - val_accuracy: 0.0000e+00\n",
            "Epoch 159/200\n",
            "11/11 [==============================] - 0s 7ms/step - loss: 510.3211 - accuracy: 0.0000e+00 - val_loss: 597.3483 - val_accuracy: 0.0000e+00\n",
            "Epoch 160/200\n",
            "11/11 [==============================] - 0s 6ms/step - loss: 534.0916 - accuracy: 0.0000e+00 - val_loss: 597.3483 - val_accuracy: 0.0000e+00\n",
            "Epoch 161/200\n",
            "11/11 [==============================] - 0s 6ms/step - loss: 517.9298 - accuracy: 0.0000e+00 - val_loss: 597.3483 - val_accuracy: 0.0000e+00\n",
            "Epoch 162/200\n",
            "11/11 [==============================] - 0s 7ms/step - loss: 541.1388 - accuracy: 0.0000e+00 - val_loss: 597.3483 - val_accuracy: 0.0000e+00\n",
            "Epoch 163/200\n",
            "11/11 [==============================] - 0s 6ms/step - loss: 533.0942 - accuracy: 0.0000e+00 - val_loss: 597.3483 - val_accuracy: 0.0000e+00\n",
            "Epoch 164/200\n",
            "11/11 [==============================] - 0s 6ms/step - loss: 529.6130 - accuracy: 0.0000e+00 - val_loss: 597.3483 - val_accuracy: 0.0000e+00\n",
            "Epoch 165/200\n",
            "11/11 [==============================] - 0s 7ms/step - loss: 544.6825 - accuracy: 0.0000e+00 - val_loss: 597.3483 - val_accuracy: 0.0000e+00\n",
            "Epoch 166/200\n",
            "11/11 [==============================] - 0s 6ms/step - loss: 525.4433 - accuracy: 0.0000e+00 - val_loss: 597.3483 - val_accuracy: 0.0000e+00\n",
            "Epoch 167/200\n",
            "11/11 [==============================] - 0s 6ms/step - loss: 498.2297 - accuracy: 0.0000e+00 - val_loss: 597.3483 - val_accuracy: 0.0000e+00\n",
            "Epoch 168/200\n",
            "11/11 [==============================] - 0s 6ms/step - loss: 499.0707 - accuracy: 0.0000e+00 - val_loss: 597.3483 - val_accuracy: 0.0000e+00\n",
            "Epoch 169/200\n",
            "11/11 [==============================] - 0s 7ms/step - loss: 525.0357 - accuracy: 0.0000e+00 - val_loss: 597.3483 - val_accuracy: 0.0000e+00\n",
            "Epoch 170/200\n",
            "11/11 [==============================] - 0s 6ms/step - loss: 544.4980 - accuracy: 0.0000e+00 - val_loss: 597.3483 - val_accuracy: 0.0000e+00\n",
            "Epoch 171/200\n",
            "11/11 [==============================] - 0s 6ms/step - loss: 510.8714 - accuracy: 0.0000e+00 - val_loss: 597.3483 - val_accuracy: 0.0000e+00\n",
            "Epoch 172/200\n",
            "11/11 [==============================] - 0s 6ms/step - loss: 542.2141 - accuracy: 0.0000e+00 - val_loss: 597.3483 - val_accuracy: 0.0000e+00\n",
            "Epoch 173/200\n",
            "11/11 [==============================] - 0s 6ms/step - loss: 563.6927 - accuracy: 0.0000e+00 - val_loss: 597.3483 - val_accuracy: 0.0000e+00\n",
            "Epoch 174/200\n",
            "11/11 [==============================] - 0s 7ms/step - loss: 483.5583 - accuracy: 0.0000e+00 - val_loss: 597.3483 - val_accuracy: 0.0000e+00\n",
            "Epoch 175/200\n",
            "11/11 [==============================] - 0s 6ms/step - loss: 516.8942 - accuracy: 0.0000e+00 - val_loss: 597.3483 - val_accuracy: 0.0000e+00\n",
            "Epoch 176/200\n",
            "11/11 [==============================] - 0s 7ms/step - loss: 513.4850 - accuracy: 0.0000e+00 - val_loss: 597.3483 - val_accuracy: 0.0000e+00\n",
            "Epoch 177/200\n",
            "11/11 [==============================] - 0s 6ms/step - loss: 565.3307 - accuracy: 0.0000e+00 - val_loss: 597.3483 - val_accuracy: 0.0000e+00\n",
            "Epoch 178/200\n",
            "11/11 [==============================] - 0s 6ms/step - loss: 552.2015 - accuracy: 0.0000e+00 - val_loss: 597.3483 - val_accuracy: 0.0000e+00\n",
            "Epoch 179/200\n",
            "11/11 [==============================] - 0s 6ms/step - loss: 511.6657 - accuracy: 0.0000e+00 - val_loss: 597.3483 - val_accuracy: 0.0000e+00\n",
            "Epoch 180/200\n",
            "11/11 [==============================] - 0s 6ms/step - loss: 541.3654 - accuracy: 0.0000e+00 - val_loss: 597.3483 - val_accuracy: 0.0000e+00\n",
            "Epoch 181/200\n",
            "11/11 [==============================] - 0s 7ms/step - loss: 527.7757 - accuracy: 0.0000e+00 - val_loss: 597.3483 - val_accuracy: 0.0000e+00\n",
            "Epoch 182/200\n",
            "11/11 [==============================] - 0s 6ms/step - loss: 503.4433 - accuracy: 0.0000e+00 - val_loss: 597.3483 - val_accuracy: 0.0000e+00\n",
            "Epoch 183/200\n",
            "11/11 [==============================] - 0s 7ms/step - loss: 508.6195 - accuracy: 0.0000e+00 - val_loss: 597.3483 - val_accuracy: 0.0000e+00\n",
            "Epoch 184/200\n",
            "11/11 [==============================] - 0s 6ms/step - loss: 547.3778 - accuracy: 0.0000e+00 - val_loss: 597.3483 - val_accuracy: 0.0000e+00\n",
            "Epoch 185/200\n",
            "11/11 [==============================] - 0s 7ms/step - loss: 555.8688 - accuracy: 0.0000e+00 - val_loss: 597.3483 - val_accuracy: 0.0000e+00\n",
            "Epoch 186/200\n",
            "11/11 [==============================] - 0s 8ms/step - loss: 516.1226 - accuracy: 0.0000e+00 - val_loss: 597.3483 - val_accuracy: 0.0000e+00\n",
            "Epoch 187/200\n",
            "11/11 [==============================] - 0s 7ms/step - loss: 527.8346 - accuracy: 0.0000e+00 - val_loss: 597.3483 - val_accuracy: 0.0000e+00\n",
            "Epoch 188/200\n",
            "11/11 [==============================] - 0s 6ms/step - loss: 553.0100 - accuracy: 0.0000e+00 - val_loss: 597.3483 - val_accuracy: 0.0000e+00\n",
            "Epoch 189/200\n",
            "11/11 [==============================] - 0s 8ms/step - loss: 535.3947 - accuracy: 0.0000e+00 - val_loss: 597.3483 - val_accuracy: 0.0000e+00\n",
            "Epoch 190/200\n",
            "11/11 [==============================] - 0s 7ms/step - loss: 529.1572 - accuracy: 0.0000e+00 - val_loss: 597.3483 - val_accuracy: 0.0000e+00\n",
            "Epoch 191/200\n",
            "11/11 [==============================] - 0s 6ms/step - loss: 506.7499 - accuracy: 0.0000e+00 - val_loss: 597.3483 - val_accuracy: 0.0000e+00\n",
            "Epoch 192/200\n",
            "11/11 [==============================] - 0s 6ms/step - loss: 521.6148 - accuracy: 0.0000e+00 - val_loss: 597.3483 - val_accuracy: 0.0000e+00\n",
            "Epoch 193/200\n",
            "11/11 [==============================] - 0s 6ms/step - loss: 525.6006 - accuracy: 0.0000e+00 - val_loss: 597.3483 - val_accuracy: 0.0000e+00\n",
            "Epoch 194/200\n",
            "11/11 [==============================] - 0s 7ms/step - loss: 513.1579 - accuracy: 0.0000e+00 - val_loss: 597.3483 - val_accuracy: 0.0000e+00\n",
            "Epoch 195/200\n",
            "11/11 [==============================] - 0s 8ms/step - loss: 544.1974 - accuracy: 0.0000e+00 - val_loss: 597.3483 - val_accuracy: 0.0000e+00\n",
            "Epoch 196/200\n",
            "11/11 [==============================] - 0s 7ms/step - loss: 521.4701 - accuracy: 0.0000e+00 - val_loss: 597.3483 - val_accuracy: 0.0000e+00\n",
            "Epoch 197/200\n",
            "11/11 [==============================] - 0s 6ms/step - loss: 506.9425 - accuracy: 0.0000e+00 - val_loss: 597.3483 - val_accuracy: 0.0000e+00\n",
            "Epoch 198/200\n",
            "11/11 [==============================] - 0s 6ms/step - loss: 555.1439 - accuracy: 0.0000e+00 - val_loss: 597.3483 - val_accuracy: 0.0000e+00\n",
            "Epoch 199/200\n",
            "11/11 [==============================] - 0s 6ms/step - loss: 511.5262 - accuracy: 0.0000e+00 - val_loss: 597.3483 - val_accuracy: 0.0000e+00\n",
            "Epoch 200/200\n",
            "11/11 [==============================] - 0s 6ms/step - loss: 533.0495 - accuracy: 0.0000e+00 - val_loss: 597.3483 - val_accuracy: 0.0000e+00\n"
          ],
          "name": "stdout"
        },
        {
          "output_type": "execute_result",
          "data": {
            "text/plain": [
              "<tensorflow.python.keras.callbacks.History at 0x7f698186ad50>"
            ]
          },
          "metadata": {
            "tags": []
          },
          "execution_count": 6
        }
      ]
    },
    {
      "cell_type": "code",
      "metadata": {
        "id": "descending-letters",
        "colab": {
          "base_uri": "https://localhost:8080/"
        },
        "outputId": "fc9969f3-2661-4893-add4-fac2c4b662a5"
      },
      "source": [
        "# No modifique el código\n",
        "results = model.evaluate(x_test, y_test, verbose=1)\n",
        "print('Test Loss: {}'.format(results))"
      ],
      "id": "descending-letters",
      "execution_count": 7,
      "outputs": [
        {
          "output_type": "stream",
          "text": [
            "4/4 [==============================] - 0s 6ms/step - loss: 570.7010 - accuracy: 0.0000e+00\n",
            "Test Loss: [570.7009887695312, 0.0]\n"
          ],
          "name": "stdout"
        }
      ]
    },
    {
      "cell_type": "markdown",
      "metadata": {
        "id": "raised-delivery"
      },
      "source": [
        "<a name='1.2'></a>\n",
        "## Cuestión 2: Utilice el mismo modelo de la cuestión anterior pero añadiendo al menos dos técnicas distinas de regularización.\n",
        "\n",
        "Ejemplos de regularización: [Prevent_Overfitting.ipynb](https://github.com/ezponda/intro_deep_learning/blob/main/class/Fundamentals/Prevent_Overfitting.ipynb)\n",
        "\n",
        "Puntuación:\n",
        "\n",
        "- Obtener el modelo con la regularización: 0.8 pts\n",
        "- Obtener un `test loss` inferior al anterior: 0.2 pts\n"
      ],
      "id": "raised-delivery"
    },
    {
      "cell_type": "code",
      "metadata": {
        "id": "hired-ground",
        "colab": {
          "base_uri": "https://localhost:8080/"
        },
        "outputId": "f1fbe6d7-70ef-4062-f2f9-a826f447d254"
      },
      "source": [
        "model = tf.keras.models.Sequential()\n",
        "# Código aquí\n",
        "..."
      ],
      "id": "hired-ground",
      "execution_count": 8,
      "outputs": [
        {
          "output_type": "execute_result",
          "data": {
            "text/plain": [
              "Ellipsis"
            ]
          },
          "metadata": {
            "tags": []
          },
          "execution_count": 8
        }
      ]
    },
    {
      "cell_type": "code",
      "metadata": {
        "id": "focal-traffic",
        "colab": {
          "base_uri": "https://localhost:8080/",
          "height": 307
        },
        "outputId": "65bc9c66-b60d-4634-f9ea-ca78a7685991"
      },
      "source": [
        "# Compilación del modelo\n",
        "# Código aquí\n",
        "model.compile(...)"
      ],
      "id": "focal-traffic",
      "execution_count": 9,
      "outputs": [
        {
          "output_type": "error",
          "ename": "ValueError",
          "evalue": "ignored",
          "traceback": [
            "\u001b[0;31m---------------------------------------------------------------------------\u001b[0m",
            "\u001b[0;31mValueError\u001b[0m                                Traceback (most recent call last)",
            "\u001b[0;32m<ipython-input-9-408287c9fb23>\u001b[0m in \u001b[0;36m<module>\u001b[0;34m()\u001b[0m\n\u001b[1;32m      1\u001b[0m \u001b[0;31m# Compilación del modelo\u001b[0m\u001b[0;34m\u001b[0m\u001b[0;34m\u001b[0m\u001b[0;34m\u001b[0m\u001b[0m\n\u001b[1;32m      2\u001b[0m \u001b[0;31m# Código aquí\u001b[0m\u001b[0;34m\u001b[0m\u001b[0;34m\u001b[0m\u001b[0;34m\u001b[0m\u001b[0m\n\u001b[0;32m----> 3\u001b[0;31m \u001b[0mmodel\u001b[0m\u001b[0;34m.\u001b[0m\u001b[0mcompile\u001b[0m\u001b[0;34m(\u001b[0m\u001b[0;34m...\u001b[0m\u001b[0;34m)\u001b[0m\u001b[0;34m\u001b[0m\u001b[0;34m\u001b[0m\u001b[0m\n\u001b[0m",
            "\u001b[0;32m/usr/local/lib/python3.7/dist-packages/tensorflow/python/keras/engine/training.py\u001b[0m in \u001b[0;36mcompile\u001b[0;34m(self, optimizer, loss, metrics, loss_weights, weighted_metrics, run_eagerly, steps_per_execution, **kwargs)\u001b[0m\n\u001b[1;32m    535\u001b[0m       \u001b[0mself\u001b[0m\u001b[0;34m.\u001b[0m\u001b[0m_run_eagerly\u001b[0m \u001b[0;34m=\u001b[0m \u001b[0mrun_eagerly\u001b[0m\u001b[0;34m\u001b[0m\u001b[0;34m\u001b[0m\u001b[0m\n\u001b[1;32m    536\u001b[0m \u001b[0;34m\u001b[0m\u001b[0m\n\u001b[0;32m--> 537\u001b[0;31m       \u001b[0mself\u001b[0m\u001b[0;34m.\u001b[0m\u001b[0moptimizer\u001b[0m \u001b[0;34m=\u001b[0m \u001b[0mself\u001b[0m\u001b[0;34m.\u001b[0m\u001b[0m_get_optimizer\u001b[0m\u001b[0;34m(\u001b[0m\u001b[0moptimizer\u001b[0m\u001b[0;34m)\u001b[0m\u001b[0;34m\u001b[0m\u001b[0;34m\u001b[0m\u001b[0m\n\u001b[0m\u001b[1;32m    538\u001b[0m       self.compiled_loss = compile_utils.LossesContainer(\n\u001b[1;32m    539\u001b[0m           loss, loss_weights, output_names=self.output_names)\n",
            "\u001b[0;32m/usr/local/lib/python3.7/dist-packages/tensorflow/python/keras/engine/training.py\u001b[0m in \u001b[0;36m_get_optimizer\u001b[0;34m(self, optimizer)\u001b[0m\n\u001b[1;32m    572\u001b[0m       \u001b[0;32mreturn\u001b[0m \u001b[0mopt\u001b[0m\u001b[0;34m\u001b[0m\u001b[0;34m\u001b[0m\u001b[0m\n\u001b[1;32m    573\u001b[0m \u001b[0;34m\u001b[0m\u001b[0m\n\u001b[0;32m--> 574\u001b[0;31m     \u001b[0;32mreturn\u001b[0m \u001b[0mnest\u001b[0m\u001b[0;34m.\u001b[0m\u001b[0mmap_structure\u001b[0m\u001b[0;34m(\u001b[0m\u001b[0m_get_single_optimizer\u001b[0m\u001b[0;34m,\u001b[0m \u001b[0moptimizer\u001b[0m\u001b[0;34m)\u001b[0m\u001b[0;34m\u001b[0m\u001b[0;34m\u001b[0m\u001b[0m\n\u001b[0m\u001b[1;32m    575\u001b[0m \u001b[0;34m\u001b[0m\u001b[0m\n\u001b[1;32m    576\u001b[0m   \u001b[0;34m@\u001b[0m\u001b[0mtrackable\u001b[0m\u001b[0;34m.\u001b[0m\u001b[0mno_automatic_dependency_tracking\u001b[0m\u001b[0;34m\u001b[0m\u001b[0;34m\u001b[0m\u001b[0m\n",
            "\u001b[0;32m/usr/local/lib/python3.7/dist-packages/tensorflow/python/util/nest.py\u001b[0m in \u001b[0;36mmap_structure\u001b[0;34m(func, *structure, **kwargs)\u001b[0m\n\u001b[1;32m    657\u001b[0m \u001b[0;34m\u001b[0m\u001b[0m\n\u001b[1;32m    658\u001b[0m   return pack_sequence_as(\n\u001b[0;32m--> 659\u001b[0;31m       \u001b[0mstructure\u001b[0m\u001b[0;34m[\u001b[0m\u001b[0;36m0\u001b[0m\u001b[0;34m]\u001b[0m\u001b[0;34m,\u001b[0m \u001b[0;34m[\u001b[0m\u001b[0mfunc\u001b[0m\u001b[0;34m(\u001b[0m\u001b[0;34m*\u001b[0m\u001b[0mx\u001b[0m\u001b[0;34m)\u001b[0m \u001b[0;32mfor\u001b[0m \u001b[0mx\u001b[0m \u001b[0;32min\u001b[0m \u001b[0mentries\u001b[0m\u001b[0;34m]\u001b[0m\u001b[0;34m,\u001b[0m\u001b[0;34m\u001b[0m\u001b[0;34m\u001b[0m\u001b[0m\n\u001b[0m\u001b[1;32m    660\u001b[0m       expand_composites=expand_composites)\n\u001b[1;32m    661\u001b[0m \u001b[0;34m\u001b[0m\u001b[0m\n",
            "\u001b[0;32m/usr/local/lib/python3.7/dist-packages/tensorflow/python/util/nest.py\u001b[0m in \u001b[0;36m<listcomp>\u001b[0;34m(.0)\u001b[0m\n\u001b[1;32m    657\u001b[0m \u001b[0;34m\u001b[0m\u001b[0m\n\u001b[1;32m    658\u001b[0m   return pack_sequence_as(\n\u001b[0;32m--> 659\u001b[0;31m       \u001b[0mstructure\u001b[0m\u001b[0;34m[\u001b[0m\u001b[0;36m0\u001b[0m\u001b[0;34m]\u001b[0m\u001b[0;34m,\u001b[0m \u001b[0;34m[\u001b[0m\u001b[0mfunc\u001b[0m\u001b[0;34m(\u001b[0m\u001b[0;34m*\u001b[0m\u001b[0mx\u001b[0m\u001b[0;34m)\u001b[0m \u001b[0;32mfor\u001b[0m \u001b[0mx\u001b[0m \u001b[0;32min\u001b[0m \u001b[0mentries\u001b[0m\u001b[0;34m]\u001b[0m\u001b[0;34m,\u001b[0m\u001b[0;34m\u001b[0m\u001b[0;34m\u001b[0m\u001b[0m\n\u001b[0m\u001b[1;32m    660\u001b[0m       expand_composites=expand_composites)\n\u001b[1;32m    661\u001b[0m \u001b[0;34m\u001b[0m\u001b[0m\n",
            "\u001b[0;32m/usr/local/lib/python3.7/dist-packages/tensorflow/python/keras/engine/training.py\u001b[0m in \u001b[0;36m_get_single_optimizer\u001b[0;34m(opt)\u001b[0m\n\u001b[1;32m    563\u001b[0m \u001b[0;34m\u001b[0m\u001b[0m\n\u001b[1;32m    564\u001b[0m     \u001b[0;32mdef\u001b[0m \u001b[0m_get_single_optimizer\u001b[0m\u001b[0;34m(\u001b[0m\u001b[0mopt\u001b[0m\u001b[0;34m)\u001b[0m\u001b[0;34m:\u001b[0m\u001b[0;34m\u001b[0m\u001b[0;34m\u001b[0m\u001b[0m\n\u001b[0;32m--> 565\u001b[0;31m       \u001b[0mopt\u001b[0m \u001b[0;34m=\u001b[0m \u001b[0moptimizers\u001b[0m\u001b[0;34m.\u001b[0m\u001b[0mget\u001b[0m\u001b[0;34m(\u001b[0m\u001b[0mopt\u001b[0m\u001b[0;34m)\u001b[0m\u001b[0;34m\u001b[0m\u001b[0;34m\u001b[0m\u001b[0m\n\u001b[0m\u001b[1;32m    566\u001b[0m       if (loss_scale is not None and\n\u001b[1;32m    567\u001b[0m           not isinstance(opt, lso.LossScaleOptimizer)):\n",
            "\u001b[0;32m/usr/local/lib/python3.7/dist-packages/tensorflow/python/keras/optimizers.py\u001b[0m in \u001b[0;36mget\u001b[0;34m(identifier)\u001b[0m\n\u001b[1;32m    119\u001b[0m   \u001b[0;32melse\u001b[0m\u001b[0;34m:\u001b[0m\u001b[0;34m\u001b[0m\u001b[0;34m\u001b[0m\u001b[0m\n\u001b[1;32m    120\u001b[0m     raise ValueError(\n\u001b[0;32m--> 121\u001b[0;31m         'Could not interpret optimizer identifier: {}'.format(identifier))\n\u001b[0m",
            "\u001b[0;31mValueError\u001b[0m: Could not interpret optimizer identifier: Ellipsis"
          ]
        }
      ]
    },
    {
      "cell_type": "code",
      "metadata": {
        "id": "338f8622"
      },
      "source": [
        "batch_size=..."
      ],
      "id": "338f8622",
      "execution_count": null,
      "outputs": []
    },
    {
      "cell_type": "code",
      "metadata": {
        "id": "prostate-instrumentation"
      },
      "source": [
        "# No modifique el código\n",
        "model.fit(x_train,\n",
        "          y_train,\n",
        "          epochs=200,\n",
        "          batch_size=batch_size,\n",
        "          validation_split=0.2,\n",
        "          verbose=1)"
      ],
      "id": "prostate-instrumentation",
      "execution_count": null,
      "outputs": []
    },
    {
      "cell_type": "code",
      "metadata": {
        "id": "friendly-powell"
      },
      "source": [
        "# No modifique el código\n",
        "results = model.evaluate(x_test, y_test, verbose=1)\n",
        "print('Test Loss: {}'.format(results))"
      ],
      "id": "friendly-powell",
      "execution_count": null,
      "outputs": []
    },
    {
      "cell_type": "markdown",
      "metadata": {
        "id": "british-vegetation"
      },
      "source": [
        "<a name='1.3'></a>\n",
        "## Cuestión 3: Utilice el mismo modelo de la cuestión anterior pero añadiendo un callback de early stopping. Obtenga un test loss inferior al del modelo anterior"
      ],
      "id": "british-vegetation"
    },
    {
      "cell_type": "code",
      "metadata": {
        "id": "precise-finish"
      },
      "source": [
        "model = tf.keras.models.Sequential()\n",
        "# Código aquí\n",
        "..."
      ],
      "id": "precise-finish",
      "execution_count": null,
      "outputs": []
    },
    {
      "cell_type": "code",
      "metadata": {
        "id": "blond-telephone"
      },
      "source": [
        "# Compilación del modelo\n",
        "# Código aquí\n",
        "model.compile(...)"
      ],
      "id": "blond-telephone",
      "execution_count": null,
      "outputs": []
    },
    {
      "cell_type": "code",
      "metadata": {
        "id": "subsequent-roads"
      },
      "source": [
        "## definir el early stopping callback\n",
        "# Código aquí\n",
        "...\n",
        "model.fit(x_train,\n",
        "          y_train,\n",
        "          epochs=200,\n",
        "          batch_size=32,\n",
        "          validation_split=0.2,\n",
        "          verbose=1,\n",
        "          callbacks=[...]) # Código aquí"
      ],
      "id": "subsequent-roads",
      "execution_count": null,
      "outputs": []
    },
    {
      "cell_type": "code",
      "metadata": {
        "id": "pressing-object"
      },
      "source": [
        "# No modifique el código\n",
        "results = model.evaluate(x_test, y_test, verbose=1)\n",
        "print('Test Loss: {}'.format(results))"
      ],
      "id": "pressing-object",
      "execution_count": null,
      "outputs": []
    },
    {
      "cell_type": "markdown",
      "metadata": {
        "id": "addressed-lesbian"
      },
      "source": [
        "<a name='1.4'></a>\n",
        "## Cuestión 4: ¿Podría haberse usado otra función de activación de la neurona de salida? En caso afirmativo especifíquela."
      ],
      "id": "addressed-lesbian"
    },
    {
      "cell_type": "markdown",
      "metadata": {
        "id": "ruled-silicon"
      },
      "source": [
        ""
      ],
      "id": "ruled-silicon"
    },
    {
      "cell_type": "markdown",
      "metadata": {
        "id": "robust-christianity"
      },
      "source": [
        "<a name='1.5'></a>\n",
        "## Cuestión 5:  ¿Qué es lo que una neurona calcula?\n",
        "\n",
        "**a)** Una función de activación seguida de una suma ponderada  de las entradas.\n",
        "\n",
        "**b)** Una suma ponderada  de las entradas seguida de una función de activación.\n",
        "\n",
        "**c)** Una función de pérdida, definida sobre el target.\n",
        "\n",
        "**d)** Ninguna  de las anteriores es correcta\n"
      ],
      "id": "robust-christianity"
    },
    {
      "cell_type": "markdown",
      "metadata": {
        "id": "joined-burden"
      },
      "source": [
        "Respuesta:\n",
        "**b)** Una suma ponderada  de las entradas seguida de una función de activación.\n"
      ],
      "id": "joined-burden"
    },
    {
      "cell_type": "markdown",
      "metadata": {
        "id": "iraqi-european"
      },
      "source": [
        "<a name='1.6'></a>\n",
        "## Cuestión 6:  ¿Cuál de estas funciones de activación no debería usarse en una capa oculta (hidden layer)?\n",
        "\n",
        "**a)** `sigmoid`\n",
        "\n",
        "**b)** `tanh`\n",
        "\n",
        "**c)** `relu`\n",
        "\n",
        "**d)** `linear`\n"
      ],
      "id": "iraqi-european"
    },
    {
      "cell_type": "markdown",
      "metadata": {
        "id": "cardiovascular-attack"
      },
      "source": [
        "Respuesta: **d)** linear"
      ],
      "id": "cardiovascular-attack"
    },
    {
      "cell_type": "markdown",
      "metadata": {
        "id": "ranging-utilization"
      },
      "source": [
        "<a name='1.7'></a>\n",
        "## Cuestión 7:  ¿Cuál de estas técnicas es efectiva para combatir el overfitting en una red con varias capas ocultas? Ponga todas las que lo sean.\n",
        "\n",
        "**a)** Dropout\n",
        "\n",
        "**b)** Regularización L2.\n",
        "\n",
        "**c)** Aumentar el tamaño del test set.\n",
        "\n",
        "**d)** Aumentar el tamaño del validation set.\n",
        "\n",
        "**e)** Reducir el número de capas de la red.\n",
        "\n",
        "**f)** Data augmentation."
      ],
      "id": "ranging-utilization"
    },
    {
      "cell_type": "markdown",
      "metadata": {
        "id": "accessible-trainer"
      },
      "source": [
        ""
      ],
      "id": "accessible-trainer"
    },
    {
      "cell_type": "markdown",
      "metadata": {
        "id": "recreational-deposit"
      },
      "source": [
        "<a name='1.8'></a>\n",
        "## Cuestión 8:  Supongamos que queremos entrenar una red para un problema de clasificación de imágenes con las siguientes clases: {'perro','gato','persona'}. ¿Cuántas neuronas y que función de activación debería tener la capa de salida? ¿Qué función de pérdida (loss function) debería usarse?\n"
      ],
      "id": "recreational-deposit"
    },
    {
      "cell_type": "markdown",
      "metadata": {
        "id": "confirmed-roulette"
      },
      "source": [
        ""
      ],
      "id": "confirmed-roulette"
    },
    {
      "cell_type": "markdown",
      "metadata": {
        "id": "painful-decade"
      },
      "source": [
        "<a name='actividad_2'></a>\n",
        "# Actividad 2: Redes Convolucionales\n",
        "\n",
        "Vamos a usar el dataset [cifar-10](https://www.cs.toronto.edu/~kriz/cifar.html), que son 60000 imágenes de 32x32 a color  con 10 clases diferentes. Para realizar mejor la práctica puede consultar [Introduction_to_CNN.ipynb](https://github.com/ezponda/intro_deep_learning/blob/main/class/CNN/Introduction_to_CNN.ipynb).\n",
        "\n",
        "\n",
        "\n",
        "**Puntuación**: \n",
        "\n",
        "- [Cuestión 1](#2.1): 1 pt\n",
        "- [Cuestión 2](#2.2): 1.5 pt\n",
        "- [Cuestión 3](#2.3): 0.5 pts\n",
        "- [Cuestión 4](#2.4): 0.25 pts\n",
        "- [Cuestión 5](#2.5): 0.25 pts\n",
        "- [Cuestión 6](#2.6): 0.25 pts\n",
        "- [Cuestión 7](#2.7): 0.25 pts\n",
        "\n",
        "\n",
        "\n",
        "\n",
        "Puede normalizar las imágenes al principio o usar la capa [Rescaling](https://www.tensorflow.org/api_docs/python/tf/keras/layers/experimental/preprocessing/Rescaling):\n",
        "\n",
        "```python\n",
        "tf.keras.layers.experimental.preprocessing.Rescaling(\n",
        "    scale, offset=0.0, name=None, **kwargs\n",
        ")\n",
        "```"
      ],
      "id": "painful-decade"
    },
    {
      "cell_type": "code",
      "metadata": {
        "id": "incorporate-terrorist"
      },
      "source": [
        "(x_train, y_train), (x_test, y_test) = tf.keras.datasets.cifar10.load_data()\n",
        "y_train = y_train.flatten()\n",
        "y_test = y_test.flatten()"
      ],
      "id": "incorporate-terrorist",
      "execution_count": null,
      "outputs": []
    },
    {
      "cell_type": "code",
      "metadata": {
        "id": "brazilian-rhythm"
      },
      "source": [
        "class_names = ['airplane', 'automobile', 'bird', 'cat', 'deer',\n",
        "               'dog', 'frog', 'horse', 'ship', 'truck']\n",
        "\n",
        "plt.figure(figsize=(10,10))\n",
        "for i in range(25):\n",
        "    plt.subplot(5,5,i+1)\n",
        "    plt.xticks([])\n",
        "    plt.yticks([])\n",
        "    plt.grid(False)\n",
        "    plt.imshow(x_train[i])\n",
        "    plt.xlabel(class_names[y_train[i]])\n",
        "plt.show()"
      ],
      "id": "brazilian-rhythm",
      "execution_count": null,
      "outputs": []
    },
    {
      "cell_type": "code",
      "metadata": {
        "id": "extreme-quantum"
      },
      "source": [
        "print('x_train, y_train shapes:', x_train.shape, y_train.shape)\n",
        "print('x_test, y_test shapes:', x_test.shape, y_test.shape)"
      ],
      "id": "extreme-quantum",
      "execution_count": null,
      "outputs": []
    },
    {
      "cell_type": "markdown",
      "metadata": {
        "id": "living-philosophy"
      },
      "source": [
        "<a name='2.1'></a>\n",
        "## Cuestión 1: Cree una red convolucional con la API funcional con al menos dos capas convolucionales y al menos dos capas de pooling. Utilize sólo [Average Pooling](https://www.tensorflow.org/api_docs/python/tf/keras/layers/AveragePooling2D) y no añada ninguna regularización."
      ],
      "id": "living-philosophy"
    },
    {
      "cell_type": "code",
      "metadata": {
        "id": "atmospheric-sight"
      },
      "source": [
        "inputs = tf.keras.Input(shape=..., name='input')\n",
        "# reescaling = ...\n",
        "\n",
        "# Convolution + pooling layers\n",
        "...\n",
        "\n",
        "# Flattening\n",
        "...\n",
        "\n",
        "# Fully-connected\n",
        "outputs = layers.Dense(...)\n",
        "\n",
        "model = keras.Model(inputs=..., outputs=...)"
      ],
      "id": "atmospheric-sight",
      "execution_count": null,
      "outputs": []
    },
    {
      "cell_type": "code",
      "metadata": {
        "id": "needed-arena"
      },
      "source": [
        "model.compile(optimizer='adam',\n",
        "              loss=tf.keras.losses.SparseCategoricalCrossentropy(),\n",
        "              metrics=['accuracy'])"
      ],
      "id": "needed-arena",
      "execution_count": null,
      "outputs": []
    },
    {
      "cell_type": "code",
      "metadata": {
        "id": "pursuant-paper"
      },
      "source": [
        "history = model.fit(x_train, y_train, epochs=25, batch_size=64,\n",
        "                    validation_split=0.15)"
      ],
      "id": "pursuant-paper",
      "execution_count": null,
      "outputs": []
    },
    {
      "cell_type": "code",
      "metadata": {
        "id": "applicable-honduras"
      },
      "source": [
        "results = model.evaluate(x_test, y_test, verbose=0, batch_size=1000)\n",
        "print('Test Loss: {}'.format(results[0]))\n",
        "print('Test Accuracy: {}'.format(results[1]))"
      ],
      "id": "applicable-honduras",
      "execution_count": null,
      "outputs": []
    },
    {
      "cell_type": "markdown",
      "metadata": {
        "id": "numerous-invite"
      },
      "source": [
        "<a name='2.2'></a>\n",
        "## Cuestión 2: Cree un modelo con la API funcional con un máximo de 2 capas convolucionales y un máximo de 2 capas de pooling. Utilize  [Max Pooling](https://www.tensorflow.org/api_docs/python/tf/keras/layers/MaxPool2D) o [Average Pooling](https://www.tensorflow.org/api_docs/python/tf/keras/layers/AveragePooling2D) y  añada la regularización que quiera. Debe obtener un `Test accuracy > 0.68`"
      ],
      "id": "numerous-invite"
    },
    {
      "cell_type": "code",
      "metadata": {
        "id": "annual-diploma"
      },
      "source": [
        "inputs = tf.keras.Input(shape=..., name='input')\n",
        "# reescaling = ...\n",
        "\n",
        "# Convolution + pooling layers\n",
        "...\n",
        "\n",
        "# Flattening\n",
        "...\n",
        "\n",
        "# Fully-connected\n",
        "outputs = layers.Dense(...)\n",
        "\n",
        "model = keras.Model(inputs=..., outputs=...)"
      ],
      "id": "annual-diploma",
      "execution_count": null,
      "outputs": []
    },
    {
      "cell_type": "code",
      "metadata": {
        "id": "indian-messaging"
      },
      "source": [
        "model.compile(optimizer='adam',\n",
        "              loss=tf.keras.losses.SparseCategoricalCrossentropy(),\n",
        "              metrics=['accuracy'])"
      ],
      "id": "indian-messaging",
      "execution_count": null,
      "outputs": []
    },
    {
      "cell_type": "code",
      "metadata": {
        "id": "functional-republic"
      },
      "source": [
        "history = model.fit(x_train, y_train, epochs=..., batch_size=...,\n",
        "                    validation_split=0.15, callbacks=lbacks=[...])"
      ],
      "id": "functional-republic",
      "execution_count": null,
      "outputs": []
    },
    {
      "cell_type": "code",
      "metadata": {
        "id": "incorrect-completion"
      },
      "source": [
        "results = model.evaluate(x_test, y_test, verbose=0, batch_size=1000)\n",
        "print('Test Loss: {}'.format(results[0]))\n",
        "print('Test Accuracy: {}'.format(results[1]))"
      ],
      "id": "incorrect-completion",
      "execution_count": null,
      "outputs": []
    },
    {
      "cell_type": "markdown",
      "metadata": {
        "id": "optical-arizona"
      },
      "source": [
        "<a name='2.3'></a>\n",
        "## Cuestión 3: Añada data augmentation al principio del modelo\n",
        "\n"
      ],
      "id": "optical-arizona"
    },
    {
      "cell_type": "code",
      "metadata": {
        "id": "previous-boxing"
      },
      "source": [
        "data_augmentation=... "
      ],
      "id": "previous-boxing",
      "execution_count": null,
      "outputs": []
    },
    {
      "cell_type": "code",
      "metadata": {
        "id": "comprehensive-directive"
      },
      "source": [
        "inputs = tf.keras.Input(shape=..., name='input')\n",
        "data_aug= ...\n",
        "\n",
        "# reescaling = ...\n",
        "\n",
        "# Convolution + pooling layers\n",
        "...\n",
        "\n",
        "# Flattening\n",
        "...\n",
        "\n",
        "# Fully-connected\n",
        "outputs = layers.Dense(...)\n",
        "\n",
        "model = keras.Model(inputs=..., outputs=...)"
      ],
      "id": "comprehensive-directive",
      "execution_count": null,
      "outputs": []
    },
    {
      "cell_type": "code",
      "metadata": {
        "id": "statutory-covering"
      },
      "source": [
        "model.compile(optimizer='adam',\n",
        "              loss=tf.keras.losses.SparseCategoricalCrossentropy(),\n",
        "              metrics=['accuracy'])"
      ],
      "id": "statutory-covering",
      "execution_count": null,
      "outputs": []
    },
    {
      "cell_type": "code",
      "metadata": {
        "id": "western-energy"
      },
      "source": [
        "history = model.fit(x_train, y_train, epochs=..., batch_size=...,\n",
        "                    validation_split=0.15, callbacks=lbacks=[...])"
      ],
      "id": "western-energy",
      "execution_count": null,
      "outputs": []
    },
    {
      "cell_type": "code",
      "metadata": {
        "id": "classical-charm"
      },
      "source": [
        "results = model.evaluate(x_test, y_test, verbose=0, batch_size=1000)\n",
        "print('Test Loss: {}'.format(results[0]))\n",
        "print('Test Accuracy: {}'.format(results[1]))"
      ],
      "id": "classical-charm",
      "execution_count": null,
      "outputs": []
    },
    {
      "cell_type": "markdown",
      "metadata": {
        "id": "sweet-implement"
      },
      "source": [
        "<a name='2.4'></a>\n",
        "## Cuestión 4: Cree el mismo  modelo de manera secuencial. No es necesario compilar ni entrenar el modelo"
      ],
      "id": "sweet-implement"
    },
    {
      "cell_type": "code",
      "metadata": {
        "id": "auburn-lawrence"
      },
      "source": [
        "model_seq = tf.keras.models.Sequential()\n",
        "# Código aquí\n",
        "..."
      ],
      "id": "auburn-lawrence",
      "execution_count": null,
      "outputs": []
    },
    {
      "cell_type": "markdown",
      "metadata": {
        "id": "present-consortium"
      },
      "source": [
        "<a name='2.5'></a>\n",
        "## Cuestión 5: Si tenenemos una  una imagen de entrada de 300 x 300 a color (RGB) y queremos usar una red densa. Si la primera capa oculta tiene 100 neuronas, ¿Cuántos parámetros tendrá esa capa (sin incluir el bias) ?\n"
      ],
      "id": "present-consortium"
    },
    {
      "cell_type": "markdown",
      "metadata": {
        "id": "novel-calcium"
      },
      "source": [
        ""
      ],
      "id": "novel-calcium"
    },
    {
      "cell_type": "markdown",
      "metadata": {
        "id": "complicated-positive"
      },
      "source": [
        "<a name='2.6'></a>\n",
        "## Cuestión 6   Ponga  las verdaderas ventajas de las redes convolucionales respecto a las densas\n",
        "\n",
        "**a)** Reducen el número total de parámetros, reduciendo así el overfitting.\n",
        "\n",
        "**b)** Permiten utilizar una misma 'función'  en varias localizaciones de la imagen de entrada, en lugar de aprender una función diferente para cada pixel.\n",
        "\n",
        "**c)** Permiten el uso del transfer learning.\n",
        "\n",
        "**d)** Generalmente son menos profundas, lo que facilita su entrenamiento.\n",
        "\n"
      ],
      "id": "complicated-positive"
    },
    {
      "cell_type": "markdown",
      "metadata": {
        "id": "dirty-nirvana"
      },
      "source": [
        ""
      ],
      "id": "dirty-nirvana"
    },
    {
      "cell_type": "markdown",
      "metadata": {
        "id": "first-toyota"
      },
      "source": [
        "<a name='2.7'></a>\n",
        "## Cuestión 7: Para el procesamiento de series temporales las redes convolucionales no son efectivas, habrá que usar redes recurrentes.\n",
        "\n",
        "- **Verdadero** \n",
        "- **Falso** "
      ],
      "id": "first-toyota"
    },
    {
      "cell_type": "markdown",
      "metadata": {
        "id": "frequent-seven"
      },
      "source": [
        ""
      ],
      "id": "frequent-seven"
    },
    {
      "cell_type": "markdown",
      "metadata": {
        "id": "regional-favorite"
      },
      "source": [
        "<a name='actividad_3'></a>\n",
        "# Actividad 3: Redes Recurrentes\n",
        "\n",
        "\n",
        "- [Cuestión 1](#3.1): 0.5 pt\n",
        "- [Cuestión 2](#3.2): 0.5 pt\n",
        "- [Cuestión 3](#3.3): 0.5 pts\n",
        "- [Cuestión 4](#3.4): 0.25 pts\n",
        "- [Cuestión 5](#3.5): 0.25 pts\n",
        "\n",
        "Vamos a usar un dataset de las temperaturas mínimas diarias en Melbourne. La tarea será la de predecir la temperatura mínima en dos días. Puedes usar técnicas de series temporales vistas en otras asignaturas, pero no es necesario.\n"
      ],
      "id": "regional-favorite"
    },
    {
      "cell_type": "code",
      "metadata": {
        "id": "empty-value"
      },
      "source": [
        "dataset_url = 'https://raw.githubusercontent.com/jbrownlee/Datasets/master/daily-min-temperatures.csv'\n",
        "data_dir = tf.keras.utils.get_file('daily-min-temperatures.csv', origin=dataset_url)"
      ],
      "id": "empty-value",
      "execution_count": null,
      "outputs": []
    },
    {
      "cell_type": "code",
      "metadata": {
        "id": "numerous-situation"
      },
      "source": [
        "df = pd.read_csv(data_dir, parse_dates=['Date'])\n",
        "df.head()"
      ],
      "id": "numerous-situation",
      "execution_count": null,
      "outputs": []
    },
    {
      "cell_type": "code",
      "metadata": {
        "id": "copyrighted-madonna"
      },
      "source": [
        "temperatures = df['Temp'].values\n",
        "print('number of samples:', len(temperatures))\n",
        "train_data = temperatures[:3000]\n",
        "test_data = temperatures[3000:]\n",
        "print('number of train samples:', len(train_data))\n",
        "print('number of test samples:', len(test_data))\n",
        "print('firsts trainn samples:', train_data[:10])"
      ],
      "id": "copyrighted-madonna",
      "execution_count": null,
      "outputs": []
    },
    {
      "cell_type": "markdown",
      "metadata": {
        "id": "adapted-brief"
      },
      "source": [
        "<a name='3.1'></a>\n",
        "## Cuestión 1: Convierta `train_data` y `test_data`  en ventanas de tamaño 5, para predecir el valor en 2 días\n",
        "\n",
        "En la nomenclatura de [Introduction_to_RNN_Time_Series.ipynb](https://github.com/ezponda/intro_deep_learning/blob/main/class/RNN/Introduction_to_RNN_Time_Series.ipynb)\n",
        "```python\n",
        "past, future = (5, 2)\n",
        "```\n",
        "\n",
        "Para las primeras 10 muestras de train_data `[20.7, 17.9, 18.8, 14.6, 15.8, 15.8, 15.8, 17.4, 21.8, 20. ]` el resultado debería ser:\n",
        "\n",
        "```python\n",
        "x[0] : [20.7, 17.9, 18.8, 14.6, 15.8] , y[0]: 15.8\n",
        "x[1] : [17.9, 18.8, 14.6, 15.8, 15.8] , y[1]: 17.4\n",
        "x[2] : [18.8, 14.6, 15.8, 15.8, 15.8] , y[2]: 21.8\n",
        "x[3] : [14.6, 15.8, 15.8, 15.8, 17.4] , y[3]: 20.             \n",
        "```"
      ],
      "id": "adapted-brief"
    },
    {
      "cell_type": "code",
      "metadata": {
        "id": "conscious-teaching"
      },
      "source": [
        "# windowing function"
      ],
      "id": "conscious-teaching",
      "execution_count": null,
      "outputs": []
    },
    {
      "cell_type": "code",
      "metadata": {
        "id": "joint-annotation"
      },
      "source": [
        "past, future = (5, 2)\n",
        "X_train, y_train = ...\n",
        "X_test, y_test = ..."
      ],
      "id": "joint-annotation",
      "execution_count": null,
      "outputs": []
    },
    {
      "cell_type": "markdown",
      "metadata": {
        "id": "electrical-junior"
      },
      "source": [
        "<a name='3.2'></a>\n",
        "## Cuestión 2: Cree un modelo recurrente de dos capas GRU para predecir con las ventanas de la cuestión anterior.\n"
      ],
      "id": "electrical-junior"
    },
    {
      "cell_type": "code",
      "metadata": {
        "id": "aboriginal-complaint"
      },
      "source": [
        "inputs = keras.layers.Input(shape=(..., ...))\n",
        "...\n",
        "model = keras.Model(inputs=..., outputs=...)\n",
        "model.compile(...)\n",
        "model.summary()"
      ],
      "id": "aboriginal-complaint",
      "execution_count": null,
      "outputs": []
    },
    {
      "cell_type": "code",
      "metadata": {
        "id": "applicable-longer"
      },
      "source": [
        "es_callback = keras.callbacks.EarlyStopping(\n",
        "    monitor=\"val_loss\", min_delta=0, patience=10)\n",
        "\n",
        "history = model.fit(\n",
        "    X_train, y_train,\n",
        "    epochs=200,\n",
        "    validation_split=0.2, shuffle=True, batch_size = 64, callbacks=[es_callback]\n",
        ")"
      ],
      "id": "applicable-longer",
      "execution_count": null,
      "outputs": []
    },
    {
      "cell_type": "code",
      "metadata": {
        "id": "stone-province"
      },
      "source": [
        "results = model.evaluate(X_test, y_test, verbose=1)\n",
        "print('Test Loss: {}'.format(results))"
      ],
      "id": "stone-province",
      "execution_count": null,
      "outputs": []
    },
    {
      "cell_type": "markdown",
      "metadata": {
        "id": "genetic-guitar"
      },
      "source": [
        "<a name='3.3'></a>\n",
        "## Cuestión 3: Añada más features a la series temporal, por ejemplo `portion_year`. Cree un modelo que mejore al anterior.\n"
      ],
      "id": "genetic-guitar"
    },
    {
      "cell_type": "code",
      "metadata": {
        "id": "prospective-master"
      },
      "source": [
        "## Puede añadir más features\n",
        "df['portion_year'] = df['Date'].dt.dayofyear / 365.0\n",
        "df_multi = df[['Temp', 'portion_year']].copy()\n",
        "\n",
        "## train - test split\n",
        "train_data = df_multi.iloc[:3000].copy()\n",
        "test_data = df_multi.loc[3000:, :].copy()"
      ],
      "id": "prospective-master",
      "execution_count": null,
      "outputs": []
    },
    {
      "cell_type": "code",
      "metadata": {
        "id": "threaded-sheriff"
      },
      "source": [
        "## Create windows\n",
        "X_train, y_train = ...\n",
        "X_test, y_test = ..."
      ],
      "id": "threaded-sheriff",
      "execution_count": null,
      "outputs": []
    },
    {
      "cell_type": "code",
      "metadata": {
        "id": "stable-estate"
      },
      "source": [
        "inputs = keras.layers.Input(shape=(..., ...))\n",
        "...\n",
        "model = keras.Model(inputs=..., outputs=...)\n",
        "model.compile(...)\n",
        "model.summary()"
      ],
      "id": "stable-estate",
      "execution_count": null,
      "outputs": []
    },
    {
      "cell_type": "code",
      "metadata": {
        "id": "structured-philip"
      },
      "source": [
        "es_callback = keras.callbacks.EarlyStopping(\n",
        "    monitor=\"val_loss\", min_delta=0, patience=10)\n",
        "\n",
        "history = model.fit(\n",
        "    X_train, y_train,\n",
        "    epochs=200,\n",
        "    validation_split=0.2, shuffle=True, batch_size = 64, callbacks=[es_callback]\n",
        ")"
      ],
      "id": "structured-philip",
      "execution_count": null,
      "outputs": []
    },
    {
      "cell_type": "code",
      "metadata": {
        "id": "assigned-afternoon"
      },
      "source": [
        "results = model.evaluate(X_test, y_test, verbose=1)\n",
        "print('Test Loss: {}'.format(results))"
      ],
      "id": "assigned-afternoon",
      "execution_count": null,
      "outputs": []
    },
    {
      "cell_type": "markdown",
      "metadata": {
        "id": "precise-tract"
      },
      "source": [
        "<a name='3.4'></a>\n",
        "## Cuestión 4: ¿En cuáles de estas aplicaciones se usaría un arquitectura 'many-to-one'?\n",
        "\n",
        "**a)** Clasificación de sentimiento en textos\n",
        "\n",
        "**b)** Verificación de voz para iniciar el ordenador.\n",
        "\n",
        "**c)** Generación de música.\n",
        "\n",
        "**d)** Un clasificador que clasifique piezas de música según su autor.\n"
      ],
      "id": "precise-tract"
    },
    {
      "cell_type": "markdown",
      "metadata": {
        "id": "professional-mayor"
      },
      "source": [
        ""
      ],
      "id": "professional-mayor"
    },
    {
      "cell_type": "markdown",
      "metadata": {
        "id": "fallen-error"
      },
      "source": [
        "<a name='3.5'></a>\n",
        "## Cuestión 5: ¿Qué ventajas aporta el uso de word embeddings?\n",
        "\n",
        "**a)** Permiten reducir la dimensión de entrada respecto al one-hot encoding.\n",
        "\n",
        "**b)** Permiten descubrir la similaridad entre palabras de manera más intuitiva que con one-hot encoding.\n",
        "\n",
        "**c)** Son una manera de realizar transfer learning en nlp.\n",
        "\n",
        "**d)** Permiten visualizar las relaciones entre palabras con métodos de reducción de dimensioones como el PCA.\n"
      ],
      "id": "fallen-error"
    },
    {
      "cell_type": "markdown",
      "metadata": {
        "id": "stylish-polish"
      },
      "source": [
        ""
      ],
      "id": "stylish-polish"
    }
  ]
}